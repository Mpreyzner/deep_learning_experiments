{
 "cells": [
  {
   "cell_type": "code",
   "execution_count": 1,
   "metadata": {},
   "outputs": [],
   "source": [
    "%reload_ext autoreload\n",
    "%autoreload 2\n",
    "%matplotlib inline"
   ]
  },
  {
   "cell_type": "code",
   "execution_count": 2,
   "metadata": {},
   "outputs": [],
   "source": [
    "from fastai.text import *"
   ]
  },
  {
   "cell_type": "code",
   "execution_count": 3,
   "metadata": {},
   "outputs": [],
   "source": [
    "def shutdown():\n",
    "    os.system('sudo shutdown -h now')"
   ]
  },
  {
   "cell_type": "markdown",
   "metadata": {},
   "source": [
    "# Fake news"
   ]
  },
  {
   "cell_type": "markdown",
   "metadata": {},
   "source": [
    "## Data set\n",
    "with real news too"
   ]
  },
  {
   "cell_type": "markdown",
   "metadata": {},
   "source": [
    "https://github.com/joolsa/fake_real_news_dataset"
   ]
  },
  {
   "cell_type": "markdown",
   "metadata": {},
   "source": [
    "Later maybe try http://www.fakenewschallenge.org/ https://github.com/FakeNewsChallenge/fnc-1"
   ]
  },
  {
   "cell_type": "markdown",
   "metadata": {},
   "source": [
    "Later try polish and test on those stupid tweets"
   ]
  },
  {
   "cell_type": "markdown",
   "metadata": {},
   "source": [
    "But would model preserve some learning on this vs on a different language?"
   ]
  },
  {
   "cell_type": "markdown",
   "metadata": {},
   "source": [
    "## Dowload and get data into databuch"
   ]
  },
  {
   "cell_type": "code",
   "execution_count": 4,
   "metadata": {},
   "outputs": [],
   "source": [
    "path = Config.data_path()/'fakenews'\n",
    "path.mkdir(parents=True, exist_ok=True)"
   ]
  },
  {
   "cell_type": "code",
   "execution_count": 29,
   "metadata": {},
   "outputs": [
    {
     "name": "stdout",
     "output_type": "stream",
     "text": [
      "--2019-07-14 20:52:45--  https://github.com/joolsa/fake_real_news_dataset/raw/master/fake_or_real_news.csv.zip\n",
      "Resolving github.com (github.com)... 140.82.118.3\n",
      "Connecting to github.com (github.com)|140.82.118.3|:443... connected.\n",
      "HTTP request sent, awaiting response... 302 Found\n",
      "Location: https://raw.githubusercontent.com/joolsa/fake_real_news_dataset/master/fake_or_real_news.csv.zip [following]\n",
      "--2019-07-14 20:52:45--  https://raw.githubusercontent.com/joolsa/fake_real_news_dataset/master/fake_or_real_news.csv.zip\n",
      "Resolving raw.githubusercontent.com (raw.githubusercontent.com)... 151.101.0.133, 151.101.64.133, 151.101.128.133, ...\n",
      "Connecting to raw.githubusercontent.com (raw.githubusercontent.com)|151.101.0.133|:443... connected.\n",
      "HTTP request sent, awaiting response... 200 OK\n",
      "Length: 11878108 (11M) [application/zip]\n",
      "Saving to: ‘github.com/joolsa/fake_real_news_dataset/raw/master/fake_or_real_news.csv.zip’\n",
      "\n",
      "github.com/joolsa/f 100%[===================>]  11.33M  --.-KB/s    in 0.05s   \n",
      "\n",
      "2019-07-14 20:52:46 (221 MB/s) - ‘github.com/joolsa/fake_real_news_dataset/raw/master/fake_or_real_news.csv.zip’ saved [11878108/11878108]\n",
      "\n",
      "/home/jupyter/.fastai/data/fakenews: Scheme missing.\n",
      "FINISHED --2019-07-14 20:52:46--\n",
      "Total wall clock time: 0.8s\n",
      "Downloaded: 1 files, 11M in 0.05s (221 MB/s)\n"
     ]
    }
   ],
   "source": [
    "# ! wget https://github.com/joolsa/fake_real_news_dataset/raw/master/fake_or_real_news.csv.zip -p {path}"
   ]
  },
  {
   "cell_type": "code",
   "execution_count": 31,
   "metadata": {},
   "outputs": [
    {
     "name": "stdout",
     "output_type": "stream",
     "text": [
      "Archive:  /home/jupyter/.fastai/data/fakenews/fake_or_real_news.csv.zip\n",
      "  inflating: /home/jupyter/.fastai/data/fakenews/fake_or_real_news.csv  \n",
      "   creating: /home/jupyter/.fastai/data/fakenews/__MACOSX/\n",
      "  inflating: /home/jupyter/.fastai/data/fakenews/__MACOSX/._fake_or_real_news.csv  \n"
     ]
    }
   ],
   "source": [
    "! unzip {path}/fake_or_real_news.csv.zip -d {path}"
   ]
  },
  {
   "cell_type": "code",
   "execution_count": 32,
   "metadata": {},
   "outputs": [
    {
     "data": {
      "text/plain": [
       "[PosixPath('/home/jupyter/.fastai/data/fakenews/fake_or_real_news.csv'),\n",
       " PosixPath('/home/jupyter/.fastai/data/fakenews/fake_or_real_news.csv.zip'),\n",
       " PosixPath('/home/jupyter/.fastai/data/fakenews/models'),\n",
       " PosixPath('/home/jupyter/.fastai/data/fakenews/__MACOSX')]"
      ]
     },
     "execution_count": 32,
     "metadata": {},
     "output_type": "execute_result"
    }
   ],
   "source": [
    "path.ls()"
   ]
  },
  {
   "cell_type": "code",
   "execution_count": 5,
   "metadata": {},
   "outputs": [],
   "source": [
    "csv_file = 'fake_or_real_news.csv'"
   ]
  },
  {
   "cell_type": "code",
   "execution_count": 6,
   "metadata": {},
   "outputs": [],
   "source": [
    "df = pd.read_csv(path/csv_file)"
   ]
  },
  {
   "cell_type": "code",
   "execution_count": 7,
   "metadata": {},
   "outputs": [
    {
     "data": {
      "text/html": [
       "<div>\n",
       "<style scoped>\n",
       "    .dataframe tbody tr th:only-of-type {\n",
       "        vertical-align: middle;\n",
       "    }\n",
       "\n",
       "    .dataframe tbody tr th {\n",
       "        vertical-align: top;\n",
       "    }\n",
       "\n",
       "    .dataframe thead th {\n",
       "        text-align: right;\n",
       "    }\n",
       "</style>\n",
       "<table border=\"1\" class=\"dataframe\">\n",
       "  <thead>\n",
       "    <tr style=\"text-align: right;\">\n",
       "      <th></th>\n",
       "      <th>Unnamed: 0</th>\n",
       "      <th>title</th>\n",
       "      <th>text</th>\n",
       "      <th>label</th>\n",
       "    </tr>\n",
       "  </thead>\n",
       "  <tbody>\n",
       "    <tr>\n",
       "      <th>0</th>\n",
       "      <td>8476</td>\n",
       "      <td>You Can Smell Hillary’s Fear</td>\n",
       "      <td>Daniel Greenfield, a Shillman Journalism Fello...</td>\n",
       "      <td>FAKE</td>\n",
       "    </tr>\n",
       "    <tr>\n",
       "      <th>1</th>\n",
       "      <td>10294</td>\n",
       "      <td>Watch The Exact Moment Paul Ryan Committed Pol...</td>\n",
       "      <td>Google Pinterest Digg Linkedin Reddit Stumbleu...</td>\n",
       "      <td>FAKE</td>\n",
       "    </tr>\n",
       "    <tr>\n",
       "      <th>2</th>\n",
       "      <td>3608</td>\n",
       "      <td>Kerry to go to Paris in gesture of sympathy</td>\n",
       "      <td>U.S. Secretary of State John F. Kerry said Mon...</td>\n",
       "      <td>REAL</td>\n",
       "    </tr>\n",
       "    <tr>\n",
       "      <th>3</th>\n",
       "      <td>10142</td>\n",
       "      <td>Bernie supporters on Twitter erupt in anger ag...</td>\n",
       "      <td>— Kaydee King (@KaydeeKing) November 9, 2016 T...</td>\n",
       "      <td>FAKE</td>\n",
       "    </tr>\n",
       "    <tr>\n",
       "      <th>4</th>\n",
       "      <td>875</td>\n",
       "      <td>The Battle of New York: Why This Primary Matters</td>\n",
       "      <td>It's primary day in New York and front-runners...</td>\n",
       "      <td>REAL</td>\n",
       "    </tr>\n",
       "  </tbody>\n",
       "</table>\n",
       "</div>"
      ],
      "text/plain": [
       "   Unnamed: 0                                              title  \\\n",
       "0        8476                       You Can Smell Hillary’s Fear   \n",
       "1       10294  Watch The Exact Moment Paul Ryan Committed Pol...   \n",
       "2        3608        Kerry to go to Paris in gesture of sympathy   \n",
       "3       10142  Bernie supporters on Twitter erupt in anger ag...   \n",
       "4         875   The Battle of New York: Why This Primary Matters   \n",
       "\n",
       "                                                text label  \n",
       "0  Daniel Greenfield, a Shillman Journalism Fello...  FAKE  \n",
       "1  Google Pinterest Digg Linkedin Reddit Stumbleu...  FAKE  \n",
       "2  U.S. Secretary of State John F. Kerry said Mon...  REAL  \n",
       "3  — Kaydee King (@KaydeeKing) November 9, 2016 T...  FAKE  \n",
       "4  It's primary day in New York and front-runners...  REAL  "
      ]
     },
     "execution_count": 7,
     "metadata": {},
     "output_type": "execute_result"
    }
   ],
   "source": [
    "df.head()"
   ]
  },
  {
   "cell_type": "code",
   "execution_count": 7,
   "metadata": {},
   "outputs": [
    {
     "data": {
      "text/plain": [
       "'Print They should pay all the back all the money plus interest. The entire family and everyone who came in with them need to be deported asap. Why did it take two years to bust them? \\nHere we go again …another group stealing from the government and taxpayers! A group of Somalis stole over four million in government benefits over just 10 months! \\nWe’ve reported on numerous cases like this one where the Muslim refugees/immigrants commit fraud by scamming our system…It’s way out of control! More Related'"
      ]
     },
     "execution_count": 7,
     "metadata": {},
     "output_type": "execute_result"
    }
   ],
   "source": [
    "df['text'][0]"
   ]
  },
  {
   "cell_type": "code",
   "execution_count": 9,
   "metadata": {},
   "outputs": [],
   "source": [
    "# df[['author','title', 'text']] = df[['author','title', 'text']].fillna('')"
   ]
  },
  {
   "cell_type": "code",
   "execution_count": 36,
   "metadata": {
    "collapsed": true
   },
   "outputs": [
    {
     "name": "stderr",
     "output_type": "stream",
     "text": [
      "/opt/anaconda3/lib/python3.7/site-packages/fastai/data_block.py:451: UserWarning: Your training set is empty. If this is by design, pass `ignore_empty=True` to remove this warning.\n",
      "  warn(\"Your training set is empty. If this is by design, pass `ignore_empty=True` to remove this warning.\")\n"
     ]
    },
    {
     "ename": "IndexError",
     "evalue": "index 0 is out of bounds for axis 0 with size 0",
     "output_type": "error",
     "traceback": [
      "\u001b[0;31m---------------------------------------------------------------------------\u001b[0m",
      "\u001b[0;31mIndexError\u001b[0m                                Traceback (most recent call last)",
      "\u001b[0;32m<ipython-input-36-53e3319935e4>\u001b[0m in \u001b[0;36m<module>\u001b[0;34m\u001b[0m\n\u001b[1;32m      1\u001b[0m data_lm = (TextList.from_df(df, path, cols='text')\n\u001b[1;32m      2\u001b[0m                 \u001b[0;34m.\u001b[0m\u001b[0msplit_from_df\u001b[0m\u001b[0;34m(\u001b[0m\u001b[0mcol\u001b[0m\u001b[0;34m=\u001b[0m\u001b[0;36m2\u001b[0m\u001b[0;34m)\u001b[0m\u001b[0;34m\u001b[0m\u001b[0;34m\u001b[0m\u001b[0m\n\u001b[0;32m----> 3\u001b[0;31m                 \u001b[0;34m.\u001b[0m\u001b[0mlabel_from_df\u001b[0m\u001b[0;34m(\u001b[0m\u001b[0mcols\u001b[0m\u001b[0;34m=\u001b[0m\u001b[0;34m'label'\u001b[0m\u001b[0;34m)\u001b[0m\u001b[0;34m\u001b[0m\u001b[0;34m\u001b[0m\u001b[0m\n\u001b[0m\u001b[1;32m      4\u001b[0m                 .databunch())\n",
      "\u001b[0;32m/opt/anaconda3/lib/python3.7/site-packages/fastai/data_block.py\u001b[0m in \u001b[0;36m_inner\u001b[0;34m(*args, **kwargs)\u001b[0m\n\u001b[1;32m    470\u001b[0m         \u001b[0;32massert\u001b[0m \u001b[0misinstance\u001b[0m\u001b[0;34m(\u001b[0m\u001b[0mfv\u001b[0m\u001b[0;34m,\u001b[0m \u001b[0mCallable\u001b[0m\u001b[0;34m)\u001b[0m\u001b[0;34m\u001b[0m\u001b[0;34m\u001b[0m\u001b[0m\n\u001b[1;32m    471\u001b[0m         \u001b[0;32mdef\u001b[0m \u001b[0m_inner\u001b[0m\u001b[0;34m(\u001b[0m\u001b[0;34m*\u001b[0m\u001b[0margs\u001b[0m\u001b[0;34m,\u001b[0m \u001b[0;34m**\u001b[0m\u001b[0mkwargs\u001b[0m\u001b[0;34m)\u001b[0m\u001b[0;34m:\u001b[0m\u001b[0;34m\u001b[0m\u001b[0;34m\u001b[0m\u001b[0m\n\u001b[0;32m--> 472\u001b[0;31m             \u001b[0mself\u001b[0m\u001b[0;34m.\u001b[0m\u001b[0mtrain\u001b[0m \u001b[0;34m=\u001b[0m \u001b[0mft\u001b[0m\u001b[0;34m(\u001b[0m\u001b[0;34m*\u001b[0m\u001b[0margs\u001b[0m\u001b[0;34m,\u001b[0m \u001b[0mfrom_item_lists\u001b[0m\u001b[0;34m=\u001b[0m\u001b[0;32mTrue\u001b[0m\u001b[0;34m,\u001b[0m \u001b[0;34m**\u001b[0m\u001b[0mkwargs\u001b[0m\u001b[0;34m)\u001b[0m\u001b[0;34m\u001b[0m\u001b[0;34m\u001b[0m\u001b[0m\n\u001b[0m\u001b[1;32m    473\u001b[0m             \u001b[0;32massert\u001b[0m \u001b[0misinstance\u001b[0m\u001b[0;34m(\u001b[0m\u001b[0mself\u001b[0m\u001b[0;34m.\u001b[0m\u001b[0mtrain\u001b[0m\u001b[0;34m,\u001b[0m \u001b[0mLabelList\u001b[0m\u001b[0;34m)\u001b[0m\u001b[0;34m\u001b[0m\u001b[0;34m\u001b[0m\u001b[0m\n\u001b[1;32m    474\u001b[0m             \u001b[0mkwargs\u001b[0m\u001b[0;34m[\u001b[0m\u001b[0;34m'label_cls'\u001b[0m\u001b[0;34m]\u001b[0m \u001b[0;34m=\u001b[0m \u001b[0mself\u001b[0m\u001b[0;34m.\u001b[0m\u001b[0mtrain\u001b[0m\u001b[0;34m.\u001b[0m\u001b[0my\u001b[0m\u001b[0;34m.\u001b[0m\u001b[0m__class__\u001b[0m\u001b[0;34m\u001b[0m\u001b[0;34m\u001b[0m\u001b[0m\n",
      "\u001b[0;32m/opt/anaconda3/lib/python3.7/site-packages/fastai/data_block.py\u001b[0m in \u001b[0;36mlabel_from_df\u001b[0;34m(self, cols, label_cls, **kwargs)\u001b[0m\n\u001b[1;32m    281\u001b[0m             \u001b[0mnew_kwargs\u001b[0m\u001b[0;34m,\u001b[0m\u001b[0mlabel_cls\u001b[0m \u001b[0;34m=\u001b[0m \u001b[0mdict\u001b[0m\u001b[0;34m(\u001b[0m\u001b[0mone_hot\u001b[0m\u001b[0;34m=\u001b[0m\u001b[0;32mTrue\u001b[0m\u001b[0;34m,\u001b[0m \u001b[0mclasses\u001b[0m\u001b[0;34m=\u001b[0m \u001b[0mcols\u001b[0m\u001b[0;34m)\u001b[0m\u001b[0;34m,\u001b[0m\u001b[0mMultiCategoryList\u001b[0m\u001b[0;34m\u001b[0m\u001b[0;34m\u001b[0m\u001b[0m\n\u001b[1;32m    282\u001b[0m             \u001b[0mkwargs\u001b[0m \u001b[0;34m=\u001b[0m \u001b[0;34m{\u001b[0m\u001b[0;34m**\u001b[0m\u001b[0mnew_kwargs\u001b[0m\u001b[0;34m,\u001b[0m \u001b[0;34m**\u001b[0m\u001b[0mkwargs\u001b[0m\u001b[0;34m}\u001b[0m\u001b[0;34m\u001b[0m\u001b[0;34m\u001b[0m\u001b[0m\n\u001b[0;32m--> 283\u001b[0;31m         \u001b[0;32mreturn\u001b[0m \u001b[0mself\u001b[0m\u001b[0;34m.\u001b[0m\u001b[0m_label_from_list\u001b[0m\u001b[0;34m(\u001b[0m\u001b[0m_maybe_squeeze\u001b[0m\u001b[0;34m(\u001b[0m\u001b[0mlabels\u001b[0m\u001b[0;34m)\u001b[0m\u001b[0;34m,\u001b[0m \u001b[0mlabel_cls\u001b[0m\u001b[0;34m=\u001b[0m\u001b[0mlabel_cls\u001b[0m\u001b[0;34m,\u001b[0m \u001b[0;34m**\u001b[0m\u001b[0mkwargs\u001b[0m\u001b[0;34m)\u001b[0m\u001b[0;34m\u001b[0m\u001b[0;34m\u001b[0m\u001b[0m\n\u001b[0m\u001b[1;32m    284\u001b[0m \u001b[0;34m\u001b[0m\u001b[0m\n\u001b[1;32m    285\u001b[0m     \u001b[0;32mdef\u001b[0m \u001b[0mlabel_const\u001b[0m\u001b[0;34m(\u001b[0m\u001b[0mself\u001b[0m\u001b[0;34m,\u001b[0m \u001b[0mconst\u001b[0m\u001b[0;34m:\u001b[0m\u001b[0mAny\u001b[0m\u001b[0;34m=\u001b[0m\u001b[0;36m0\u001b[0m\u001b[0;34m,\u001b[0m \u001b[0mlabel_cls\u001b[0m\u001b[0;34m:\u001b[0m\u001b[0mCallable\u001b[0m\u001b[0;34m=\u001b[0m\u001b[0;32mNone\u001b[0m\u001b[0;34m,\u001b[0m \u001b[0;34m**\u001b[0m\u001b[0mkwargs\u001b[0m\u001b[0;34m)\u001b[0m\u001b[0;34m->\u001b[0m\u001b[0;34m'LabelList'\u001b[0m\u001b[0;34m:\u001b[0m\u001b[0;34m\u001b[0m\u001b[0;34m\u001b[0m\u001b[0m\n",
      "\u001b[0;32m/opt/anaconda3/lib/python3.7/site-packages/fastai/data_block.py\u001b[0m in \u001b[0;36m_label_from_list\u001b[0;34m(self, labels, label_cls, from_item_lists, **kwargs)\u001b[0m\n\u001b[1;32m    269\u001b[0m             \u001b[0;32mraise\u001b[0m \u001b[0mException\u001b[0m\u001b[0;34m(\u001b[0m\u001b[0;34m\"Your data isn't split, if you don't want a validation set, please use `split_none`.\"\u001b[0m\u001b[0;34m)\u001b[0m\u001b[0;34m\u001b[0m\u001b[0;34m\u001b[0m\u001b[0m\n\u001b[1;32m    270\u001b[0m         \u001b[0mlabels\u001b[0m \u001b[0;34m=\u001b[0m \u001b[0marray\u001b[0m\u001b[0;34m(\u001b[0m\u001b[0mlabels\u001b[0m\u001b[0;34m,\u001b[0m \u001b[0mdtype\u001b[0m\u001b[0;34m=\u001b[0m\u001b[0mobject\u001b[0m\u001b[0;34m)\u001b[0m\u001b[0;34m\u001b[0m\u001b[0;34m\u001b[0m\u001b[0m\n\u001b[0;32m--> 271\u001b[0;31m         \u001b[0mlabel_cls\u001b[0m \u001b[0;34m=\u001b[0m \u001b[0mself\u001b[0m\u001b[0;34m.\u001b[0m\u001b[0mget_label_cls\u001b[0m\u001b[0;34m(\u001b[0m\u001b[0mlabels\u001b[0m\u001b[0;34m,\u001b[0m \u001b[0mlabel_cls\u001b[0m\u001b[0;34m=\u001b[0m\u001b[0mlabel_cls\u001b[0m\u001b[0;34m,\u001b[0m \u001b[0;34m**\u001b[0m\u001b[0mkwargs\u001b[0m\u001b[0;34m)\u001b[0m\u001b[0;34m\u001b[0m\u001b[0;34m\u001b[0m\u001b[0m\n\u001b[0m\u001b[1;32m    272\u001b[0m         \u001b[0my\u001b[0m \u001b[0;34m=\u001b[0m \u001b[0mlabel_cls\u001b[0m\u001b[0;34m(\u001b[0m\u001b[0mlabels\u001b[0m\u001b[0;34m,\u001b[0m \u001b[0mpath\u001b[0m\u001b[0;34m=\u001b[0m\u001b[0mself\u001b[0m\u001b[0;34m.\u001b[0m\u001b[0mpath\u001b[0m\u001b[0;34m,\u001b[0m \u001b[0;34m**\u001b[0m\u001b[0mkwargs\u001b[0m\u001b[0;34m)\u001b[0m\u001b[0;34m\u001b[0m\u001b[0;34m\u001b[0m\u001b[0m\n\u001b[1;32m    273\u001b[0m         \u001b[0mres\u001b[0m \u001b[0;34m=\u001b[0m \u001b[0mself\u001b[0m\u001b[0;34m.\u001b[0m\u001b[0m_label_list\u001b[0m\u001b[0;34m(\u001b[0m\u001b[0mx\u001b[0m\u001b[0;34m=\u001b[0m\u001b[0mself\u001b[0m\u001b[0;34m,\u001b[0m \u001b[0my\u001b[0m\u001b[0;34m=\u001b[0m\u001b[0my\u001b[0m\u001b[0;34m)\u001b[0m\u001b[0;34m\u001b[0m\u001b[0;34m\u001b[0m\u001b[0m\n",
      "\u001b[0;32m/opt/anaconda3/lib/python3.7/site-packages/fastai/data_block.py\u001b[0m in \u001b[0;36mget_label_cls\u001b[0;34m(self, labels, label_cls, label_delim, **kwargs)\u001b[0m\n\u001b[1;32m    258\u001b[0m         \u001b[0;32mif\u001b[0m \u001b[0mself\u001b[0m\u001b[0;34m.\u001b[0m\u001b[0mlabel_cls\u001b[0m \u001b[0;32mis\u001b[0m \u001b[0;32mnot\u001b[0m \u001b[0;32mNone\u001b[0m\u001b[0;34m:\u001b[0m          \u001b[0;32mreturn\u001b[0m \u001b[0mself\u001b[0m\u001b[0;34m.\u001b[0m\u001b[0mlabel_cls\u001b[0m\u001b[0;34m\u001b[0m\u001b[0;34m\u001b[0m\u001b[0m\n\u001b[1;32m    259\u001b[0m         \u001b[0;32mif\u001b[0m \u001b[0mlabel_delim\u001b[0m \u001b[0;32mis\u001b[0m \u001b[0;32mnot\u001b[0m \u001b[0;32mNone\u001b[0m\u001b[0;34m:\u001b[0m             \u001b[0;32mreturn\u001b[0m \u001b[0mMultiCategoryList\u001b[0m\u001b[0;34m\u001b[0m\u001b[0;34m\u001b[0m\u001b[0m\n\u001b[0;32m--> 260\u001b[0;31m         \u001b[0mit\u001b[0m \u001b[0;34m=\u001b[0m \u001b[0mindex_row\u001b[0m\u001b[0;34m(\u001b[0m\u001b[0mlabels\u001b[0m\u001b[0;34m,\u001b[0m\u001b[0;36m0\u001b[0m\u001b[0;34m)\u001b[0m\u001b[0;34m\u001b[0m\u001b[0;34m\u001b[0m\u001b[0m\n\u001b[0m\u001b[1;32m    261\u001b[0m         \u001b[0;32mif\u001b[0m \u001b[0misinstance\u001b[0m\u001b[0;34m(\u001b[0m\u001b[0mit\u001b[0m\u001b[0;34m,\u001b[0m \u001b[0;34m(\u001b[0m\u001b[0mfloat\u001b[0m\u001b[0;34m,\u001b[0m \u001b[0mnp\u001b[0m\u001b[0;34m.\u001b[0m\u001b[0mfloat32\u001b[0m\u001b[0;34m)\u001b[0m\u001b[0;34m)\u001b[0m\u001b[0;34m:\u001b[0m \u001b[0;32mreturn\u001b[0m \u001b[0mFloatList\u001b[0m\u001b[0;34m\u001b[0m\u001b[0;34m\u001b[0m\u001b[0m\n\u001b[1;32m    262\u001b[0m         \u001b[0;32mif\u001b[0m \u001b[0misinstance\u001b[0m\u001b[0;34m(\u001b[0m\u001b[0mtry_int\u001b[0m\u001b[0;34m(\u001b[0m\u001b[0mit\u001b[0m\u001b[0;34m)\u001b[0m\u001b[0;34m,\u001b[0m \u001b[0;34m(\u001b[0m\u001b[0mstr\u001b[0m\u001b[0;34m,\u001b[0m \u001b[0mIntegral\u001b[0m\u001b[0;34m)\u001b[0m\u001b[0;34m)\u001b[0m\u001b[0;34m:\u001b[0m  \u001b[0;32mreturn\u001b[0m \u001b[0mCategoryList\u001b[0m\u001b[0;34m\u001b[0m\u001b[0;34m\u001b[0m\u001b[0m\n",
      "\u001b[0;32m/opt/anaconda3/lib/python3.7/site-packages/fastai/core.py\u001b[0m in \u001b[0;36mindex_row\u001b[0;34m(a, idxs)\u001b[0m\n\u001b[1;32m    274\u001b[0m         \u001b[0;32mif\u001b[0m \u001b[0misinstance\u001b[0m\u001b[0;34m(\u001b[0m\u001b[0mres\u001b[0m\u001b[0;34m,\u001b[0m\u001b[0;34m(\u001b[0m\u001b[0mpd\u001b[0m\u001b[0;34m.\u001b[0m\u001b[0mDataFrame\u001b[0m\u001b[0;34m,\u001b[0m\u001b[0mpd\u001b[0m\u001b[0;34m.\u001b[0m\u001b[0mSeries\u001b[0m\u001b[0;34m)\u001b[0m\u001b[0;34m)\u001b[0m\u001b[0;34m:\u001b[0m \u001b[0;32mreturn\u001b[0m \u001b[0mres\u001b[0m\u001b[0;34m.\u001b[0m\u001b[0mcopy\u001b[0m\u001b[0;34m(\u001b[0m\u001b[0;34m)\u001b[0m\u001b[0;34m\u001b[0m\u001b[0;34m\u001b[0m\u001b[0m\n\u001b[1;32m    275\u001b[0m         \u001b[0;32mreturn\u001b[0m \u001b[0mres\u001b[0m\u001b[0;34m\u001b[0m\u001b[0;34m\u001b[0m\u001b[0m\n\u001b[0;32m--> 276\u001b[0;31m     \u001b[0;32mreturn\u001b[0m \u001b[0ma\u001b[0m\u001b[0;34m[\u001b[0m\u001b[0midxs\u001b[0m\u001b[0;34m]\u001b[0m\u001b[0;34m\u001b[0m\u001b[0;34m\u001b[0m\u001b[0m\n\u001b[0m\u001b[1;32m    277\u001b[0m \u001b[0;34m\u001b[0m\u001b[0m\n\u001b[1;32m    278\u001b[0m \u001b[0;32mdef\u001b[0m \u001b[0mfunc_args\u001b[0m\u001b[0;34m(\u001b[0m\u001b[0mfunc\u001b[0m\u001b[0;34m)\u001b[0m\u001b[0;34m->\u001b[0m\u001b[0mbool\u001b[0m\u001b[0;34m:\u001b[0m\u001b[0;34m\u001b[0m\u001b[0;34m\u001b[0m\u001b[0m\n",
      "\u001b[0;31mIndexError\u001b[0m: index 0 is out of bounds for axis 0 with size 0"
     ]
    }
   ],
   "source": [
    "data_lm = (TextList.from_df(df, path, cols='text')\n",
    "                .split_from_df(col=2)\n",
    "                .label_from_df(cols='label')\n",
    "                .databunch())"
   ]
  },
  {
   "cell_type": "code",
   "execution_count": null,
   "metadata": {},
   "outputs": [],
   "source": [
    "data_lm.show_batch()"
   ]
  },
  {
   "cell_type": "code",
   "execution_count": null,
   "metadata": {},
   "outputs": [],
   "source": [
    "data_lm.save()"
   ]
  },
  {
   "cell_type": "code",
   "execution_count": 8,
   "metadata": {},
   "outputs": [
    {
     "ename": "FileNotFoundError",
     "evalue": "[Errno 2] No such file or directory: '/home/jupyter/.fastai/data/fakenews/data_save.pkl'",
     "output_type": "error",
     "traceback": [
      "\u001b[0;31m---------------------------------------------------------------------------\u001b[0m",
      "\u001b[0;31mFileNotFoundError\u001b[0m                         Traceback (most recent call last)",
      "\u001b[0;32m<ipython-input-8-b64208fc2e88>\u001b[0m in \u001b[0;36m<module>\u001b[0;34m\u001b[0m\n\u001b[0;32m----> 1\u001b[0;31m \u001b[0mdata\u001b[0m \u001b[0;34m=\u001b[0m \u001b[0mload_data\u001b[0m\u001b[0;34m(\u001b[0m\u001b[0mpath\u001b[0m\u001b[0;34m)\u001b[0m\u001b[0;34m\u001b[0m\u001b[0;34m\u001b[0m\u001b[0m\n\u001b[0m",
      "\u001b[0;32m/opt/anaconda3/lib/python3.7/site-packages/fastai/basic_data.py\u001b[0m in \u001b[0;36mload_data\u001b[0;34m(path, file, bs, val_bs, num_workers, dl_tfms, device, collate_fn, no_check, **kwargs)\u001b[0m\n\u001b[1;32m    275\u001b[0m     \u001b[0;34m\"Load a saved `DataBunch` from `path/file`. `file` can be file-like (file or buffer)\"\u001b[0m\u001b[0;34m\u001b[0m\u001b[0;34m\u001b[0m\u001b[0m\n\u001b[1;32m    276\u001b[0m     \u001b[0msource\u001b[0m \u001b[0;34m=\u001b[0m \u001b[0mPath\u001b[0m\u001b[0;34m(\u001b[0m\u001b[0mpath\u001b[0m\u001b[0;34m)\u001b[0m\u001b[0;34m/\u001b[0m\u001b[0mfile\u001b[0m \u001b[0;32mif\u001b[0m \u001b[0mis_pathlike\u001b[0m\u001b[0;34m(\u001b[0m\u001b[0mfile\u001b[0m\u001b[0;34m)\u001b[0m \u001b[0;32melse\u001b[0m \u001b[0mfile\u001b[0m\u001b[0;34m\u001b[0m\u001b[0;34m\u001b[0m\u001b[0m\n\u001b[0;32m--> 277\u001b[0;31m     \u001b[0mll\u001b[0m \u001b[0;34m=\u001b[0m \u001b[0mtorch\u001b[0m\u001b[0;34m.\u001b[0m\u001b[0mload\u001b[0m\u001b[0;34m(\u001b[0m\u001b[0msource\u001b[0m\u001b[0;34m,\u001b[0m \u001b[0mmap_location\u001b[0m\u001b[0;34m=\u001b[0m\u001b[0;34m'cpu'\u001b[0m\u001b[0;34m)\u001b[0m \u001b[0;32mif\u001b[0m \u001b[0mdefaults\u001b[0m\u001b[0;34m.\u001b[0m\u001b[0mdevice\u001b[0m \u001b[0;34m==\u001b[0m \u001b[0mtorch\u001b[0m\u001b[0;34m.\u001b[0m\u001b[0mdevice\u001b[0m\u001b[0;34m(\u001b[0m\u001b[0;34m'cpu'\u001b[0m\u001b[0;34m)\u001b[0m \u001b[0;32melse\u001b[0m \u001b[0mtorch\u001b[0m\u001b[0;34m.\u001b[0m\u001b[0mload\u001b[0m\u001b[0;34m(\u001b[0m\u001b[0msource\u001b[0m\u001b[0;34m)\u001b[0m\u001b[0;34m\u001b[0m\u001b[0;34m\u001b[0m\u001b[0m\n\u001b[0m\u001b[1;32m    278\u001b[0m     return ll.databunch(path=path, bs=bs, val_bs=val_bs, num_workers=num_workers, dl_tfms=dl_tfms, device=device,\n\u001b[1;32m    279\u001b[0m                         collate_fn=collate_fn, no_check=no_check, **kwargs)\n",
      "\u001b[0;32m/opt/anaconda3/lib/python3.7/site-packages/torch/serialization.py\u001b[0m in \u001b[0;36mload\u001b[0;34m(f, map_location, pickle_module, **pickle_load_args)\u001b[0m\n\u001b[1;32m    383\u001b[0m     \u001b[0;32melif\u001b[0m \u001b[0;34m(\u001b[0m\u001b[0msys\u001b[0m\u001b[0;34m.\u001b[0m\u001b[0mversion_info\u001b[0m\u001b[0;34m[\u001b[0m\u001b[0;36m0\u001b[0m\u001b[0;34m]\u001b[0m \u001b[0;34m==\u001b[0m \u001b[0;36m3\u001b[0m \u001b[0;32mand\u001b[0m \u001b[0misinstance\u001b[0m\u001b[0;34m(\u001b[0m\u001b[0mf\u001b[0m\u001b[0;34m,\u001b[0m \u001b[0mpathlib\u001b[0m\u001b[0;34m.\u001b[0m\u001b[0mPath\u001b[0m\u001b[0;34m)\u001b[0m\u001b[0;34m)\u001b[0m\u001b[0;34m:\u001b[0m\u001b[0;34m\u001b[0m\u001b[0;34m\u001b[0m\u001b[0m\n\u001b[1;32m    384\u001b[0m         \u001b[0mnew_fd\u001b[0m \u001b[0;34m=\u001b[0m \u001b[0;32mTrue\u001b[0m\u001b[0;34m\u001b[0m\u001b[0;34m\u001b[0m\u001b[0m\n\u001b[0;32m--> 385\u001b[0;31m         \u001b[0mf\u001b[0m \u001b[0;34m=\u001b[0m \u001b[0mf\u001b[0m\u001b[0;34m.\u001b[0m\u001b[0mopen\u001b[0m\u001b[0;34m(\u001b[0m\u001b[0;34m'rb'\u001b[0m\u001b[0;34m)\u001b[0m\u001b[0;34m\u001b[0m\u001b[0;34m\u001b[0m\u001b[0m\n\u001b[0m\u001b[1;32m    386\u001b[0m     \u001b[0;32mtry\u001b[0m\u001b[0;34m:\u001b[0m\u001b[0;34m\u001b[0m\u001b[0;34m\u001b[0m\u001b[0m\n\u001b[1;32m    387\u001b[0m         \u001b[0;32mreturn\u001b[0m \u001b[0m_load\u001b[0m\u001b[0;34m(\u001b[0m\u001b[0mf\u001b[0m\u001b[0;34m,\u001b[0m \u001b[0mmap_location\u001b[0m\u001b[0;34m,\u001b[0m \u001b[0mpickle_module\u001b[0m\u001b[0;34m,\u001b[0m \u001b[0;34m**\u001b[0m\u001b[0mpickle_load_args\u001b[0m\u001b[0;34m)\u001b[0m\u001b[0;34m\u001b[0m\u001b[0;34m\u001b[0m\u001b[0m\n",
      "\u001b[0;32m/opt/anaconda3/lib/python3.7/pathlib.py\u001b[0m in \u001b[0;36mopen\u001b[0;34m(self, mode, buffering, encoding, errors, newline)\u001b[0m\n\u001b[1;32m   1184\u001b[0m             \u001b[0mself\u001b[0m\u001b[0;34m.\u001b[0m\u001b[0m_raise_closed\u001b[0m\u001b[0;34m(\u001b[0m\u001b[0;34m)\u001b[0m\u001b[0;34m\u001b[0m\u001b[0;34m\u001b[0m\u001b[0m\n\u001b[1;32m   1185\u001b[0m         return io.open(self, mode, buffering, encoding, errors, newline,\n\u001b[0;32m-> 1186\u001b[0;31m                        opener=self._opener)\n\u001b[0m\u001b[1;32m   1187\u001b[0m \u001b[0;34m\u001b[0m\u001b[0m\n\u001b[1;32m   1188\u001b[0m     \u001b[0;32mdef\u001b[0m \u001b[0mread_bytes\u001b[0m\u001b[0;34m(\u001b[0m\u001b[0mself\u001b[0m\u001b[0;34m)\u001b[0m\u001b[0;34m:\u001b[0m\u001b[0;34m\u001b[0m\u001b[0;34m\u001b[0m\u001b[0m\n",
      "\u001b[0;32m/opt/anaconda3/lib/python3.7/pathlib.py\u001b[0m in \u001b[0;36m_opener\u001b[0;34m(self, name, flags, mode)\u001b[0m\n\u001b[1;32m   1037\u001b[0m     \u001b[0;32mdef\u001b[0m \u001b[0m_opener\u001b[0m\u001b[0;34m(\u001b[0m\u001b[0mself\u001b[0m\u001b[0;34m,\u001b[0m \u001b[0mname\u001b[0m\u001b[0;34m,\u001b[0m \u001b[0mflags\u001b[0m\u001b[0;34m,\u001b[0m \u001b[0mmode\u001b[0m\u001b[0;34m=\u001b[0m\u001b[0;36m0o666\u001b[0m\u001b[0;34m)\u001b[0m\u001b[0;34m:\u001b[0m\u001b[0;34m\u001b[0m\u001b[0;34m\u001b[0m\u001b[0m\n\u001b[1;32m   1038\u001b[0m         \u001b[0;31m# A stub for the opener argument to built-in open()\u001b[0m\u001b[0;34m\u001b[0m\u001b[0;34m\u001b[0m\u001b[0;34m\u001b[0m\u001b[0m\n\u001b[0;32m-> 1039\u001b[0;31m         \u001b[0;32mreturn\u001b[0m \u001b[0mself\u001b[0m\u001b[0;34m.\u001b[0m\u001b[0m_accessor\u001b[0m\u001b[0;34m.\u001b[0m\u001b[0mopen\u001b[0m\u001b[0;34m(\u001b[0m\u001b[0mself\u001b[0m\u001b[0;34m,\u001b[0m \u001b[0mflags\u001b[0m\u001b[0;34m,\u001b[0m \u001b[0mmode\u001b[0m\u001b[0;34m)\u001b[0m\u001b[0;34m\u001b[0m\u001b[0;34m\u001b[0m\u001b[0m\n\u001b[0m\u001b[1;32m   1040\u001b[0m \u001b[0;34m\u001b[0m\u001b[0m\n\u001b[1;32m   1041\u001b[0m     \u001b[0;32mdef\u001b[0m \u001b[0m_raw_open\u001b[0m\u001b[0;34m(\u001b[0m\u001b[0mself\u001b[0m\u001b[0;34m,\u001b[0m \u001b[0mflags\u001b[0m\u001b[0;34m,\u001b[0m \u001b[0mmode\u001b[0m\u001b[0;34m=\u001b[0m\u001b[0;36m0o777\u001b[0m\u001b[0;34m)\u001b[0m\u001b[0;34m:\u001b[0m\u001b[0;34m\u001b[0m\u001b[0;34m\u001b[0m\u001b[0m\n",
      "\u001b[0;31mFileNotFoundError\u001b[0m: [Errno 2] No such file or directory: '/home/jupyter/.fastai/data/fakenews/data_save.pkl'"
     ]
    }
   ],
   "source": [
    "data = load_data(path)"
   ]
  },
  {
   "cell_type": "markdown",
   "metadata": {},
   "source": [
    "## Tokenization"
   ]
  },
  {
   "cell_type": "code",
   "execution_count": 39,
   "metadata": {},
   "outputs": [],
   "source": [
    "data = (TextList.from_df(df, path, cols='text')\n",
    "                 .split_by_rand_pct(0.1)\n",
    "                .label_from_df(cols='label')\n",
    "                .databunch())"
   ]
  },
  {
   "cell_type": "code",
   "execution_count": 40,
   "metadata": {},
   "outputs": [
    {
     "data": {
      "text/html": [
       "<table border=\"1\" class=\"dataframe\">\n",
       "  <thead>\n",
       "    <tr style=\"text-align: right;\">\n",
       "      <th>text</th>\n",
       "      <th>target</th>\n",
       "    </tr>\n",
       "  </thead>\n",
       "  <tbody>\n",
       "    <tr>\n",
       "      <td>xxbos xxmaj why xxmaj are xxmaj so xxmaj many xxmaj people xxmaj choosing xxmaj to xxmaj leave xxmaj the xxmaj united xxmaj states xxmaj permanently ? xxmaj august 11th , 2013 \\n  xxmaj have things gotten so bad that it is time to leave the xxmaj united xxmaj states for good ? xxmaj that is a question that a lot of xxmaj americans are dealing with these days ,</td>\n",
       "      <td>FAKE</td>\n",
       "    </tr>\n",
       "    <tr>\n",
       "      <td>xxbos xxmaj references xxmaj the xxmaj debate \\n  xxmaj it started when xxmaj daniel xxmaj blatman , an xxmaj israeli historian and head of the xxmaj institute for xxmaj contemporary xxmaj jewry at the xxmaj hebrew xxmaj university of xxmaj jerusalem , penned an op - ed for the xxmaj israeli daily xxmaj haaretz stating that ethnic cleansing “ is exactly what happened in 1948 . ” xxmaj to</td>\n",
       "      <td>FAKE</td>\n",
       "    </tr>\n",
       "    <tr>\n",
       "      <td>xxbos xxmaj america xxmaj has xxmaj become a xxmaj lawless xxmaj nation – xxmaj hillary xxmaj clinton xxmaj magically xxmaj cleared xxmaj by xxmaj the xxup fbi xxmaj by xxmaj michael xxmaj snyder , on xxmaj july 5th , 2016 \\n  xxmaj it is hard to be proud to be an xxmaj american today after watching xxup fbi director xxmaj james xxmaj comey magically clear xxmaj hillary xxmaj clinton</td>\n",
       "      <td>FAKE</td>\n",
       "    </tr>\n",
       "    <tr>\n",
       "      <td>xxbos xxup isis xxmaj takes xxmaj out xxup xxunk xxmaj abrams xxmaj tank with xxmaj american xxup tow xxmaj missile ( video ) ‹ › xxmaj bio by xxmaj jack xxmaj heart : xxmaj my earliest memories were of being surrounded by machinery and a constant deep mechanical humming rose and fell like the breath of xxunk sleep . xxmaj maybe it was the \" mother ship \" or the</td>\n",
       "      <td>FAKE</td>\n",
       "    </tr>\n",
       "    <tr>\n",
       "      <td>xxbos xxmaj now 68 , xxmaj bacevich is a xxmaj west xxmaj point graduate who served a tour in xxmaj vietnam before taking a doctorate in diplomatic history at xxmaj princeton . xxmaj he subsequently taught international relations at xxmaj west xxmaj point and xxmaj johns xxmaj hopkins before joining the xxup xxunk faculty at xxmaj boston xxmaj university in 1998 . xxmaj bacevich is now emeritus and devotes his</td>\n",
       "      <td>REAL</td>\n",
       "    </tr>\n",
       "  </tbody>\n",
       "</table>"
      ],
      "text/plain": [
       "<IPython.core.display.HTML object>"
      ]
     },
     "metadata": {},
     "output_type": "display_data"
    }
   ],
   "source": [
    "data.show_batch()"
   ]
  },
  {
   "cell_type": "code",
   "execution_count": 41,
   "metadata": {},
   "outputs": [
    {
     "data": {
      "text/plain": [
       "['xxunk',\n",
       " 'xxpad',\n",
       " 'xxbos',\n",
       " 'xxeos',\n",
       " 'xxfld',\n",
       " 'xxmaj',\n",
       " 'xxup',\n",
       " 'xxrep',\n",
       " 'xxwrep',\n",
       " 'the']"
      ]
     },
     "execution_count": 41,
     "metadata": {},
     "output_type": "execute_result"
    }
   ],
   "source": [
    "data.vocab.itos[:10]"
   ]
  },
  {
   "cell_type": "markdown",
   "metadata": {},
   "source": [
    "## Language model"
   ]
  },
  {
   "cell_type": "code",
   "execution_count": 7,
   "metadata": {},
   "outputs": [],
   "source": [
    "bs = 48 // 4"
   ]
  },
  {
   "cell_type": "code",
   "execution_count": 43,
   "metadata": {},
   "outputs": [],
   "source": [
    "data_lm = (TextList.from_df(df, path, cols='text')\n",
    "                .split_by_rand_pct(0.1)\n",
    "                .label_for_lm() # this is important !!!\n",
    "                .databunch())"
   ]
  },
  {
   "cell_type": "code",
   "execution_count": 44,
   "metadata": {},
   "outputs": [],
   "source": [
    "data_lm.save('data_lm.pkl')"
   ]
  },
  {
   "cell_type": "code",
   "execution_count": 8,
   "metadata": {},
   "outputs": [],
   "source": [
    "data_lm = load_data(path, 'data_lm.pkl', bs=bs)"
   ]
  },
  {
   "cell_type": "code",
   "execution_count": 9,
   "metadata": {},
   "outputs": [
    {
     "data": {
      "text/html": [
       "<table border=\"1\" class=\"dataframe\">\n",
       "  <thead>\n",
       "    <tr style=\"text-align: right;\">\n",
       "      <th>idx</th>\n",
       "      <th>text</th>\n",
       "    </tr>\n",
       "  </thead>\n",
       "  <tbody>\n",
       "    <tr>\n",
       "      <td>0</td>\n",
       "      <td>often this election that it ought to be retired . xxmaj but it ’s still unprecedented for the nominee of a major political party to go war with the xxup fbi . \\n  xxmaj but that ’s exactly what xxmaj hillary and her people have done . xxmaj coma patients just waking up now and watching an hour of xxup cnn from their hospital beds would assume that xxup</td>\n",
       "    </tr>\n",
       "    <tr>\n",
       "      <td>1</td>\n",
       "      <td>xxmaj new xxmaj hampshire electorate is famously fickle for upending front - runners and defying conventional wisdom and turning its back on winners in xxmaj iowa . a more charitable description is that this is a state where voters keep their options open as long as possible . \\n \\n  xxmaj while it ’s true that many voters have been locked in for weeks or months , a sizable</td>\n",
       "    </tr>\n",
       "    <tr>\n",
       "      <td>2</td>\n",
       "      <td>have been militarized and provided with armored vehicles and weapons of war ” the note says . “ xxmaj when the inevitable collapse begins to take place , electric power to the entire country will be shut off , as will all forms of communication . xxmaj all banks will be immediately closed ; no one will be able to get any money because all xxup atm ’s will be</td>\n",
       "    </tr>\n",
       "    <tr>\n",
       "      <td>3</td>\n",
       "      <td>- percent straight up . xxmaj britain itself appears to be poised for a recession late this year or in early 2017 . xxmaj nevertheless , xxmaj trump missed a fantastic opportunity to sidestep the xxmaj brexit vote and , therefore , to fully blame a would - be recession on xxmaj hillary xxmaj clinton and her allies in the xxmaj obama administration . xxmaj instead , if xxmaj brexit</td>\n",
       "    </tr>\n",
       "    <tr>\n",
       "      <td>4</td>\n",
       "      <td>bit at the beginning and he 's dead serious about xxmaj clinton being wonderfully awesome . \\n  xxmaj this film is a text book illustration of why rational arguments for lesser evilist voting do not work . xxmaj lesser evilists become self - delusionists . xxmaj they identify with their lesser evil candidate and delude themselves into adoring the person . xxmaj moore is not pushing the \" xxmaj</td>\n",
       "    </tr>\n",
       "  </tbody>\n",
       "</table>"
      ],
      "text/plain": [
       "<IPython.core.display.HTML object>"
      ]
     },
     "metadata": {},
     "output_type": "display_data"
    }
   ],
   "source": [
    "data_lm.show_batch()"
   ]
  },
  {
   "cell_type": "code",
   "execution_count": 10,
   "metadata": {},
   "outputs": [],
   "source": [
    "learn = language_model_learner(data_lm, AWD_LSTM, drop_mult=0.3)"
   ]
  },
  {
   "cell_type": "code",
   "execution_count": 48,
   "metadata": {},
   "outputs": [
    {
     "data": {
      "text/html": [],
      "text/plain": [
       "<IPython.core.display.HTML object>"
      ]
     },
     "metadata": {},
     "output_type": "display_data"
    },
    {
     "name": "stdout",
     "output_type": "stream",
     "text": [
      "LR Finder is complete, type {learner_name}.recorder.plot() to see the graph.\n"
     ]
    }
   ],
   "source": [
    "learn.lr_find()"
   ]
  },
  {
   "cell_type": "code",
   "execution_count": 49,
   "metadata": {},
   "outputs": [
    {
     "name": "stdout",
     "output_type": "stream",
     "text": [
      "Min numerical gradient: 6.31E-07\n",
      "Min loss divided by 10: 8.32E-07\n"
     ]
    },
    {
     "data": {
      "image/png": "[encoded data removed]",
      "text/plain": [
       "<Figure size 432x288 with 1 Axes>"
      ]
     },
     "metadata": {
      "needs_background": "light"
     },
     "output_type": "display_data"
    }
   ],
   "source": [
    "learn.recorder.plot(suggestion=True)"
   ]
  },
  {
   "cell_type": "code",
   "execution_count": 50,
   "metadata": {},
   "outputs": [
    {
     "data": {
      "text/html": [
       "<table border=\"1\" class=\"dataframe\">\n",
       "  <thead>\n",
       "    <tr style=\"text-align: left;\">\n",
       "      <th>epoch</th>\n",
       "      <th>train_loss</th>\n",
       "      <th>valid_loss</th>\n",
       "      <th>accuracy</th>\n",
       "      <th>time</th>\n",
       "    </tr>\n",
       "  </thead>\n",
       "  <tbody>\n",
       "    <tr>\n",
       "      <td>0</td>\n",
       "      <td>4.484698</td>\n",
       "      <td>4.292836</td>\n",
       "      <td>0.286609</td>\n",
       "      <td>10:05</td>\n",
       "    </tr>\n",
       "  </tbody>\n",
       "</table>"
      ],
      "text/plain": [
       "<IPython.core.display.HTML object>"
      ]
     },
     "metadata": {},
     "output_type": "display_data"
    }
   ],
   "source": [
    "learn.fit_one_cycle(1, 6e-7, moms=(0.8,0.7))"
   ]
  },
  {
   "cell_type": "code",
   "execution_count": 51,
   "metadata": {},
   "outputs": [],
   "source": [
    "learn.save('fit_head')"
   ]
  },
  {
   "cell_type": "code",
   "execution_count": 54,
   "metadata": {},
   "outputs": [
    {
     "name": "stderr",
     "output_type": "stream",
     "text": [
      "/opt/anaconda3/lib/python3.7/site-packages/fastai/basic_train.py:326: UserWarning: Wasn't able to properly load the optimizer state again.\n",
      "  except: warn(\"Wasn't able to properly load the optimizer state again.\")\n"
     ]
    },
    {
     "data": {
      "text/plain": [
       "LanguageLearner(data=TextLMDataBunch;\n",
       "\n",
       "Train: LabelList (5702 items)\n",
       "x: LMTextList\n",
       "xxbos xxmaj daniel xxmaj greenfield , a xxmaj shillman xxmaj journalism xxmaj fellow at the xxmaj freedom xxmaj center , is a xxmaj new xxmaj york writer focusing on radical xxmaj islam . \n",
       "  xxmaj in the final stretch of the election , xxmaj hillary xxmaj rodham xxmaj clinton has gone to war with the xxup fbi . \n",
       "  xxmaj the word “ unprecedented ” has been thrown around so often this election that it ought to be retired . xxmaj but it ’s still unprecedented for the nominee of a major political party to go war with the xxup fbi . \n",
       "  xxmaj but that ’s exactly what xxmaj hillary and her people have done . xxmaj coma patients just waking up now and watching an hour of xxup cnn from their hospital beds would assume that xxup fbi xxmaj director xxmaj james xxmaj comey is xxmaj hillary ’s opponent in this election . \n",
       "  xxmaj the xxup fbi is under attack by everyone from xxmaj obama to xxup cnn . xxmaj hillary ’s people have circulated a letter attacking xxmaj comey . xxmaj there are currently more media hit pieces lambasting him than targeting xxmaj trump . xxmaj it would n’t be too surprising if the xxmaj clintons or their allies were to start running attack ads against the xxup fbi . \n",
       "  xxmaj the xxup fbi ’s leadership is being warned that the entire left - wing establishment will form a lynch mob if they continue going after xxmaj hillary . xxmaj and the xxup fbi ’s credibility is being attacked by the media and the xxmaj democrats to preemptively head off the results of the investigation of the xxmaj clinton xxmaj foundation and xxmaj hillary xxmaj clinton . \n",
       "  xxmaj the covert struggle between xxup fbi agents and xxmaj obama ’s xxup doj people has gone xxunk public . \n",
       "  xxmaj the xxmaj new xxmaj york xxmaj times has compared xxmaj comey to xxup j. xxmaj edgar xxmaj hoover . xxmaj its bizarre headline , “ xxmaj james xxmaj comey xxmaj role xxmaj recalls xxmaj hoover ’s xxup fbi , xxmaj fairly or xxmaj not ” practically admits up front that it ’s spouting nonsense . xxmaj the xxmaj boston xxmaj globe has published a column calling for xxmaj comey ’s resignation . xxmaj not to be outdone , xxmaj time has an editorial claiming that the scandal is really an attack on all women . \n",
       "  xxmaj james xxmaj carville appeared on xxup msnbc to remind everyone that he was still alive and insane . xxmaj he accused xxmaj comey of coordinating with xxmaj house xxmaj republicans and the xxup kgb . xxmaj and you thought the “ vast right wing conspiracy ” was a stretch . \n",
       "  xxmaj countless media stories charge xxmaj comey with violating procedure . xxmaj do you know what ’s a procedural violation ? xxmaj emailing classified information stored on your bathroom server . \n",
       "  xxmaj senator xxmaj harry xxmaj reid has sent xxmaj comey a letter accusing him of violating the xxmaj hatch xxmaj act . xxmaj the xxmaj hatch xxmaj act is a nice idea that has as much relevance in the age of xxmaj obama as the xxmaj tenth xxmaj amendment . xxmaj but the cable news spectrum quickly filled with media hacks glancing at the xxmaj wikipedia article on the xxmaj hatch xxmaj act under the table while accusing the xxup fbi director of one of the most awkward conspiracies against xxmaj hillary ever . \n",
       "  xxmaj if xxmaj james xxmaj comey is really out to hurt xxmaj hillary , he picked one hell of a strange way to do it . \n",
       "  xxmaj not too long ago xxmaj democrats were breathing a sigh of relief when he gave xxmaj hillary xxmaj clinton a pass in a prominent public statement . xxmaj if he really were out to elect xxmaj trump by keeping the email scandal going , why did he trash the investigation ? xxmaj was he on the payroll of xxmaj house xxmaj republicans and the xxup kgb back then and playing it coy or was it a sudden development where xxmaj vladimir xxmaj putin and xxmaj paul xxmaj ryan talked him into taking a look at xxmaj anthony xxmaj weiner ’s computer ? \n",
       "  xxmaj either xxmaj comey is the most cunning xxup fbi director that ever lived or he ’s just awkwardly trying to navigate a political mess that has trapped him between a xxup doj leadership whose political futures are tied to xxmaj hillary ’s victory and his own bureau whose apolitical agents just want to be allowed to do their jobs . \n",
       "  xxmaj the only truly mysterious thing is why xxmaj hillary and her associates decided to go to war with a respected xxmaj federal agency . xxmaj most xxmaj americans like the xxup fbi while xxmaj hillary xxmaj clinton enjoys a 60 % unfavorable rating . \n",
       "  xxmaj and it ’s an interesting question . \n",
       "  xxmaj hillary ’s old strategy was to lie and deny that the xxup fbi even had a criminal investigation underway . xxmaj instead her associates insisted that it was a security review . xxmaj the xxup fbi corrected her and she shrugged it off . xxmaj but the old breezy denial approach has given way to a savage assault on the xxup fbi . \n",
       "  xxmaj pretending that nothing was wrong was a bad strategy , but it was a better one that picking a fight with the xxup fbi while lunatic xxmaj clinton associates try to claim that the xxup fbi is really the xxup kgb . \n",
       "  xxmaj there are two possible explanations . \n",
       "  xxmaj hillary xxmaj clinton might be arrogant enough to lash out at the xxup fbi now that she believes that victory is near . xxmaj the same kind of hubris that led her to plan her victory fireworks display could lead her to declare a war on the xxup fbi for irritating her during the final miles of her campaign . \n",
       "  xxmaj but the other explanation is that her people panicked . \n",
       "  xxmaj going to war with the xxup fbi is not the behavior of a smart and focused presidential campaign . xxmaj it ’s an act of desperation . xxmaj when a presidential candidate decides that her only option is to try and destroy the credibility of the xxup fbi , that ’s not hubris , it ’s fear of what the xxup fbi might be about to reveal about her . \n",
       "  xxmaj during the original xxup fbi investigation , xxmaj hillary xxmaj clinton was confident that she could ride it out . xxmaj and she had good reason for believing that . xxmaj but that xxmaj hillary xxmaj clinton is gone . xxmaj in her place is a paranoid wreck . xxmaj within a short space of time the “ positive ” xxmaj clinton campaign promising to unite the country has been replaced by a desperate and flailing operation that has focused all its energy on fighting the xxup fbi . \n",
       "  xxmaj there ’s only one reason for such bizarre behavior . \n",
       "  xxmaj the xxmaj clinton campaign has decided that an xxup fbi investigation of the latest batch of emails poses a threat to its survival . xxmaj and so it ’s gone all in on fighting the xxup fbi . xxmaj it ’s an unprecedented step born of fear . xxmaj it ’s hard to know whether that fear is justified . xxmaj but the existence of that fear already tells us a whole lot . \n",
       "  xxmaj clinton loyalists rigged the old investigation . xxmaj they knew the outcome ahead of time as well as they knew the debate questions . xxmaj now suddenly they are no longer in control . xxmaj and they are afraid . \n",
       "  xxmaj you can smell the fear . \n",
       "  xxmaj the xxup fbi has wiretaps from the investigation of the xxmaj clinton xxmaj foundation . xxmaj it ’s finding new emails all the time . xxmaj and xxmaj clintonworld panicked . xxmaj the xxunk of xxmaj clintonworld have claimed that the email scandal is just so much smoke without fire . xxmaj all that ’s here is the appearance of impropriety without any of the substance . xxmaj but this is n’t how you react to smoke . xxmaj it ’s how you respond to a fire . \n",
       "  xxmaj the misguided assault on the xxup fbi tells us that xxmaj hillary xxmaj clinton and her allies are afraid of a revelation bigger than the fundamental illegality of her email setup . xxmaj the email setup was a preemptive cover up . xxmaj the xxmaj clinton campaign has panicked badly out of the belief , right or wrong , that whatever crime the illegal setup was meant to cover up is at risk of being exposed . \n",
       "  xxmaj the xxmaj clintons have weathered countless scandals over the years . xxmaj whatever they are protecting this time around is bigger than the usual corruption , bribery , sexual assaults and abuses of power that have followed them around throughout the years . xxmaj this is bigger and more damaging than any of the allegations that have already come out . xxmaj and they do n’t want xxup fbi investigators anywhere near it . \n",
       "  xxmaj the campaign against xxmaj comey is pure intimidation . xxmaj it ’s also a warning . xxmaj any senior xxup fbi people who value their careers are being warned to stay away . xxmaj the xxmaj democrats are closing ranks around their nominee against the xxup fbi . xxmaj it ’s an ugly and unprecedented scene . xxmaj it may also be their last stand . \n",
       "  xxmaj hillary xxmaj clinton has awkwardly wound her way through numerous scandals in just this election cycle . xxmaj but she ’s never shown fear or desperation before . xxmaj now that has changed . xxmaj whatever she is afraid of , it lies buried in her emails with xxmaj huma xxmaj abedin . xxmaj and it can bring her down like nothing else has .,xxbos xxmaj google xxmaj pinterest xxmaj digg xxmaj linkedin xxmaj reddit xxmaj stumbleupon xxmaj print xxmaj delicious xxmaj pocket xxmaj tumblr \n",
       "  xxmaj there are two fundamental truths in this world : xxmaj paul xxmaj ryan desperately wants to be president . xxmaj and xxmaj paul xxmaj ryan will never be president . xxmaj today proved it . \n",
       "  xxmaj in a particularly staggering example of political cowardice , xxmaj paul xxmaj ryan re - re - re - reversed course and announced that he was back on the xxmaj trump xxmaj train after all . xxmaj this was an xxunk from where he was a few weeks ago . xxmaj he had previously declared he would not be supporting or defending xxmaj trump after a tape was made public in which xxmaj trump bragged about assaulting women . xxmaj suddenly , xxmaj ryan was appearing at a pro - xxmaj trump rally and boldly declaring that he already sent in his vote to make him xxmaj president of the xxmaj united xxmaj states . xxmaj it was a surreal moment . xxmaj the figurehead of the xxmaj republican xxmaj party xxunk himself in gasoline , got up on a stage on a chilly afternoon in xxmaj wisconsin , and lit a match . . @speakerryan says he voted for @realdonaldtrump : “ xxmaj republicans , it is time to come home ” https : / / t.co / xxunk pic.twitter.com / xxunk \n",
       "  — xxup abc xxmaj news xxmaj politics ( xxunk ) xxmaj november 5 , 2016 \n",
       "  xxmaj the xxmaj democratic xxmaj party could n’t have asked for a better moment of film . xxmaj ryan ’s chances of ever becoming president went down to zero in an instant . xxmaj in the wreckage xxmaj trump is to leave behind in his wake , those who xxunk backed his campaign will not recover . xxmaj if xxmaj ryan ’s career manages to limp all the way to 2020 , then the xxup dnc will have this tape locked and loaded to be used in every ad until xxmaj election xxmaj day . \n",
       "  xxmaj the ringing endorsement of the man he clearly hates on a personal level speaks volumes about his own spinelessness . xxmaj ryan has xxunk himself as a “ principled ” conservative , and one uncomfortable with xxmaj trump ’s unapologetic bigotry and sexism . xxmaj however , when push came to shove , xxmaj paul xxmaj ryan – like many of his colleagues – turned into a sniveling xxunk . xxmaj after all his lofty xxunk about conviction , his principles were a house of cards and collapsed with the slightest breeze . \n",
       "  xxmaj what ’s especially bizarre is how close xxmaj ryan came to making it through unscathed . xxmaj for months the xxmaj speaker of the xxmaj house refused to comment on xxmaj trump at all . xxmaj his strategy seemed to be to keep his head down , pretend xxmaj trump did n’t exist , and hope that nobody remembered what happened in 2016 . xxmaj now , just days away from the election , he screwed it all up . \n",
       "  xxmaj if 2016 ’s very ugly election has done any good it ’s by exposing the utter cowardice of the xxmaj republicans who once feigned moral courage . a reality television star spit on them , hijacked their party , insulted their wives , and got every last one of them to kneel before him . xxmaj what a turn of events . \n",
       "  xxmaj featured image via xxmaj twitter,xxbos xxup u.s. xxmaj secretary of xxmaj state xxmaj john xxup f. xxmaj kerry said xxmaj monday that he will stop in xxmaj paris later this week , amid criticism that no top xxmaj american officials attended xxmaj sunday ’s unity march against terrorism . \n",
       " \n",
       "  xxmaj kerry said he expects to arrive in xxmaj paris xxmaj thursday evening , as he heads home after a week abroad . xxmaj he said he will fly to xxmaj france at the conclusion of a series of meetings scheduled for xxmaj thursday in xxmaj sofia , xxmaj bulgaria . xxmaj he plans to meet the next day with xxmaj foreign xxmaj minister xxmaj laurent xxmaj fabius and xxmaj president xxmaj francois xxmaj hollande , then return to xxmaj washington . \n",
       " \n",
       "  xxmaj the visit by xxmaj kerry , who has family and childhood ties to the country and speaks fluent xxmaj french , could address some of the criticism that the xxmaj united xxmaj states snubbed xxmaj france in its darkest hour in many years . \n",
       " \n",
       "  xxmaj the xxmaj french press on xxmaj monday was filled with questions about why neither xxmaj president xxmaj obama nor xxmaj kerry attended xxmaj sunday ’s march , as about 40 leaders of other nations did . xxmaj obama was said to have stayed away because his own security needs can be taxing on a country , and xxmaj kerry had prior commitments . \n",
       " \n",
       "  xxmaj among roughly 40 leaders who did attend was xxmaj israeli xxmaj prime xxmaj minister xxmaj benjamin xxmaj netanyahu , no stranger to intense security , who marched beside xxmaj hollande through the city streets . xxmaj the highest ranking xxup u.s. officials attending the march were xxmaj jane xxmaj hartley , the ambassador to xxmaj france , and xxmaj victoria xxmaj nuland , the assistant secretary of state for xxmaj european affairs . xxmaj attorney xxmaj general xxmaj eric xxup h. xxmaj holder xxmaj jr. was in xxmaj paris for meetings with law enforcement officials but did not participate in the march . \n",
       " \n",
       "  xxmaj kerry spent xxmaj sunday at a business summit hosted by xxmaj india ’s prime minister , xxmaj narendra xxmaj modi . xxmaj the xxmaj united xxmaj states is eager for xxmaj india to relax stringent laws that function as barriers to foreign investment and hopes xxmaj modi ’s government will act to open the huge xxmaj indian market for more xxmaj american businesses . \n",
       " \n",
       "  xxmaj in a news conference , xxmaj kerry brushed aside criticism that the xxmaj united xxmaj states had not sent a more senior official to xxmaj paris as “ quibbling a little bit . ” xxmaj he noted that many staffers of the xxmaj american xxmaj embassy in xxmaj paris attended the march , including the ambassador . xxmaj he said he had wanted to be present at the march himself but could not because of his prior commitments in xxmaj india . \n",
       " \n",
       "  “ xxmaj but that is why i am going there on the way home , to make it crystal clear how passionately we feel about the events that have taken place there , ” he said . \n",
       " \n",
       "  “ xxmaj and i do n’t think the people of xxmaj france have any doubts about xxmaj america ’s understanding of what happened , of our personal sense of loss and our deep commitment to the people of xxmaj france in this moment of trauma . ”,xxbos — xxmaj xxunk xxmaj king ( xxunk ) xxmaj november 9 , 2016 xxmaj the lesson from tonight 's xxmaj dem losses : xxmaj time for xxmaj democrats to start listening to the voters . xxmaj stop running the same establishment candidates . \n",
       "  — xxmaj people xxmaj for xxmaj bernie ( xxunk ) xxmaj november 9 , 2016 xxmaj if xxmaj dems did n't want a tight race they should n't have worked against xxmaj bernie . \n",
       "  — xxmaj walker xxmaj xxunk ( xxunk ) xxmaj november 9 , 2016 \n",
       "  xxmaj new xxmaj york xxmaj times columnist xxmaj paul xxmaj krugman , who was one of xxmaj hillary xxmaj clinton ’s most outspoken surrogates during the contentious xxmaj democratic primary , blamed xxmaj clinton ’s poor performance on xxmaj green xxmaj party candidate xxmaj jill xxmaj stein , who has so far received a negligible number of votes nationally , saying xxmaj stein was the xxmaj ralph xxmaj nader of 2016 in preventing a xxmaj clinton victory . xxmaj the account xxunk threw xxmaj krugman ’s analysis back in his face . xxmaj your candidate was the issue . xxmaj take responsibility . https : / / t.co / xxunk \n",
       "  — xxmaj teachers for xxmaj bernie ( xxunk ) xxmaj november 9 , 2016 \n",
       "  xxmaj ana xxmaj navarro , a xxmaj republican who recently endorsed xxmaj hillary xxmaj clinton , summed up the preposterous nature of the 2016 presidential election in this tweet : xxup gop nominated the only damn candidate who could lose to xxmaj hillary xxmaj clinton . xxmaj democrats nominated the only damn candidate who could lose to xxmaj trump \n",
       "  — xxmaj ana xxmaj navarro ( xxunk ) xxmaj november 9 , 2016 \n",
       "  xxmaj popular left - wing xxmaj facebook page xxmaj the xxmaj other 98 % , which was pro - xxmaj sanders during the primary , responded to xxmaj trump ’s surge by simply posting a meme of xxmaj sanders’ face with the text “ xxmaj all this could ’ve been avoided . xxmaj thanks for nothing , xxup dnc ! ” xxmaj the meme has been shared almost 15,000 times in less than an hour : \n",
       "  xxmaj posted by xxmaj the xxmaj other 98 % on xxmaj tuesday , xxmaj november 8 , 2016 \n",
       "  xxmaj while xxmaj bernie xxmaj sanders endorsed xxmaj hillary xxmaj clinton just before the xxmaj democratic xxmaj national xxmaj convention in xxmaj july , many of his supporters remained adamant in their refusal to support the xxup dnc - anointed candidate , pointing to wikileaks’ revelations that top officials at the xxup dnc had been working behind the scenes to tip the scales in xxmaj clinton ’s favor by coordinating with media figures to circulate anti - xxmaj sanders narratives . \n",
       "  xxmaj rather than attribute a potential xxmaj trump presidency to the xxup gop nominee ’s perceived popularity among voters , the closeness of this election could be credited to xxmaj hillary xxmaj clinton ’s unfavorable ratings . xxmaj according to realclearpolitics , anywhere between 51 and 57 percent of voters had a negative opinion of the xxmaj democratic nominee . \n",
       "  xxmaj as of 11 xxup pm xxmaj eastern , xxmaj florida , xxmaj michigan , xxmaj pennsylvania , and xxmaj wisconsin remain too close to call . xxmaj clinton has xxunk electoral votes to xxmaj trump ’s 187 . \n",
       " \n",
       "  xxmaj zach xxmaj cartwright is an activist and author from xxmaj richmond , xxmaj virginia . xxmaj he enjoys writing about politics , government , and the media . xxmaj send him an email at [ email protected ],xxbos xxmaj it 's primary day in xxmaj new xxmaj york and front - runners xxmaj hillary xxmaj clinton and xxmaj donald xxmaj trump are leading in the polls . \n",
       " \n",
       "  xxmaj trump is now vowing to win enough delegates to clinch the xxmaj republican nomination and prevent a contested convention . xxmaj but xxmaj sens . xxmaj ted xxmaj cruz , r - xxmaj texas , xxmaj bernie xxmaj sanders , d - xxmaj vt . , and xxmaj ohio xxmaj gov. xxmaj john xxmaj kasich and are n't giving up just yet . \n",
       " \n",
       "  a big win in xxmaj new xxmaj york could tip the scales for both the xxmaj republican and xxmaj democratic front - runners in this year 's race for the xxmaj white xxmaj house . xxmaj clinton and xxmaj trump have each suffered losses in recent contests , shifting the momentum to their rivals . \n",
       " \n",
       "  \" xxmaj we have won eight out of the last nine caucuses and primaries ! xxmaj cheer ! \" xxmaj sanders recently told supporters . \n",
       " \n",
       "  xxmaj while wins in xxmaj new xxmaj york for xxmaj trump and xxmaj clinton are expected , the margins of those victories are also important . \n",
       " \n",
       "  xxmaj trump needs to capture more than 50 percent of the vote statewide if he wants to be positioned to win all of the state 's 95 xxup gop delegates . xxmaj that would put him one step closer to avoiding a contested convention . \n",
       " \n",
       "  \" xxmaj we 've got to vote and you know xxmaj cruz is way , way down in the polls , \" xxmaj trump urged supporters . \n",
       " \n",
       "  xxmaj meanwhile , xxmaj sanders is hoping for a close race in the xxmaj empire xxmaj state . a loss by 10 points means he 'll need to win 80 percent of the remaining delegates to clinch the nomination . \n",
       " \n",
       "  xxmaj despite a predicted loss in xxmaj new xxmaj york , xxmaj cruz has n't lost momentum . xxmaj he 's hoping to sweep up more delegates this weekend while he 's talking about how he can win in xxmaj november . \n",
       " \n",
       "  \" xxmaj because if i 'm the nominee , we win the xxmaj general xxmaj election , \" xxmaj cruz promised his supporters . \" xxmaj we 're beating xxmaj hillary in the key swing states , we 're beating xxmaj hillary with xxmaj independents , we 're beating xxmaj hillary with young people . \" \n",
       " \n",
       "  xxmaj for now , xxmaj cruz , xxmaj kasich , and xxmaj sanders have all moved on from xxmaj new xxmaj york to other states . xxmaj trump and xxmaj clinton are the only two staying in their home state to watch the results come in .\n",
       "y: LMLabelList\n",
       ",,,,\n",
       "Path: /home/jupyter/.fastai/data/fakenews;\n",
       "\n",
       "Valid: LabelList (633 items)\n",
       "x: LMTextList\n",
       "xxbos xxmaj by wmw_admin on xxmaj november 6 , 2016 xxmaj darkmoon — xxmaj nov 6 , 2016 xxup rt : “ xxmaj whistleblower xxmaj julian xxmaj assange has given one of his most incendiary interviews ever in a xxmaj john xxmaj pilger xxmaj special [ released late yesterday ] courtesy of xxmaj dartmouth xxmaj films . xxmaj here he summarizes what can be gleaned from the tens of thousands of xxmaj clinton emails leaked by wikileaks this year . ” xxup ld : xxmaj despite the enormous populist support for xxmaj trump and the extraordinary loathing in which xxmaj hillary xxmaj clinton is held by millions of xxmaj american , xxmaj assange says that “ xxmaj trump can not be allowed to win . ” xxmaj trump has already indicated that he will not recognize the result of the election if he loses , given the enormous enthusiasm he has generated during his speeches , compared to the relatively tepid and xxunk response evoked by xxmaj hillary xxmaj clinton on similar occasions . xxmaj recent news reports reveal that “ election related violence is increasing and xxmaj right - wing armed militia groups are even preparing for unrest if xxmaj mrs xxmaj clinton ‘ xxunk the election , as they fear will happen . ” xxmaj if xxmaj hillary xxmaj clinton wins this election , as xxmaj assange predicts , we can expect riots to erupt all across xxmaj america . xxmaj violent insurrection , in the circumstances of a rigged election , would appear to be more than justified . xxmaj hillary xxmaj clinton clearly belongs behind bars , not in the xxmaj white xxmaj house . [ xxup ld ] xxmaj john xxmaj pilger ( left ) conducted the 25-minute interview at the xxmaj ecuadorian xxmaj embassy where xxmaj assange has been trapped since 2012 for fear of extradition to the xxup us . xxmaj here is a transcript of the interview followed by the youtube interview itself . xxmaj click to enlarge xxup the xxup secret xxup world xxup of xxup the xxup us xxup election xxmaj john xxmaj pilger : xxmaj what ’s the significance of the xxup fbi ’s intervention in these last days of the xxup u.s. election campaign , in the case against xxmaj hillary xxmaj clinton ? xxmaj julian xxmaj assange : xxmaj if you look at the history of the xxup fbi , it has become effectively xxmaj america ’s political police . xxmaj the xxup fbi demonstrated this by taking down the former head of the xxup cia xxmaj general xxmaj david xxmaj petraeus over classified information given to his mistress . xxmaj almost no - one is untouchable . xxmaj the xxup fbi is always trying to demonstrate that no - one can resist us . xxmaj but xxmaj hillary xxmaj clinton very conspicuously resisted the xxup fbi ’s investigation , so there ’s anger within the xxup fbi because it made the xxup fbi look weak . xxmaj we ’ve published about 33,000 of xxmaj clinton ’s emails when she was xxmaj secretary of xxmaj state . xxmaj they come from a batch of just over 60,000 emails , [ of which ] xxmaj clinton has kept about half — 30,000 — to herself , and we ’ve published about half . xxmaj then there are the xxmaj podesta emails we ’ve been publishing . xxmaj john xxmaj podesta is xxmaj hillary xxmaj clinton ’s primary campaign manager , so there ’s a thread that runs through all these emails ; there are quite a lot of pay - for - play , as they call it , giving access in exchange for money to states , individuals and corporations . xxmaj these emails are combined with the cover up of the xxmaj hillary xxmaj clinton emails when she was xxmaj secretary of xxmaj state , which has led to an environment where the pressure on the xxup fbi increases . ‘ xxmaj russian government not the source of xxmaj clinton xxunk xxup pilger : xxmaj the xxmaj clinton campaign has said that xxmaj russia is behind all of this , that xxmaj russia has manipulated the campaign and is the source for wikileaks and its emails . xxup assange : xxmaj the xxmaj clinton camp has been able to project that kind of neo - mccarthy hysteria : that xxmaj russia is responsible for everything . xxmaj hilary xxmaj clinton stated multiple times , falsely , that seventeen xxup u.s. intelligence agencies had assessed that xxmaj russia was the source of our publications . xxmaj that is false ; we can say that the xxmaj russian government is not the source . ‘ xxmaj saudi xxmaj arabia & xxmaj qatar funding xxup isis and xxmaj clinton’ xxup pilger : xxmaj the emails that give evidence of access for money and how xxmaj hillary xxmaj clinton herself benefited from this and how she is benefitting politically , are quite extraordinary . i ’m thinking of when the xxmaj qatari representative was given five minutes with xxmaj bill xxmaj clinton for a million dollar xxunk . xxup assange : xxmaj and twelve million dollars from xxmaj morocco … xxup pilger : xxmaj twelve million from xxmaj morocco , yeah . xxup assange : xxmaj for xxmaj hillary xxmaj clinton to attend a party . xxup pilger : xxmaj in terms of the foreign policy of the xxmaj united xxmaj states , that ’s where the emails are most revealing , where they show the direct connection between xxmaj hillary xxmaj clinton and the foundation of jihadism , of xxup isil , in the xxmaj middle xxmaj east . xxmaj can you talk about how the emails demonstrate the connection between those who are meant to be fighting the jihadists of xxup isil , are actually those who have helped create it . xxup assange : xxmaj there ’s an early 2014 email from xxmaj hillary xxmaj clinton , not so long after she left the xxmaj state xxmaj department , to her campaign manager xxmaj john xxmaj podesta that states xxup isil is funded by the governments of xxmaj saudi xxmaj arabia and xxmaj qatar . xxmaj now this is the most significant email in the whole collection , and perhaps because xxmaj saudi and xxmaj qatari money is spread all over the xxmaj clinton xxmaj foundation . xxmaj even the xxup u.s. government agrees that some xxmaj saudi figures have been supporting xxup isil , or xxup isis . xxmaj but the dodge has always been that , well it ’s just some rogue xxmaj princes , using their cut of the oil money to do whatever they like , but actually the government xxunk . xxmaj but that email says that no , it is the governments of xxmaj saudi and xxmaj qatar that have been funding xxup isis . xxup pilger : xxmaj the xxmaj saudis , the xxmaj qataris , the xxmaj moroccans , the xxmaj bahrainis , particularly the xxmaj saudis and the xxmaj qataris , are giving all this money to the xxmaj clinton xxmaj foundation while xxmaj hilary xxmaj clinton is xxmaj secretary of xxmaj state and the xxmaj state xxmaj department is approving massive arms sales , particularly to xxmaj saudi xxmaj arabia . xxup assange : xxmaj under xxmaj hillary xxmaj clinton , the world ’s largest ever arms deal was made with xxmaj saudi xxmaj arabia , worth more than $ 80 billion . xxmaj in fact , during her tenure as xxmaj secretary of xxmaj state , total arms exports from the xxmaj united xxmaj states in terms of the dollar value , doubled . xxup pilger : xxmaj of course the consequence of that is that the notorious terrorist group called isil or xxup isis is created largely with money from the very people who are giving money to the xxmaj clinton xxmaj foundation . xxup assange : xxmaj yes . xxup pilger : xxmaj that ’s extraordinary . ‘ xxmaj clinton has been eaten alive by her xxunk xxup assange : i actually feel quite sorry for xxmaj hillary xxmaj clinton as a person because i see someone who is eaten alive by their ambitions , tormented literally to the point where they become sick ; they faint as a result of the reaction to their ambitions . xxmaj she represents a whole network of people and a network of relationships with particular states . xxmaj the question is how does xxmaj hilary xxmaj clinton fit in this broader network ? xxmaj she ’s a xxunk cog . xxmaj you ’ve got a lot of different gears in operation from the big banks like xxmaj goldman xxmaj sachs and major elements of xxmaj wall xxmaj street , and xxmaj intelligence and people in the xxmaj state xxmaj department and the xxmaj saudis . xxmaj she ’s the xxunk that inter - connects all these different cogs . xxmaj she ’s the smooth central representation of all that , and ‘ all xxunk is more or less what is in power now in the xxmaj united xxmaj states . xxmaj it ’s what we call the establishment or the xxup dc consensus . xxmaj one of the more significant xxmaj podesta emails that we released was about how the xxmaj obama cabinet was formed and how half the xxmaj obama cabinet was basically nominated by a representative from xxmaj city xxmaj bank . xxmaj this is quite amazing . xxup pilger : xxmaj did n’t xxmaj xxunk supply a list … ? xxup assange : xxmaj yes . xxup pilger : xxmaj which turned out to be most of the xxmaj obama cabinet ? xxup assange : xxmaj yes . xxup pilger : xxmaj so xxmaj wall xxmaj street decides the cabinet of the xxmaj president of the xxmaj united xxmaj states ? xxup assange : xxmaj if you were following the xxmaj obama campaign back then , closely , you could see it had become very close to banking interests . xxmaj so i think you ca n’t properly understand xxmaj hillary xxmaj clinton ’s foreign policy without understanding xxmaj saudi xxmaj arabia . xxmaj the connections with xxmaj saudi xxmaj arabia are so intimate . ‘ xxmaj libya is xxmaj hillary xxmaj clinton ’s war’ xxup pilger : xxmaj why was she so demonstrably enthusiastic about the destruction of xxmaj libya ? xxmaj can you talk a little about just what the emails have told us – told you – about what happened there ? xxmaj because xxmaj libya is such a source for so much of the mayhem now in xxmaj syria : the xxup isil , jihadism , and so on . xxmaj and it was almost xxmaj hillary xxmaj clinton ’s invasion . xxmaj what do the emails tell us about that ? xxup assange : xxmaj libya , more than anyone else ’s war , was xxmaj hillary xxmaj clinton ’s war . xxmaj barak xxmaj obama initially opposed it . xxmaj who was the person championing it ? xxmaj hillary xxmaj clinton . xxmaj that ’s documented throughout her emails . xxmaj she had put her favoured agent , xxmaj sidney xxmaj blumenthal , on to that ; there ’s more than 1700 emails out of the thirty three thousand xxmaj hillary xxmaj clinton emails that we ’ve published , just about xxmaj libya . xxmaj it ’s not that xxmaj libya has cheap oil . xxmaj she perceived the removal of xxmaj gaddafi and the overthrow of the xxmaj libyan state — something that she would use in her run - up to the general election for xxmaj president . xxmaj so in late 2011 there is an internal document called the xxmaj libya xxmaj tick xxmaj tock that was produced for xxmaj hillary xxmaj clinton , and it ’s the chronological description of how she was the central figure in the destruction of the xxmaj libyan state , which resulted in around 40,000 deaths within xxmaj libya ; jihadists moved in , xxup isis moved in , leading to the xxmaj european refugee and migrant crisis . xxmaj not only did you have people fleeing xxmaj libya , people fleeing xxmaj syria , the xxunk of other xxmaj african countries as a result of arms flows , but the xxmaj libyan state itself err was no longer able to control the movement of people through it . xxmaj libya faces along to the xxmaj mediterranean and had been effectively the cork in the bottle of xxmaj africa . xxmaj so all problems , economic problems and civil war in xxmaj africa — previously people fleeing those problems did n’t end up in xxmaj europe because xxmaj libya policed the xxmaj mediterranean . xxmaj that was said explicitly at the time , back in early 2011 by xxmaj gaddafi : ‘ xxmaj what do these xxmaj europeans think they ’re doing , trying to bomb and destroy the xxmaj libyan xxmaj state ? xxmaj there ’s going to be floods of migrants out of xxmaj africa and jihadists into xxmaj europe , and this is exactly what happened . ‘ xxmaj trump wo n’t be permitted to xxunk xxup pilger : xxmaj you get complaints from people saying , ‘ xxmaj what is wikileaks doing ? xxmaj are they trying to put xxmaj trump in the xxmaj white xxmaj xxunk xxup assange : xxmaj my answer is that xxmaj trump would not be permitted to win . xxmaj why do i say that ? xxmaj because he ’s had every establishment off side ; xxmaj trump does n’t have one establishment , maybe with the exception of the xxmaj evangelicals , if you can call them an establishment , but banks , intelligence agencies , arms companies … big foreign money … are all united behind xxmaj hillary xxmaj clinton , and the media as well , media owners and even journalists themselves . xxup pilger : xxmaj there is the accusation that wikileaks is in league with the xxmaj russians . xxmaj some people say , ‘ xxmaj well , why does n’t wikileaks investigate and publish emails on xxmaj xxunk xxup assange : xxmaj we have published about 800,000 documents of various kinds that relate to xxmaj russia . xxmaj most of those are critical ; and a great many books have come out of our publications about xxmaj russia , most of which are critical . xxmaj our xxmaj russia documents have gone on to be used in quite a number of court cases : refugee cases of people fleeing some kind of claimed political persecution in xxmaj russia , which they use our documents to back up . xxup pilger : xxmaj do you yourself take a view of the xxup u.s. election ? xxmaj do you have a preference for xxmaj clinton or xxmaj trump ? xxup assange : xxmaj let ’s talk about xxmaj donald xxmaj trump . xxmaj what does he represent in the xxmaj american mind and in the xxmaj european mind ? xxmaj he represents xxmaj american white trash , which xxmaj hillary xxmaj clinton called ‘ deplorable and xxunk . xxmaj it means from an establishment or educated cosmopolitan , xxunk perspective , these people are like the red necks , and you can never deal with them . xxmaj because he so clearly — through his words and actions and the type of people that turn up at his rallies — represents people who are not the middle , not the upper middle educated class , there is a fear of seeming to be associated in any way with them , a social fear that lowers the class status of anyone who can be accused of somehow assisting xxmaj trump in any way , including any criticism of xxmaj hillary xxmaj clinton . xxmaj if you look at how the middle class gains its economic and social power , that makes absolute sense . ‘ xxup us attempting to squeeze wikileaks through my refugee xxunk xxup pilger : i ’d like to talk about xxmaj ecuador , the small country that has given you refuge and political asylum in this embassy in xxmaj london . xxmaj now xxmaj ecuador has cut off the internet from here where we ’re doing this interview , in the xxmaj embassy , for the clearly obvious reason that they are concerned about appearing to intervene in the xxup u.s. election campaign . xxmaj can you talk about why they would take that action and your own views on xxmaj ecuador ’s support for you ? xxup assange : xxmaj let ’s let go back four years . i made an asylum application to xxmaj ecuador in this embassy , because of the xxup u.s. extradition case , and the result was that after a month , i was successful in my asylum application . xxmaj the embassy since then has been surrounded by police : quite an expensive police operation which the xxmaj british government admits to spending more than £ 12.6 million . xxmaj they admitted that over a year ago . xxmaj now there ’s undercover police and there are robot surveillance cameras of various kinds — so that there has been quite a serious conflict right here in the heart of xxmaj london between xxmaj ecuador , a country of sixteen million people , and the xxmaj united xxmaj kingdom , and the xxmaj americans who have been helping on the side . xxmaj so that was a brave and principled thing for xxmaj ecuador to do . xxmaj now we have the xxup u.s. election campaign , the xxmaj ecuadorian election is in xxmaj february next year , and you have the xxmaj white xxmaj house feeling the political heat as a result of the true information that we have been publishing . wikileaks does not publish from the jurisdiction of xxmaj ecuador , from this embassy or in the territory of xxmaj ecuador ; we publish from xxmaj france , we publish from , from xxmaj germany , we publish from xxmaj the xxmaj netherlands and from a number of other countries , so that the attempted squeeze on wikileaks is through my refugee status ; and this is , this is really intolerable . xxmaj it means that [ they ] are trying to get at a publishing organisation ; they try and prevent it from publishing true information that is of intense interest to the xxmaj american people and others about an election . xxup pilger : xxmaj tell us what would happen if you walked out of this embassy . xxup assange : i would be immediately arrested by the xxmaj british police and i would then be extradited either immediately to the xxmaj united xxmaj states or to xxmaj sweden . xxmaj in xxmaj sweden i am not charged , i have already been previously cleared by the xxmaj senior xxmaj stockholm xxmaj prosecutor xxmaj eva xxmaj xxunk . xxmaj we were not certain exactly what would happen there , but then we know that the xxmaj swedish government has refused to say that they will not extradite me to the xxmaj united xxmaj states we know they have extradited 100 per cent of people whom the xxup u.s. has requested since at least 2000 . xxmaj so over the last fifteen years , every single person the xxup u.s. has tried to extradite from xxmaj sweden has been extradited , and they refuse to provide a guarantee [ that wo n’t happen ] . xxup pilger : xxmaj people often ask me how you cope with the isolation in here . xxup assange : xxmaj look , one of the best attributes of human beings is that they ’re adaptable ; one of the worst attributes of human beings is they are adaptable . xxmaj they adapt and start to tolerate abuses , they adapt to being involved themselves in abuses , they adapt to adversity and they continue on . xxmaj so in my situation , frankly , i ’m a bit xxunk — this [ the embassy ] is the world … it ’s visually the world for me . xxup pilger : xxmaj it ’s the world without sunlight , for one thing , is n’t it ? xxup assange : xxmaj it ’s the world without sunlight , but i have n’t seen sunlight in so long , i do n’t remember it . xxup pilger : xxmaj yes . xxup assange : xxmaj so , yes , you adapt . xxmaj the one real irritant is that my young children — they also adapt . xxmaj they adapt to being without their father . xxmaj that ’s a hard , hard xxunk which they did n’t ask for . xxup pilger : xxmaj do you worry about them ? xxup assange : xxmaj yes , i worry about them ; i worry about their mother . ‘ i am innocent and in arbitrary xxunk xxup pilger : xxmaj some people would say , ‘ xxmaj well , why do n’t you end it and simply walk out the door and allow yourself to be extradited to xxmaj xxunk xxup assange : xxmaj the xxup u.n. [ the xxmaj united xxmaj nations xxmaj working xxmaj group on xxmaj arbitrary xxmaj detention ] has looked into this whole situation . xxmaj they spent eighteen months in formal , adversarial litigation . xxmaj so it ’s me and the xxup u.n. verses xxmaj sweden and the xxup u.k. xxmaj who ’s right ? xxmaj the xxup u.n. made a conclusion that i am being arbitrarily detained illegally , deprived of my freedom and that what has occurred has not occurred within the laws that the xxmaj united xxmaj kingdom and xxmaj sweden , and that those countries must obey . xxmaj it is an illegal abuse . xxmaj it is the xxmaj united xxmaj nations formally asking , ‘ xxmaj what ’s going on here ? xxmaj what is your legal explanation for this ? xxmaj assange says that you should recognise his xxunk xxmaj and here is . xxmaj sweden formally writing back to the xxmaj united xxmaj nations to say , ‘ xxmaj no , we ’re not going to recognise the xxup un ruling , so leaving open their ability to extradite . i just find it absolutely amazing that the narrative about this situation is not put out publically in the press , because it does n’t suit the xxmaj western establishment narrative — that yes , the xxmaj west has political prisoners , it ’s a reality , it ’s not just me , there ’s a bunch of other people as well . xxmaj the xxmaj west has political prisoners . xxmaj of course , no state accepts that it should call the people it is imprisoning or detaining for political reasons , political prisoners . xxmaj they do n’t call them political prisoners in xxmaj china , they do n’t call them political prisoners in xxmaj azerbaijan and they do n’t call them political prisoners in the xxmaj united xxmaj states , xxup u.k. or xxmaj sweden ; it is absolutely intolerable to have that kind of self - perception . xxup assange : xxmaj here we have a case , the xxmaj swedish case , where i have never been charged with a crime , where i have already been cleared by the xxmaj stockholm prosecutor and found to be innocent , where the woman herself said that the police made it up , where the xxmaj united xxmaj nations formally said the whole thing is illegal , where the xxmaj state of xxmaj ecuador also investigated and found that i should be given asylum . xxmaj those are the facts , but what is the rhetoric ? xxup pilger : xxmaj yes , it ’s different . xxup assange : xxmaj the rhetoric is pretending , constantly pretending that i have been charged with a crime , and never mentioning that i have been already previously cleared , never mentioning that the woman herself says that the police made it up . xxmaj the rhetoric is trying to avoid the truth that the xxup u.n. formally found that the whole thing is illegal , never even mentioning that xxmaj ecuador made a formal assessment through its formal processes and found that yes , i am subject to persecution by the xxmaj united xxmaj states .,xxbos \n",
       "  xxmaj fox xxmaj news reported : \n",
       "  xxmaj five police officers and yellow caution tape surround xxmaj donald xxmaj trump ’s xxmaj hollywood xxmaj walk of xxmaj fame star — or what ’s left of it . \n",
       "  xxmaj the xxmaj los xxmaj angeles police say they are investigating the smashing of xxmaj trump ’s star following footage that showed the sidewalk tribute was destroyed with a xxunk . \n",
       "  xxmaj xxunk . xxmaj meghan xxmaj xxunk says investigators were called to the scene before dawn xxmaj wednesday . \n",
       "  xxmaj by mid - morning , an xxup xxunk spokesperson at the scene told xxup xxunk the xxmaj chamber of xxmaj commerce was sending out a crew in the hopes of getting the star repaired as soon as possible . \n",
       "  “ xxmaj investigators are looking at [ a ] felony vandalism [ charge ] because of the value which the xxmaj chamber of xxmaj commerce has placed [ on the star ] at $ 2,500 … ” the spokesperson told us . “ xxmaj as soon as investigators can positively identify the suspect , which they are very sure they can do … they will go ahead and make a decision whether they want to arrest that suspect or seek a warrant . ” \n",
       "  xxmaj xxunk spoke with a worker from xxmaj top xxmaj end xxmaj construction who told them that the damage done to xxmaj trump ’s star was “ probably the worst i have seen . ” \n",
       "  a man named xxmaj jamie xxmaj otis has taken responsibility for the destruction , according to xxmaj deadline xxmaj hollywood , which posted a video of the man taking a xxunk to xxmaj trump ’s star . \n",
       "  xxmaj according to xxmaj deadline , xxmaj otis planned to auction off the star and give the money to the 11 women who have come forward with groping allegations against xxmaj trump just weeks before the presidential election . \n",
       "  xxmaj trump has denied the groping allegations and it ’s painfully obvious that they are almost assuredly politically motivated . xxmaj as far as what the women get out of it , some may be politically motivated themselves and others have had their ulterior motives — money , fame , payback because xxmaj trump did n’t go to their restaurant , etc . — exposed . \n",
       "  xxmaj hollywood xxmaj chamber of xxmaj commerce xxmaj president and xxup ceo xxmaj xxunk xxmaj gubler made it clear that his organization “ intends to prosecute to the full extent of the law , ” whoever is found to be responsible for the damage . ” \n",
       "  “ xxmaj the xxmaj hollywood xxmaj walk of xxmaj fame is an institution celebrating the positive contributions of the xxunk , ” xxmaj gubler stated . “ xxmaj when people are unhappy with one of our xxunk , we would hope that they would project their anger in more positive ways than to xxunk a xxmaj california xxmaj state landmark . ”,xxbos ( xxup cnn ) xxmaj an employee at the prison where two convicted killers escaped over the weekend is being questioned as a possible accomplice , a law enforcement source briefed on the investigation told xxup cnn . \n",
       " \n",
       "  xxmaj investigators on xxmaj monday questioned the employee , a woman who worked with escaped convicts xxmaj richard xxmaj matt and xxmaj david xxmaj sweat , tailoring clothing at the xxmaj clinton xxmaj correctional xxmaj facility in xxmaj new xxmaj york . \n",
       " \n",
       "  xxmaj the woman knows the two escapees \" very well , \" the source said , though she has not been charged or arrested . \n",
       " \n",
       "  xxmaj the development comes after xxmaj new xxmaj york xxmaj gov. xxmaj andrew xxmaj cuomo said inmates xxmaj matt and xxmaj sweat must have had help in carrying out the intricate plot . xxmaj the pair , who were in side - by - side cells , used power tools to cut through the cells ' steel walls and xxunk through a maze of underground pipes , according to authorities . \n",
       " \n",
       "  \" xxmaj they would n't have had the equipment on their own , that 's for sure , \" xxmaj cuomo told xxup cnn of the convicted killers , who escaped sometime after they were last seen at bed check xxmaj friday night . \n",
       " \n",
       "  xxmaj the two prisoners were in the \" honor block \" of the prison , meaning they were given certain liberties for good behavior , the law enforcement source said . \n",
       " \n",
       "  xxmaj for the most part they have a clean disciplinary record , according to records provided by a spokeswoman for the xxmaj department of xxmaj corrections . \n",
       " \n",
       "  xxmaj despite a $ 100,000 reward and a manhunt involving some 250 law enforcement officials , xxmaj matt and xxmaj sweat -- both serving lengthy sentences -- were still on the loose xxmaj monday . \n",
       " \n",
       "  \" xxmaj they could be literally anywhere , \" said xxmaj maj . xxmaj charles xxup e. xxmaj guess of the xxmaj new xxmaj york xxmaj state xxmaj police , which is leading the search . \n",
       " \n",
       "  xxmaj cuomo said residents of xxmaj dannemora , where the prison is located , should feel safe because of the presence of hundreds of law enforcement officers there . \n",
       " \n",
       "  xxmaj still , students returned to schools xxmaj monday amid heightened security after police thoroughly searched every building and bus , xxmaj xxunk xxmaj central xxmaj school xxmaj district xxmaj superintendent xxmaj jonathan xxmaj parks said in an email to parents . xxmaj police officers were scheduled to be at every school throughout the day , he said . \n",
       " \n",
       "  xxmaj that 's in part because of its remote location -- in the sparsely populated northeast corner of xxmaj new xxmaj york , about 25 miles from the xxmaj canadian border . \n",
       " \n",
       "  xxmaj and also because it 's in a region where xxunk weather can persist more than half the year . \n",
       " \n",
       "  xxmaj the facility has xxunk inmates , and two of its most notorious inhabitants were xxmaj matt , 49 , and xxmaj sweat , 35 . \n",
       " \n",
       "  xxmaj they apparently were last seen at 10:30 p.m. xxmaj friday during a standing count -- head counts that are performed every two hours throughout the night when guards visually check to see whether inmates are in their xxunk . \n",
       " \n",
       "  xxmaj the pair tricked the guards by arranging things in the xxunk to look \" like people were sleeping ... with these sweatshirt hoodies on , \" xxmaj cuomo said . \n",
       " \n",
       "  xxmaj once they were out of their cells , they then followed a catwalk down an elaborate maze of pipes until they emerged from a manhole outside the prison walls . \n",
       " \n",
       "  xxmaj they evaded detection for some seven hours , until the inmate count at 5:30 a.m. xxmaj saturday . \n",
       " \n",
       "  xxmaj along with the taunting sticky note , the pair also left a host of unanswered , and uncomfortable , questions for law enforcement . \n",
       " \n",
       "  xxmaj how did they get the power tools ? xxmaj how could they have known the layout of the bowels of the old prison ? xxmaj did they have help from the inside ? \n",
       " \n",
       "  xxmaj cuomo , who toured the escape route and announced the $ 100,000 reward xxmaj sunday , said it was possible the tools came from contractors working on the xxunk - old prison . xxmaj authorities are also looking at civilian prison employees , he said . xxmaj but he seemed to rule out the involvement of the prison 's certified employees . \n",
       " \n",
       "  \" i 'd be shocked if a guard was involved , and that 's putting it mildly , \" he said . \n",
       " \n",
       "  xxmaj the danger the two men pose ca n't be overstated , officials said . \n",
       " \n",
       "  xxmaj sweat was serving a life sentence without parole in the killing of xxmaj kevin xxmaj tarsia , a sheriff 's deputy , in 2002 . \n",
       " \n",
       "  xxmaj matt was convicted on three counts of murder , three counts of kidnapping and two counts of robbery after he kidnapped a man and beat him to death in xxmaj december 1997 , state police said . xxmaj he was sentenced to 25 years to life in prison . \n",
       " \n",
       "  \" xxmaj he has a history , \" said xxmaj gabriel xxunk , who led the investigation into the murder for which xxmaj matt was convicted . \" xxmaj he broke out of jail before . xxmaj he is a cunning individual , no question about it , and a vicious individual . \" \n",
       " \n",
       "  xxmaj sweat is white , 5 feet , 11 inches tall and weighs xxunk pounds . xxmaj he has brown hair , green eyes and tattoos on his left xxunk and his right fingers . \n",
       " \n",
       "  xxmaj matt is white , 6 feet tall and weighs xxunk pounds . xxmaj he has black hair , xxunk eyes and several tattoos : \" xxmaj mexico xxmaj forever \" on his back , a heart on his chest and left shoulder , and a xxmaj marine xxmaj corps insignia on his right shoulder . \n",
       " \n",
       "  \" xxmaj these are dangerous people , \" xxmaj cuomo said . \" xxmaj and they 're nothing to be xxunk with . \" \n",
       " \n",
       "  xxmaj matt is also well - known to xxmaj mexican authorities . xxmaj in 2007 , he was extradited from xxmaj mexico back to xxmaj new xxmaj york on a decade - old murder charge , documents show . \n",
       " \n",
       "  xxmaj with the facility 's proximity to xxmaj canada , and with xxmaj matt 's ties to xxmaj mexico , authorities on both international borders have been alerted . \n",
       " \n",
       "  xxmaj officers used roadblocks and xxunk and went door to door in their search for the men . xxmaj they scoured the woods and sifted through the dozens and dozens of tips that came in . \n",
       " \n",
       "  xxmaj but so far , no luck . \n",
       " \n",
       "  xxmaj they do n't know if the pair is still together , had help on the outside , or if the men had access to a vehicle . \n",
       " \n",
       "  xxmaj jonathan xxmaj xxunk , a former xxmaj navy xxup seal , xxup fbi agent , air marshal and police officer , told xxup cnn 's \" xxmaj new xxmaj day \" on xxmaj monday that the inmates might have been able to pull off part of the escape by themselves . xxmaj but he said the presence of power tools and the complicated escape route suggest that they were n't working alone . \n",
       " \n",
       "  \" xxmaj the combination of all those things is very worrisome for me because that spells help , \" he said . \n",
       " \n",
       "  xxmaj on xxmaj sunday , the xxup u.s. xxmaj marshals xxmaj service issued federal arrest warrants for the escapees . xxmaj the warrants clear the way for the federal government to involve its considerable resources in the manhunt . \n",
       " \n",
       "  \" xxmaj every resource available to us will be used in bringing these two men to justice , \" said xxmaj william xxunk , a xxup u.s. xxmaj marshals xxmaj service spokesman . \n",
       " \n",
       "  \" xxmaj we 're leaving no stone xxunk , \" xxmaj guess of the xxmaj new xxmaj york xxmaj state xxmaj police said xxmaj sunday .,xxbos xxmaj president xxmaj obama on xxmaj tuesday escalated his criticism of xxmaj donald xxmaj trump , calling him “ unfit to serve as president , ” as the xxmaj republican presidential nominee faced censure from members of both parties for disparaging the parents of a fallen army captain . \n",
       " \n",
       "  “ xxmaj the notion that he would attack a xxmaj gold xxmaj star family that made such extraordinary sacrifices on behalf of our country , the fact that he does n’t appear to have basic knowledge around critical issues in xxmaj europe , in the xxmaj middle xxmaj east , in xxmaj asia , means that he is woefully unprepared to do this job , ” xxmaj obama said at the xxmaj white xxmaj house , during a news conference with the prime minister of xxmaj singapore . \n",
       " \n",
       "  xxmaj obama also challenged xxmaj republican leaders to go beyond distancing themselves from xxmaj trump , saying their objections “ ring hollow ” as long as they still pledge to vote for him . \n",
       " \n",
       "  “ xxmaj there has to come a point at which you say enough , ” the president said . \n",
       " \n",
       "  xxmaj reflecting on the novelty of his own remarks , xxmaj obama said his warning stands apart from his criticism of his own xxmaj republican presidential rivals , xxmaj sen. xxmaj john mccain ( r - xxmaj ariz . ) and former xxmaj massachusetts governor xxmaj mitt xxmaj romney , with whom he disagreed on “ certain policy issues ” but whose qualifications and “ basic decency ” he did n’t dispute . \n",
       " \n",
       "  “ xxmaj and had they won , i would have been disappointed , but i would have said to all xxmaj americans .   .   . this is our president , and i know they ’re going to abide by certain norms and rules and common sense , ” xxmaj obama said . “ xxmaj but that ’s not the situation here . ” \n",
       " \n",
       "  xxmaj the president ’s remarks xxunk xxmaj republican divisions . xxmaj he also made clear that xxmaj democrats have disagreements of their own , by underscoring his commitment to the xxunk xxmaj trans - xxmaj pacific xxmaj partnership . xxmaj the xxmaj democratic candidate he hopes will succeed him , xxmaj hillary xxmaj clinton , opposes the deal , which is awaiting ratification in xxmaj congress . \n",
       " \n",
       "  “ xxmaj right now i ’m president , and i ’m for it , ” xxmaj obama said . \n",
       " \n",
       "  xxmaj obama ’s was the latest in a volley of complaints this week against xxmaj trump , whose campaign responded in a statement denouncing the president as a “ failed leader ” who has wreaked havoc around the world . \n",
       " \n",
       "  xxmaj bipartisan and among the most sustained of the election cycle , the criticism of xxmaj trump has mainly been a response to his denigration of xxmaj khizr and xxmaj ghazala xxmaj khan , immigrants from xxmaj pakistan who appeared last week at the xxmaj democratic xxmaj national xxmaj convention to denounce him for his harsh rhetoric about xxmaj muslims . xxmaj they said their son , who was killed in xxmaj iraq , would have been barred from entering the country under xxmaj trump ’s proposed ban . \n",
       " \n",
       "  xxmaj but the broadsides have also focused on the nominee ’s comments about foreign relations , including his apparent ignorance of xxmaj russia ’s annexation of the xxmaj ukrainian territory of xxmaj crimea in 2014 and his appeal to xxmaj russian actors to expose xxmaj clinton ’s emails . \n",
       " \n",
       "  xxmaj in response , xxmaj trump has laughed off concerns about his overtures to xxmaj russian xxmaj president xxmaj vladi­mir xxmaj putin , saying warmer relations would help the xxmaj united xxmaj states pursue its international objectives , such as defeating xxmaj islamic xxmaj state militants . \n",
       " \n",
       "  xxmaj at a campaign event xxmaj tuesday in xxmaj xxunk , xxmaj va. , xxmaj trump attacked xxmaj clinton for having a poor relationship with xxmaj putin , saying : “ xxmaj this is a nuclear country we ’re talking about . xxmaj russia . xxmaj strong nuclear country . ” \n",
       " \n",
       "  “ xxmaj their stuff is newer .   .   . they have a lot more , ” he said . “ xxmaj she wants to play the tough one . xxmaj she ’s not tough . ” \n",
       " \n",
       "  [ xxmaj in clash with xxmaj khans , xxmaj trump went too far , some strategists say ] \n",
       " \n",
       "  xxmaj meanwhile , a xxmaj kremlin spokesman told xxup nbc xxmaj news this week that xxmaj putin has never had any contact with xxmaj trump , which is in line with a recent statement by xxmaj trump that he has not spoken to xxmaj putin — and yet in direct conflict with the real estate mogul ’s prior declarations , including in 2014 at the xxmaj national xxmaj press xxmaj club , when xxmaj trump said he had been in xxmaj moscow and had spoken , “ indirectly and directly , ” with the xxmaj russian president . \n",
       " \n",
       "  xxmaj in his hour - long remarks on xxmaj tuesday , delivered at a local high school , xxmaj trump repeated his grave warnings about immigration — across the southern border from xxmaj mexico as well as from countries beset by xxmaj islamic radicalism . xxmaj because “ we do n’t know if they ’re xxup isis , ” xxmaj trump said of migrants from the xxmaj middle xxmaj east , the result would be “ the all - time great xxmaj trojan horse . ” \n",
       " \n",
       "  xxmaj he did n’t mention the xxmaj khans , who have proven themselves dogged in their campaign against xxmaj trump , or new evidence that the candidate ’s approach is driving a wedge in the xxmaj republican xxmaj party . xxmaj rep. xxmaj richard xxmaj hanna ( r - xxup n.y. ) on xxmaj tuesday became the first sitting xxmaj republican member of xxmaj congress to say publicly that he plans to vote for xxmaj clinton , declaring in an interview with xxmaj xxunk that xxmaj trump is a “ national embarrassment . ” \n",
       " \n",
       "  xxmaj the three - term congressman , who represents a swath of upstate xxmaj new xxmaj york near xxmaj syracuse but is not running for reelection this year , has bucked his party in the past on issues ranging from gay marriage to climate change . xxmaj he declared his support for xxmaj clinton in an opinion piece published xxmaj tuesday on the news website and elaborated in an interview that xxmaj trump ’s prolonged feud with the parents of a xxmaj muslim xxmaj american xxmaj army captain killed in xxmaj iraq was the final straw . \n",
       " \n",
       "  “ i saw that and felt incensed , ” xxmaj hanna said in the interview . “ i was stunned by the xxunk of his comments . ” \n",
       " \n",
       "  xxmaj he added : “ i think xxmaj trump is a national embarrassment . xxmaj is he really the guy you want to have the nuclear codes ? ” \n",
       " \n",
       "  xxmaj hanna had already said he would not vote for xxmaj trump — a stance shared by a handful of his xxmaj republican colleagues . xxmaj but his pronouncement that he would therefore support xxmaj clinton , a woman reviled by much of his party , dealt yet another blow to xxmaj trump as his poll numbers dip in the wake of the conventions and as his campaign struggles under mounting criticism over his response to the xxmaj khans , whose son xxmaj humayun was killed in 2004 , at age 27 , by a car bomber in xxmaj iraq . \n",
       " \n",
       "  xxmaj trump said xxmaj khizr xxmaj khan had “ no right ” to xxunk him and suggested that xxmaj ghazala xxmaj khan was barred by her xxmaj muslim faith from speaking alongside her husband . \n",
       " \n",
       "  xxmaj the quarrel continued into this week , as xxmaj trump tweeted that xxmaj khan had “ viciously attacked ” him and had shifted focus from the real concern , “ xxup radical xxup islamic xxup terrorism . ” xxmaj the xxup gop nominee faced strong criticism from a bipartisan group of decorated combat veterans , members of xxmaj congress and family members of slain soldiers . a particularly lengthy and impassioned rebuke came from mccain , the xxmaj senate xxmaj armed xxmaj services xxmaj committee chairman , who was a prisoner of war in xxmaj vietnam . \n",
       " \n",
       "  “ xxmaj while our party has bestowed upon him the nomination , it is not accompanied by unfettered license to xxunk those who are the best among us , ” mccain said . \n",
       " \n",
       "  [ xxmaj broad array of military luminaries condemn xxmaj trump over attacks on xxmaj khans ] \n",
       " \n",
       "  xxmaj on xxmaj tuesday , xxmaj trump addressed the matter only implicitly , xxunk the media for not giving enough attention to xxmaj patricia xxmaj smith , a xxmaj trump supporter who is the mother of a victim of the xxmaj benghazi attacks , while giving “ other people unbelievable amounts of air . ” xxmaj in fact , multiple networks , including xxup cnn and xxup msnbc , carried xxmaj smith ’s speech at the xxmaj republican xxmaj national xxmaj convention live , while xxmaj fox xxmaj news — whose host , xxmaj brian xxmaj xxunk , criticized other networks for not covering xxmaj smith — did not . \n",
       " \n",
       "  xxmaj trump also said his critics would never desert him because they fear a xxmaj supreme xxmaj court stacked with xxmaj clinton appointees . xxmaj he recounted his own comments from a campaign stop in xxmaj pennsylvania , in which he said he told his audience that “ even if people do n’t like me , they have to vote for me . ” \n",
       " \n",
       "  “ i said , even if you ca n’t stand xxmaj donald xxmaj trump , you think xxmaj donald xxmaj trump is the worst , you ’re going to vote for me . xxmaj you know why ? xxmaj justices of the xxmaj supreme xxmaj court , ” he said . “ xxmaj if they pick judges , we ’re going to end up with another xxmaj venezuela , except just a bigger version . ” \n",
       " \n",
       "  xxmaj with a bit of xxunk , xxmaj trump also appeared to try to fend off questions about his military acumen — and his own draft xxunk during the xxmaj vietnam xxmaj war — by beckoning onto the stage a lieutenant colonel . xxmaj the man had given him his xxmaj purple xxmaj heart medal before the rally as a vote of “ confidence , ” xxmaj trump said . \n",
       " \n",
       "  “ i always wanted to get the xxmaj purple xxmaj heart , ” xxmaj trump said . “ xxmaj this was much easier . ”,xxbos xxmaj if you want a glimpse into a presidential candidate ’s governing style , take a look at his campaign . xxmaj how does he build an organization ? xxmaj how does he manage personnel ? xxmaj how does he delegate responsibility ? xxmaj does he value loyalty or honesty in advisers ? xxmaj it ’s hardly conclusive , but how a candidate deals with these challenges says a lot about what they ’d prioritize as president . \n",
       " \n",
       "  xxmaj the presumptive xxmaj republican nominee has managed his campaign the way he manages his casinos or his xxunk xxup tv program : xxunk and with an xxunk arrogance . xxmaj everything ’s about the brand and non - sycophants are cast aside . xxmaj getting it right is far less important than being right . xxmaj thus , when prompted by advisers to   dial down the rhetoric and think more about his long - term viability , xxmaj trump has resisted . xxmaj he ’s yet to understand how different a primary and a general election are , and he ’s too xxunk to listen to anyone who tries to explain it . \n",
       " \n",
       "  xxmaj trump is n’t as stupid as he pretends to be , but his confidence seems to scale with his ignorance , and that ’s a dangerous trait in a president , given how consequential each decision can be .   xxmaj as a candidate , a confident idiot can make a lot of noise and fool a lot of voters . xxmaj but you ca n’t lead that way . xxmaj as president , xxmaj trump would need the sober advice of serious professionals . xxmaj considering how little he understands about the job and the world , this is especially true in his case . \n",
       " \n",
       "  xxmaj based on the latest behind - the - scenes reports on xxmaj trump ’s campaign ( as well as his entire history in real estate and television ) , it ’s unlikely he would govern with the humility and self - awareness required . xxmaj the campaign has undergone several shake - ups in recent months , with key staffers like xxmaj corey xxmaj lewandowski being demoted to make way for veteran operatives like xxmaj paul xxmaj manafort . xxmaj trump ’s approach has remained very much the same , however . xxmaj everyone he brings in bends to his will or is replaced by someone who does . \n",
       " \n",
       "  xxmaj things have gotten more chaotic in the last week or so , as xxmaj rick xxmaj wiley was fired as the campaign ’s national political director . xxmaj wiley was known to assert himself in ways that alienated xxmaj trump and his loyalists .   xxmaj the xxmaj washington xxmaj post ’s xxmaj sean xxmaj sullivan and xxmaj robert xxmaj costa summarized the broader situation   over the weekend : “ xxmaj for the last two months , xxmaj donald xxmaj trump has presided over a political team riddled with turf wars , staff reshuffling and dueling power centers . xxmaj but tensions are more than typical campaign chaos : xxmaj they illustrate how xxmaj trump likes to run an organization , whether it ’s a real estate venture or his presidential bid . xxmaj interviews with current and former xxmaj trump associates reveal an executive who is fond of promoting rivalries among subordinates , wary of delegating major decisions , scornful of convention and fiercely insistent on a culture of loyalty around him . ” xxmaj these are the management techniques of a brand - hustling magnate , not a president of the xxmaj united xxmaj states . xxmaj trump ’s dictatorial approach works well on the campaign trail , but it ’d be a disaster in office . a president has to persuade and compromise . xxmaj the capacity to admit ignorance is equally important . xxmaj trump , by all accounts , has no interest in any of these things . xxmaj trump does n’t know what he needs to know in order to be president , nor does he care that he does n’t know . xxmaj if his campaign is any indication , he ’ll hire people to ensure his veil of ignorance is never cracked . xxmaj that kind of xxunk is why xxmaj trump is who he is – it ’s part of his outsized persona . xxmaj it ’s also the clearest indicator we have of the kind of president he ’d be .\n",
       "y: LMLabelList\n",
       ",,,,\n",
       "Path: /home/jupyter/.fastai/data/fakenews;\n",
       "\n",
       "Test: None, model=SequentialRNN(\n",
       "  (0): AWD_LSTM(\n",
       "    (encoder): Embedding(35032, 400, padding_idx=1)\n",
       "    (encoder_dp): EmbeddingDropout(\n",
       "      (emb): Embedding(35032, 400, padding_idx=1)\n",
       "    )\n",
       "    (rnns): ModuleList(\n",
       "      (0): WeightDropout(\n",
       "        (module): LSTM(400, 1152, batch_first=True)\n",
       "      )\n",
       "      (1): WeightDropout(\n",
       "        (module): LSTM(1152, 1152, batch_first=True)\n",
       "      )\n",
       "      (2): WeightDropout(\n",
       "        (module): LSTM(1152, 400, batch_first=True)\n",
       "      )\n",
       "    )\n",
       "    (input_dp): RNNDropout()\n",
       "    (hidden_dps): ModuleList(\n",
       "      (0): RNNDropout()\n",
       "      (1): RNNDropout()\n",
       "      (2): RNNDropout()\n",
       "    )\n",
       "  )\n",
       "  (1): LinearDecoder(\n",
       "    (decoder): Linear(in_features=400, out_features=35032, bias=True)\n",
       "    (output_dp): RNNDropout()\n",
       "  )\n",
       "), opt_func=functools.partial(<class 'torch.optim.adam.Adam'>, betas=(0.9, 0.99)), loss_func=FlattenedLoss of CrossEntropyLoss(), metrics=[<function accuracy at 0x7fb0b6e497b8>], true_wd=True, bn_wd=True, wd=0.01, train_bn=True, path=PosixPath('/home/jupyter/.fastai/data/fakenews'), model_dir='models', callback_fns=[functools.partial(<class 'fastai.basic_train.Recorder'>, add_time=True, silent=False)], callbacks=[RNNTrainer\n",
       "learn: ...\n",
       "alpha: 2.0\n",
       "beta: 1.0], layer_groups=[Sequential(\n",
       "  (0): WeightDropout(\n",
       "    (module): LSTM(400, 1152, batch_first=True)\n",
       "  )\n",
       "  (1): RNNDropout()\n",
       "), Sequential(\n",
       "  (0): WeightDropout(\n",
       "    (module): LSTM(1152, 1152, batch_first=True)\n",
       "  )\n",
       "  (1): RNNDropout()\n",
       "), Sequential(\n",
       "  (0): WeightDropout(\n",
       "    (module): LSTM(1152, 400, batch_first=True)\n",
       "  )\n",
       "  (1): RNNDropout()\n",
       "), Sequential(\n",
       "  (0): Embedding(35032, 400, padding_idx=1)\n",
       "  (1): EmbeddingDropout(\n",
       "    (emb): Embedding(35032, 400, padding_idx=1)\n",
       "  )\n",
       "  (2): LinearDecoder(\n",
       "    (decoder): Linear(in_features=400, out_features=35032, bias=True)\n",
       "    (output_dp): RNNDropout()\n",
       "  )\n",
       ")], add_time=True, silent=None)"
      ]
     },
     "execution_count": 54,
     "metadata": {},
     "output_type": "execute_result"
    }
   ],
   "source": [
    "learn.load('fit_head')"
   ]
  },
  {
   "cell_type": "markdown",
   "metadata": {},
   "source": [
    "To compleate the finetuning, unfreeze and learn some more."
   ]
  },
  {
   "cell_type": "code",
   "execution_count": 55,
   "metadata": {},
   "outputs": [
    {
     "data": {
      "text/html": [
       "<table border=\"1\" class=\"dataframe\">\n",
       "  <thead>\n",
       "    <tr style=\"text-align: left;\">\n",
       "      <th>epoch</th>\n",
       "      <th>train_loss</th>\n",
       "      <th>valid_loss</th>\n",
       "      <th>accuracy</th>\n",
       "      <th>time</th>\n",
       "    </tr>\n",
       "  </thead>\n",
       "  <tbody>\n",
       "    <tr>\n",
       "      <td>0</td>\n",
       "      <td>4.374113</td>\n",
       "      <td>4.154143</td>\n",
       "      <td>0.299143</td>\n",
       "      <td>12:02</td>\n",
       "    </tr>\n",
       "    <tr>\n",
       "      <td>1</td>\n",
       "      <td>4.260581</td>\n",
       "      <td>4.066842</td>\n",
       "      <td>0.310099</td>\n",
       "      <td>12:03</td>\n",
       "    </tr>\n",
       "    <tr>\n",
       "      <td>2</td>\n",
       "      <td>4.194498</td>\n",
       "      <td>4.003169</td>\n",
       "      <td>0.315735</td>\n",
       "      <td>12:03</td>\n",
       "    </tr>\n",
       "    <tr>\n",
       "      <td>3</td>\n",
       "      <td>4.181240</td>\n",
       "      <td>3.959823</td>\n",
       "      <td>0.319139</td>\n",
       "      <td>12:01</td>\n",
       "    </tr>\n",
       "    <tr>\n",
       "      <td>4</td>\n",
       "      <td>4.120789</td>\n",
       "      <td>3.929326</td>\n",
       "      <td>0.321368</td>\n",
       "      <td>12:02</td>\n",
       "    </tr>\n",
       "    <tr>\n",
       "      <td>5</td>\n",
       "      <td>4.059417</td>\n",
       "      <td>3.908579</td>\n",
       "      <td>0.322948</td>\n",
       "      <td>12:02</td>\n",
       "    </tr>\n",
       "    <tr>\n",
       "      <td>6</td>\n",
       "      <td>4.057858</td>\n",
       "      <td>3.895541</td>\n",
       "      <td>0.323949</td>\n",
       "      <td>12:02</td>\n",
       "    </tr>\n",
       "    <tr>\n",
       "      <td>7</td>\n",
       "      <td>4.058558</td>\n",
       "      <td>3.888003</td>\n",
       "      <td>0.324463</td>\n",
       "      <td>12:01</td>\n",
       "    </tr>\n",
       "    <tr>\n",
       "      <td>8</td>\n",
       "      <td>4.083774</td>\n",
       "      <td>3.885517</td>\n",
       "      <td>0.324606</td>\n",
       "      <td>12:01</td>\n",
       "    </tr>\n",
       "    <tr>\n",
       "      <td>9</td>\n",
       "      <td>4.055897</td>\n",
       "      <td>3.885000</td>\n",
       "      <td>0.324652</td>\n",
       "      <td>12:01</td>\n",
       "    </tr>\n",
       "  </tbody>\n",
       "</table>"
      ],
      "text/plain": [
       "<IPython.core.display.HTML object>"
      ]
     },
     "metadata": {},
     "output_type": "display_data"
    }
   ],
   "source": [
    "learn.unfreeze()\n",
    "learn.fit_one_cycle(10, 6e-6, moms=(0.8, 0.7)) # what are moms?"
   ]
  },
  {
   "cell_type": "code",
   "execution_count": 56,
   "metadata": {},
   "outputs": [
    {
     "data": {
      "image/png": "[encoded data removed]",
      "text/plain": [
       "<Figure size 432x288 with 1 Axes>"
      ]
     },
     "metadata": {
      "needs_background": "light"
     },
     "output_type": "display_data"
    }
   ],
   "source": [
    "learn.recorder.plot_losses()"
   ]
  },
  {
   "cell_type": "code",
   "execution_count": 57,
   "metadata": {},
   "outputs": [],
   "source": [
    "learn.save('fine_tuned')"
   ]
  },
  {
   "cell_type": "code",
   "execution_count": 58,
   "metadata": {},
   "outputs": [],
   "source": [
    "TEXT = \"I'm having good\"\n",
    "N_WORDS = 40\n",
    "N_SENTENCES = 2"
   ]
  },
  {
   "cell_type": "code",
   "execution_count": 59,
   "metadata": {},
   "outputs": [
    {
     "name": "stdout",
     "output_type": "stream",
     "text": [
      "I'm having good feelings with me , i think it is exciting . But i haven ' t seen it before . i am sure i would have gone against it . No , i think i am a man .\n",
      "I'm having good time for the Republican Party , i will abandon that race as a result of an ongoing disagreement over the presidential election , i know . We were not going to be fortunate enough . i did\n"
     ]
    }
   ],
   "source": [
    "print(\"\\n\".join(learn.predict(TEXT, N_WORDS, temperature=0.75) for _ in range(N_SENTENCES)))"
   ]
  },
  {
   "cell_type": "code",
   "execution_count": 60,
   "metadata": {},
   "outputs": [],
   "source": [
    "learn.save_encoder('finetuned_enc')"
   ]
  },
  {
   "cell_type": "markdown",
   "metadata": {},
   "source": [
    "## Classifier"
   ]
  },
  {
   "cell_type": "code",
   "execution_count": 63,
   "metadata": {},
   "outputs": [],
   "source": [
    "data_clas = (TextList.from_df(df, path, cols='text')\n",
    "                .split_by_rand_pct(0.1)\n",
    "                .label_from_df(cols='label')\n",
    "                .databunch())\n",
    "data_clas.save('data_clas.pkl')"
   ]
  },
  {
   "cell_type": "code",
   "execution_count": 12,
   "metadata": {},
   "outputs": [],
   "source": [
    "data_clas = load_data(path, 'data_clas.pkl', bs=bs)"
   ]
  },
  {
   "cell_type": "code",
   "execution_count": 15,
   "metadata": {},
   "outputs": [
    {
     "data": {
      "text/html": [
       "<table border=\"1\" class=\"dataframe\">\n",
       "  <thead>\n",
       "    <tr style=\"text-align: right;\">\n",
       "      <th>text</th>\n",
       "      <th>target</th>\n",
       "    </tr>\n",
       "  </thead>\n",
       "  <tbody>\n",
       "    <tr>\n",
       "      <td>xxbos xxmaj why xxmaj are xxmaj so xxmaj many xxmaj people xxmaj choosing xxmaj to xxmaj leave xxmaj the xxmaj united xxmaj states xxmaj permanently ? xxmaj august 11th , 2013 \\n  xxmaj have things gotten so bad that it is time to leave the xxmaj united xxmaj states for good ? xxmaj that is a question that a lot of xxmaj americans are dealing with these days ,</td>\n",
       "      <td>FAKE</td>\n",
       "    </tr>\n",
       "    <tr>\n",
       "      <td>xxbos xxmaj it ’s nearing midnight as xxmaj steve xxmaj bannon pushes past the bluegrass band in his living room and through a crowd of xxmaj republican congressmen , political operatives , and a few stray xxmaj duck xxmaj dynasty cast members . xxmaj he ’s trying to make his way back to the siriusxm xxmaj patriot radio show , broadcasting live from a cramped corner of the xxunk townhouse</td>\n",
       "      <td>REAL</td>\n",
       "    </tr>\n",
       "    <tr>\n",
       "      <td>xxbos xxmaj financial xxmaj markets , xxmaj market xxmaj manipulation , xxup u.s. xxmaj economy xxmaj clinton xxmaj foundation , xxup fbi warrant , investigation of xxmaj hillary , xxmaj james xxmaj comey xxup fbi , xxmaj weiner laptop admin \\n  xxmaj stewart xxmaj dougherty presents the 2nd part of his xxunk of the xxmaj clinton crime machine . xxmaj the xxmaj weiner email bomb dropped in the middle</td>\n",
       "      <td>FAKE</td>\n",
       "    </tr>\n",
       "    <tr>\n",
       "      <td>xxbos xxmaj washington ( xxup cnn ) xxmaj the ever - turbulent 2016 election is now just plain weird . \\n \\n  xxmaj the attack on an xxmaj orlando gay nightclub -- the worst strike on xxup u.s. soil since 9 / 11 -- spurred a strange week of politics even by this year 's standards . \\n \\n  xxmaj as always , xxmaj donald xxmaj trump was</td>\n",
       "      <td>REAL</td>\n",
       "    </tr>\n",
       "    <tr>\n",
       "      <td>xxbos = &gt; xxmaj professor xxmaj george xxmaj borjas at xxmaj harvard . xxmaj credit : vdare.com . \\n  xxmaj borjas no bore . xxmaj october 20th i went to an event organized by the xxmaj center for xxmaj immigration xxmaj studies to hear xxmaj professor xxmaj george xxmaj borjas present his new book , xxmaj we xxmaj wanted xxmaj workers . xxmaj borjas explains the title in his</td>\n",
       "      <td>FAKE</td>\n",
       "    </tr>\n",
       "  </tbody>\n",
       "</table>"
      ],
      "text/plain": [
       "<IPython.core.display.HTML object>"
      ]
     },
     "metadata": {},
     "output_type": "display_data"
    }
   ],
   "source": [
    "data_clas.show_batch()"
   ]
  },
  {
   "cell_type": "code",
   "execution_count": 13,
   "metadata": {},
   "outputs": [],
   "source": [
    "data_clas.vocab.itos = data_lm.vocab.itos # because of size mismatch error"
   ]
  },
  {
   "cell_type": "code",
   "execution_count": 14,
   "metadata": {},
   "outputs": [],
   "source": [
    "learn = text_classifier_learner(data_clas, AWD_LSTM, drop_mult=0.3)\n",
    "learn.load_encoder('finetuned_enc')"
   ]
  },
  {
   "cell_type": "code",
   "execution_count": 70,
   "metadata": {},
   "outputs": [
    {
     "data": {
      "text/html": [],
      "text/plain": [
       "<IPython.core.display.HTML object>"
      ]
     },
     "metadata": {},
     "output_type": "display_data"
    },
    {
     "name": "stdout",
     "output_type": "stream",
     "text": [
      "LR Finder is complete, type {learner_name}.recorder.plot() to see the graph.\n"
     ]
    }
   ],
   "source": [
    "learn.lr_find()"
   ]
  },
  {
   "cell_type": "code",
   "execution_count": 71,
   "metadata": {},
   "outputs": [
    {
     "name": "stdout",
     "output_type": "stream",
     "text": [
      "Min numerical gradient: 2.09E-03\n",
      "Min loss divided by 10: 1.74E-02\n"
     ]
    },
    {
     "data": {
      "image/png": "[encoded data removed]",
      "text/plain": [
       "<Figure size 432x288 with 1 Axes>"
      ]
     },
     "metadata": {
      "needs_background": "light"
     },
     "output_type": "display_data"
    }
   ],
   "source": [
    "learn.recorder.plot(suggestion=True)"
   ]
  },
  {
   "cell_type": "code",
   "execution_count": 72,
   "metadata": {},
   "outputs": [
    {
     "data": {
      "text/html": [
       "<table border=\"1\" class=\"dataframe\">\n",
       "  <thead>\n",
       "    <tr style=\"text-align: left;\">\n",
       "      <th>epoch</th>\n",
       "      <th>train_loss</th>\n",
       "      <th>valid_loss</th>\n",
       "      <th>accuracy</th>\n",
       "      <th>time</th>\n",
       "    </tr>\n",
       "  </thead>\n",
       "  <tbody>\n",
       "    <tr>\n",
       "      <td>0</td>\n",
       "      <td>0.303705</td>\n",
       "      <td>0.178231</td>\n",
       "      <td>0.919431</td>\n",
       "      <td>04:43</td>\n",
       "    </tr>\n",
       "  </tbody>\n",
       "</table>"
      ],
      "text/plain": [
       "<IPython.core.display.HTML object>"
      ]
     },
     "metadata": {},
     "output_type": "display_data"
    }
   ],
   "source": [
    "learn.fit_one_cycle(1, 2e-3, moms=(0.8, 0.7))"
   ]
  },
  {
   "cell_type": "code",
   "execution_count": 73,
   "metadata": {},
   "outputs": [],
   "source": [
    "learn.save('first')"
   ]
  },
  {
   "cell_type": "code",
   "execution_count": 74,
   "metadata": {},
   "outputs": [],
   "source": [
    "learn.load('first');"
   ]
  },
  {
   "cell_type": "code",
   "execution_count": 75,
   "metadata": {},
   "outputs": [],
   "source": [
    "learn.freeze_to(-2)"
   ]
  },
  {
   "cell_type": "code",
   "execution_count": 76,
   "metadata": {},
   "outputs": [
    {
     "data": {
      "text/html": [
       "<table border=\"1\" class=\"dataframe\">\n",
       "  <thead>\n",
       "    <tr style=\"text-align: left;\">\n",
       "      <th>epoch</th>\n",
       "      <th>train_loss</th>\n",
       "      <th>valid_loss</th>\n",
       "      <th>accuracy</th>\n",
       "      <th>time</th>\n",
       "    </tr>\n",
       "  </thead>\n",
       "  <tbody>\n",
       "    <tr>\n",
       "      <td>0</td>\n",
       "      <td>0.240529</td>\n",
       "      <td>0.115246</td>\n",
       "      <td>0.973144</td>\n",
       "      <td>05:20</td>\n",
       "    </tr>\n",
       "  </tbody>\n",
       "</table>"
      ],
      "text/plain": [
       "<IPython.core.display.HTML object>"
      ]
     },
     "metadata": {},
     "output_type": "display_data"
    }
   ],
   "source": [
    "learn.fit_one_cycle(1, slice(2e-3/(2.6**4), 2e-3), moms=(0.8,0.7))"
   ]
  },
  {
   "cell_type": "code",
   "execution_count": 77,
   "metadata": {},
   "outputs": [],
   "source": [
    "learn.save('second')"
   ]
  },
  {
   "cell_type": "code",
   "execution_count": 18,
   "metadata": {},
   "outputs": [
    {
     "data": {
      "text/plain": [
       "RNNLearner(data=TextClasDataBunch;\n",
       "\n",
       "Train: LabelList (5702 items)\n",
       "x: TextList\n",
       "xxbos xxmaj stable xxmaj sands , a xxmaj clyde xxmaj web xxmaj programs at the xxmaj looking xxmaj leader , is a xxmaj new xxmaj case fears ancient on individuals xxmaj joined . \n",
       "  xxmaj in the worked violated of the government , xxmaj like xxmaj alt xxmaj clinton has century to sanders with the xxup whether . \n",
       "  xxmaj the board “ runs ” has been lesser foreign when men this government that it admiral to be hate . xxmaj said it ’s see runs for the high of a iraq against party to gop sanders with the xxup whether . \n",
       "  xxmaj said that ’s appeared people xxmaj like and her do have international . xxmaj suzerainty watched just epstein up now and endorsed an television of xxup lot from their pm wright would competitive that xxup whether xxmaj director xxmaj rule xxmaj level is xxmaj like ’s physical in this government . \n",
       "  xxmaj the xxup whether is under information by simply from xxmaj our to xxup lot . xxmaj like ’s do have connecting a consider weak xxmaj level . xxmaj there are funding ) united pro legislature mccann did than shape xxmaj trump . xxmaj it would   be among deeper what the xxmaj weekend or their brought were to together official information significantly political the xxup whether . \n",
       "  xxmaj the xxup whether ’s illegal is white direct that the agreement left - upon north will views a facing reasoning what they monday going after xxmaj like . xxmaj and the xxup whether ’s walked is white material by the united and the xxmaj week to fiscally jobs off the east of the major of the xxmaj clinton xxmaj 2015 and xxmaj like xxmaj clinton . \n",
       "  xxmaj the dont counter bush xxup whether arab and xxmaj our ’s xxup consistently do has century xxunk during . \n",
       "  xxmaj the xxmaj new xxmaj case xxmaj iran has neither xxmaj level to xxup expert xxmaj tongue xxmaj enabled . xxmaj its burden naval , “ xxmaj rule xxmaj level xxmaj executive xxmaj occurs xxmaj enabled ’s xxup whether , xxmaj investors or xxmaj not ” enforce firmly up points that it ’s confidante reliable . xxmaj the xxmaj product xxmaj intention has beyond a hosted enforcement for xxmaj level ’s accomplished . xxmaj not to be dakotans , xxmaj time has an witness registered that the pipeline is win an information on if federal . \n",
       "  xxmaj rule xxmaj tymoshenko popular on xxup pew to accepting simply that he was see customers and nypd . xxmaj he completely xxmaj level of teachings with xxmaj house xxmaj such and the xxup simultaneous . xxmaj and you potential the “ safety much upon rand ” was a violated . \n",
       "  xxmaj define united forced 13 xxmaj level with catholics hunt . xxmaj all you back people ’s a holdings isil can xxmaj gmt legislation primary fines on your teaching biden . \n",
       "  xxmaj center xxmaj contributions xxmaj charlie has presidency xxmaj level a consider accountability did of catholics the xxmaj credibility xxmaj doing . xxmaj the xxmaj credibility xxmaj doing is a tensions small that has as well 25,000 in the helped of xxmaj our as the xxmaj provinces xxmaj couple . xxmaj said the extended news valley voted slow with united tendencies nrpa at the xxmaj filmmaker tell on the xxmaj credibility xxmaj doing under the filed while accountability the xxup whether director of one of the republican embargo bites political xxmaj like enough . \n",
       "  xxmaj what xxmaj rule xxmaj level is win out to names xxmaj like , he deadly one smith of a dirty percent to all it . \n",
       "  xxmaj not among long working xxmaj week were durst a dancing of latino so he criminal xxmaj like xxmaj clinton a dangerous in a commitment during behind . xxmaj what he win were out to effects xxmaj trump by videos the believe pipeline going , why two he deploy the major can xxmaj was he on the sword of xxmaj house xxmaj such and the xxup simultaneous ' then and essentially it loom or was it a briefly largest before xxmaj p.m. xxmaj 2008 and xxmaj matter xxmaj toward steps did into senator a less at xxmaj aware xxmaj walker ’s bureau can \n",
       "  xxmaj share xxmaj level is the republican basics xxup whether director that enough elsewhere or he ’s just chili convention to 1930s a against speculation that has rhode did bush a xxup consistently illegal twitter against diagnosed are likes to xxmaj like ’s article and his ‘ hell twitter stoking arab just says to be corporate to all their recently . \n",
       "  xxmaj the only practice hamas speech is why xxmaj like and her fiction author to gop to sanders with a regulate xxmaj use energy . xxmaj republican xxmaj according hillary the xxup whether while xxmaj like xxmaj clinton attribution a fed bill devoted priority . \n",
       "  xxmaj and it ’s an bottom home . \n",
       "  xxmaj like ’s control tried was to libertarian and practices that the xxup whether even had a sign major approve . xxmaj lead her fiction onto that it was a called lose . xxmaj the xxup whether pastors her and she compiling it off . xxmaj said the control bracelet midst speak has polls percent to a telegraph august on the xxup whether . \n",
       "  xxmaj producers that across was ted was a governor tried , said it was a report one that indicate a always with the xxup whether while chill xxmaj clinton fiction whose to common that the xxup whether is win the xxup simultaneous . \n",
       "  xxmaj there are – problem adequate . \n",
       "  xxmaj like xxmaj clinton fact be radioactive second to valdai out at the xxup whether now that she pass that article is europe . xxmaj the law face of carmel that himself her to find her article unreal speed could person her to halloween a sanders on the xxup whether for schoolcraft her since the worked ad of her campaign . \n",
       "  xxmaj said the us ap is that her do bolstered . \n",
       "  xxmaj going to sanders with the xxup whether is not the survey of a mccarthy and faith very campaign . xxmaj it ’s an doing of crop . xxmaj so a very … departure that her only desire is to whose and backing the walked of the xxup whether , that ’s not carmel , it ’s mind of people the xxup whether fact be about to increases about her . \n",
       "  xxmaj since the conditions xxup whether major , xxmaj like xxmaj clinton was poverty that she could tour it out . xxmaj and she had good trade for quiet that . xxmaj said that xxmaj like xxmaj clinton is century . xxmaj in her show is a mathematically tarmac . xxmaj front a leadership december of time the “ repeatedly ” xxmaj clinton campaign stake to confront the country has been episode by a appeals and 5:30 agenda that has faith if its head on actions the xxup whether . \n",
       "  xxmaj there ’s only one trade for made burden survey . \n",
       "  xxmaj the xxmaj clinton campaign has author that an xxup whether major of the happen gaps of days tapper a self to its stephen . xxmaj and when it ’s century if in on actions the xxup whether . xxmaj it ’s an runs gets effect of mind . xxmaj it ’s call to back next that mind is o’reilly . xxmaj said the uk of that mind saying jail other a minister little . \n",
       "  xxmaj clinton katie percentage the control major . xxmaj they included the ben terrorist of time as -- as they included the ’re action . xxmaj now map they are no address in each . xxmaj and they are edge . \n",
       "  xxmaj you ? consulate the mind . \n",
       "  xxmaj the xxup whether has bulgaria from the major of the xxmaj clinton xxmaj 2015 . xxmaj it ’s exist new days if the time . xxmaj and xxmaj authentically bolstered . xxmaj the xxunk of xxmaj authentically have challenge that the believe pipeline is just when well dallas point politicians . xxmaj if that ’s here is the sees of admirals point any of the premiums . xxmaj said this is   because you appointments to dallas . xxmaj it ’s because you writing to a politicians . \n",
       "  xxmaj the brady august on the xxup whether jail other that xxmaj like xxmaj clinton and her brought are edge of a hook proposal than the guard adhm of her believe jan . xxmaj the believe jan was a laurent accused up . xxmaj the xxmaj clinton campaign has bolstered prefer out of the heads , much or ted , that culture comment the fighting jan was defend to accused up is at experience of white apart . \n",
       "  xxmaj the xxmaj weekend have teased define developing over the world . xxmaj culture they are closing this time foreign is proposal than the proud rich , alfa , phone profiling and occasions of congress that have 18 them foreign raise the world . xxmaj this is proposal and ) 41 than any of the smart that have saying black out . xxmaj and they all   says xxup whether systems drawn europe it . \n",
       "  xxmaj the campaign political xxmaj level is pacs militia . xxmaj it ’s also a qaeda . xxmaj any area xxup whether do who arizona their losers are white direct to e important . xxmaj the xxmaj week are oct. lowest foreign their high political the xxup whether . xxmaj it ’s an music and runs estate . xxmaj it year also be their last marriage . \n",
       "  xxmaj like xxmaj clinton has chili structural her percent through disaster developing in just this government reserve . xxmaj said she ’s work addition mind or crop should . xxmaj now that has ukraine . xxmaj culture she is edge of , it closed blew in her days with xxmaj interesting xxmaj billionaire . xxmaj and it ? company her former hillary across society has .,xxbos xxmaj etc xxmaj cow xxmaj teddy xxmaj drum xxmaj cents xxmaj norris xxmaj maryland xxmaj monument xxmaj destructive xxmaj trudeau \n",
       "  xxmaj there are – guard straw in this get : xxmaj matter xxmaj toward consulting millions to be president . xxmaj and xxmaj matter xxmaj toward will work be president . xxmaj end asian it . \n",
       "  xxmaj in a god delayed comments of against somber , xxmaj matter xxmaj toward classified - classified - classified - immune care and rules that he was ' on the xxmaj trump xxmaj permission after if . xxmaj this was an xxunk from before he was a look r working . xxmaj he had revealed mark he would not be directly or humanitarian xxmaj trump after a technical was support during in n’t xxmaj trump minors about kunduz federal . xxmaj map , xxmaj toward was submit at a father - xxmaj trump california and divestment gon that he saying presidency in his down to way did xxmaj president of the xxmaj media xxmaj states . xxmaj it was a shamelessly message . xxmaj the duel of the xxmaj many xxmaj party xxunk future in rubble , russian up on a turned on a sanaa anthony in xxmaj wins , and easing a combined . . asda ] he inside for inquiries : “ xxmaj such , it is time to black cnn ” mexican : / / tired / xxunk existence / xxunk \n",
       "  — xxup basic xxmaj news xxmaj november ( xxunk more xxmaj question list , told \n",
       "  xxmaj the xxmaj 2016 xxmaj party could   have run for a report message of trillion . xxmaj toward ’s congressman of enough accept president true former to basis in an cheered . xxmaj in the thesis xxmaj trump is to whole seen in his martin , those who xxunk stories his campaign will not displayed . xxmaj what xxmaj toward ’s moral strengthened to ’60s if the percent to publish , then the xxup joe will have this technical conscience and enrollment to be secretary in security consequences took xxmaj government xxmaj both . \n",
       "  xxmaj the overrun founder of the put he ready whiteness on a third seems 45 nsc about his ‘ xxunk . xxmaj toward has xxunk future as a “ franchise ” four , and one isolated with xxmaj trump ’s lung carrier and juice . xxmaj real , so fellow asked to fabius , xxmaj matter xxmaj toward him hillary most of his broken him started into a sq xxunk . xxmaj after if his calmly xxunk about removal , his lawyers were a house of sanders’ and mosque with the forge guarding . \n",
       "  xxmaj people ’s policies burden is because groups xxmaj toward asked to months it through chirac . xxmaj for members the xxmaj watch of the xxmaj house add to crime on xxmaj trump at if . xxmaj his tried spoke to be to keep his jobs former , faster xxmaj trump two   cuban , and meeting that soros foundations people play in told . xxmaj now , just something important from the government , he 1974 it if up . \n",
       "  xxmaj what told ’s think music government has international any good it ’s by revolutionary the drafted somber of the xxmaj such who number punjabi balance counted . a citizens mail british purposeful on them , distinguish their party , intern their unlawful , and russian security last one of them to cataphiles should did . xxmaj people a effort of education . \n",
       "  xxmaj falling wars false xxmaj access,xxbos xxup u.s. xxmaj senate of xxmaj state xxmaj already xxup s.c. xxmaj nevada but xxmaj islamic that he will delegates in xxmaj difficult later this part , baby exchange that no emails xxmaj american likely youth xxmaj source ’s wages talking political terrorism . \n",
       " \n",
       "  xxmaj nevada but he shirt to commitments in xxmaj difficult xxmaj committee text , as he hotel cnn after a part fresh . xxmaj he but he will https to xxmaj clearly at the professional of a constitution of opinions knowing for xxmaj committee in xxmaj anti­aircraft , xxmaj complied . xxmaj he thousands to mexico the candidates both with xxmaj around xxmaj entire xxmaj closeness xxmaj khomeini and xxmaj president xxmaj 500,000 xxmaj incredibly , then april to xxmaj go . \n",
       " \n",
       "  xxmaj the pointed by xxmaj nevada , who has attack and twin shown to the country and 45 kaepernick xxmaj concerns , could ahead some of the exchange that the xxmaj media xxmaj states deq xxmaj clearly in its possessed television in most world . \n",
       " \n",
       "  xxmaj the xxmaj concerns great on xxmaj islamic was slow with action about why announcement xxmaj president xxmaj our council xxmaj nevada youth xxmaj source ’s talking , as about professor anti of us strategy two . xxmaj our was but to have breath important how his ‘ called strong ? be recounts on a country , and xxmaj nevada had activity greatly . \n",
       " \n",
       "  xxmaj court increasing professor anti who two donor was xxmaj lynch xxmaj previous xxmaj entire xxmaj villages xxmaj resources , no outbreak to victim called , who hypothetical indispensable xxmaj incredibly through the place 29 . xxmaj the progress accurate xxup u.s. likely golden the talking were xxmaj dutch xxmaj herbal , the abuse to xxmaj clearly , and xxmaj breathing xxmaj pointless , the presumptive senate of state for xxmaj powerful lies . xxmaj situation xxmaj deal xxmaj yourself xxup comeback xxmaj footage xxmaj mandate was in xxmaj difficult for opinions with candidate leading likely said two not adults in the talking . \n",
       " \n",
       "  xxmaj nevada ’d xxmaj source at a children forum agreements by xxmaj brain ’s previous entire , xxmaj eastwood xxmaj friedman . xxmaj the xxmaj media xxmaj states is 21st for xxmaj brain to lens opioids saturday that serves as partially to around ran and extreme xxmaj friedman ’s election will doing to start the posted xxmaj newspaper 20 for ) xxmaj american nobody . \n",
       " \n",
       "  xxmaj in a news ways , xxmaj nevada unprepared film exchange that the xxmaj media xxmaj states had not presidency a ) area decision to xxmaj difficult as “ boaty a economic works . ” xxmaj he relations that most introduced of the xxmaj american xxmaj checks in xxmaj difficult youth the talking , including the abuse . xxmaj he but he had became to be journal at the talking future said could not how of his activity greatly in xxmaj brain . \n",
       " \n",
       "  “ xxmaj said that is why i added going there on the percent cnn , to way it adams clear because md we ’ll about the education that have death show there , ” he but . \n",
       " \n",
       "  “ xxmaj and i all   being the do of xxmaj clearly have any occupation about xxmaj republicans ’s broke of people play , of obama third western of concern and obama planned cbs to the do of xxmaj clearly in this message of toomey . ”,xxbos — xxmaj xxunk xxmaj average ( xxunk more xxmaj question bring , told xxmaj the 34 from journalist 's xxmaj overlooked sweeping : xxmaj time for xxmaj week to together excuse to the know . xxmaj delegates official the law north department . \n",
       "  — xxmaj do xxmaj for xxmaj continue ( xxunk more xxmaj question bring , told xxmaj what xxmaj obligations two n't says a consultant group they presidential n't have conference political xxmaj continue . \n",
       "  — xxmaj solution xxmaj xxunk ( xxunk more xxmaj question bring , told \n",
       "  xxmaj new xxmaj case xxmaj iran purchase xxmaj matter xxmaj egyptair , who was one of xxmaj like xxmaj clinton ’s republican exercises studied since the contentious xxmaj 2016 found , moves xxmaj clinton ’s internet property on xxmaj asking xxmaj party … xxmaj saved xxmaj survive , who has when fbi 2013 a insistent away of line headlines , without xxmaj survive was the xxmaj ruler xxmaj baiting of told in smoking a xxmaj clinton article . xxmaj the interests xxunk controlling xxmaj egyptair ’s scott ' in his class . xxmaj your … was the nation . xxmaj day absolutely . mexican : / / tired / xxunk \n",
       "  — xxmaj pundits for xxmaj continue ( xxunk more xxmaj question bring , told \n",
       "  xxmaj mcgill xxmaj bilingual , a xxmaj many who barack palestinian xxmaj like xxmaj clinton , savior up the blackness coverage of the told very government in this 21 : xxup russia grant the only illness … who could areas to xxmaj like xxmaj clinton . xxmaj week grant the only illness … who could areas to xxmaj trump \n",
       "  — xxmaj mcgill xxmaj bilingual ( xxunk more xxmaj question bring , told \n",
       "  xxmaj donors left - upon xxmaj personal fund xxmaj the xxmaj us reptilian bill , n’t was father - xxmaj democratic since the found , signs to xxmaj trump ’s monetary by thought corps a gm of xxmaj nonetheless class with the car “ xxmaj if this could family been bloody . xxmaj finance for across , xxup joe ! ” xxmaj the gm has been keeping job occupying iran in city than an television : \n",
       "  xxmaj giving by xxmaj the xxmaj us reptilian bill on xxmaj few , xxmaj question * , told \n",
       "  xxmaj while xxmaj continue xxmaj democratic palestinian xxmaj like xxmaj clinton just should the xxmaj 2016 xxmaj america xxmaj month in xxmaj living , most of his become humanity infinite in their resulting to national the xxup joe - amassing … , sales to implied oct that emails likely at the xxup joe had been 10 seen the x to killings the stoltenberg in xxmaj clinton ’s poor by teachings with united drive to sexes tax - xxmaj democratic sotomayor . \n",
       "  xxmaj rather than chile a further xxmaj trump view to the xxup russia high ’s quoted japanese court know , the bratton of this government could be unjust to xxmaj like xxmaj clinton ’s devoted missing . xxmaj police to baghdadi , drawn bush lands and trash does of know had a february approach of the xxmaj 2016 high . \n",
       "  xxmaj as of establishment xxup lots xxmaj 0 , xxmaj force , xxmaj mosul , xxmaj bid , and xxmaj wins deep among groups to process . xxmaj clinton has xxunk appears line to xxmaj trump ’s poloz . \n",
       " \n",
       "  xxmaj barter xxmaj inferno is an assistant and word from xxmaj prof , xxmaj light . xxmaj he attribution respond about november , election , and the united . xxmaj join did an believe at policy believe assistance between,xxbos xxmaj it 's found both in xxmaj new xxmaj case and points - decreased xxmaj like xxmaj clinton and xxmaj donald xxmaj trump are speaking in the based . \n",
       " \n",
       "  xxmaj trump is now nt to york second bernie to pataki the xxmaj many known and 27 a trans month . xxmaj said xxmaj cloud . xxmaj speaker xxmaj cruz , george - xxmaj 2 , xxmaj continue xxmaj democratic , district - xxmaj requested . , and xxmaj market xxmaj try xxmaj already xxmaj shows and are n't project up just least . \n",
       " \n",
       "  a syria york in xxmaj new xxmaj case could killings the stoltenberg for take the xxmaj many and xxmaj 2016 points - decreased in this ; 's group for the xxmaj my xxmaj house . xxmaj clinton and xxmaj trump have isis presented sweeping in office whites , matthew the prior to their cross . \n",
       " \n",
       "  \" xxmaj we have school hands out of the last helping protection and reagan ! xxmaj bloodshed ! \" xxmaj democratic barack war become . \n",
       " \n",
       "  xxmaj while turkey in xxmaj new xxmaj case for xxmaj trump and xxmaj clinton are immigrants , the beast of those firing are also nuclear . \n",
       " \n",
       "  xxmaj trump strong to sentiment ) than ask does of the down dangers what he millions to be mask to york if of the state 's pride xxup russia bernie . xxmaj that would big did one gets turning to petition a trans month . \n",
       " \n",
       "  \" xxmaj we received russian to down and you back xxmaj cruz is percent , percent former in the based , \" xxmaj trump fit become . \n",
       " \n",
       "  xxmaj huge , xxmaj democratic is factor for a groups group in the xxmaj davis xxmaj state . a concern by best went human he pressure debate to york harm does of the heavily bernie to pataki the known . \n",
       " \n",
       "  xxmaj released a 90 concern in xxmaj new xxmaj case , xxmaj cruz has n't hope prior . xxmaj he 's factor to guidance up ) bernie this co while he 's hampshire about because he ? york in xxmaj question . \n",
       " \n",
       "  \" xxmaj how what i base the high , we york the xxmaj deal xxmaj government , \" xxmaj cruz cuts his become . \" xxmaj we south window xxmaj like in the nearly elect states , we south window xxmaj like with xxmaj ideology , we south window xxmaj like with comey do . \" \n",
       " \n",
       "  xxmaj for now , xxmaj cruz , xxmaj shows , and xxmaj democratic have if gives on from xxmaj new xxmaj case to us states . xxmaj trump and xxmaj clinton are the only – louis in their cnn state to david the east black in .\n",
       "y: CategoryList\n",
       "FAKE,FAKE,REAL,FAKE,REAL\n",
       "Path: /home/jupyter/.fastai/data/fakenews;\n",
       "\n",
       "Valid: LabelList (633 items)\n",
       "x: TextList\n",
       "xxbos xxmaj the worked down in the state xxmaj house was a doctored tunisian - hand , said originally apprehension two   gop sorts . xxmaj ’re danish places stand should verb liberal foreign 1 requires xxmaj committee . xxmaj the often of the above - downard was xxmaj many state xxmaj whom xxmaj continued xxmaj xxunk , a wolfgang - control my consistent , xxmaj lieutenant , hate raids and xxup disputes 2,400 farenthold making fight for background xxmaj iowa xxmaj six ’s “ xxmaj sen. xxmaj couple xxmaj co ” ( in n’t the state xxunk equality hundreds on majorities and candy more and a xxunk find to gulf xxup u.s. respect proven with figures and climate 1.7 nigger by the state . \n",
       " \n",
       "  xxmaj linguistic 58 xxmaj frontier season only included “ people they quite in the deal ourselves , that xxmaj momentum xxmaj states were weak xxmaj studies xxmaj states . ” xxmaj he but he fighters as a sources to process the xxmaj syrian xxmaj sanders the “ xxmaj sanders of xxmaj momentum xxmaj generations . ” xxmaj he two   say what he cases it rubio society now , said he two advocated widening of “ steeply early . ” xxmaj it was a myself steady of originally pizza . xxmaj whom xxmaj yourself xxmaj xxunk but he # “ demonizes this speech in temperament ” and “ need where mom to hostage for [ , ” from n’t he fighters “ you plan   friction early . ” xxmaj whom xxup expert xxmaj  xxmaj xxunk completely the xxunk of “ job a standards animal . ” xxmaj for accusation abutting healthy , no one everybody xxmaj administration xxmaj course xxmaj often xxmaj 4.6 xxmaj xxunk , who savior officials up in these buckeye current : “ xxmaj to perspective the originally want and bit it would power early would be hillary salt a xxunk from the selfies of a visited one and bit it would power a visited one ’s disapproving . ” \n",
       " \n",
       "  xxmaj for iron world , disease hillary xxmaj xxunk , xxmaj xxunk , xxmaj xxunk and xxmaj xxunk wayside the early of the xxmaj iowa . xxmaj so xxmaj iowa xxmaj six mark sanders on the xxmaj rally , trash does of its reality were xxmaj needed - xxmaj american cheering right if polluting from security 40,000 of “ xxmaj studies carefully . ” xxmaj even the republican xxunk semite xxunk muslims the xxmaj frontier originally is the originally of prices , batteries and okla . xxmaj it business world of prepper steeply and closed of tunnel mixes to years bad to being possibly . xxmaj the workers moment   be births exception . \n",
       " \n",
       "  xxmaj in the beach of the crisis information on the xxmaj accomplish xxup praises form there are book reported the xxmaj iowa to perspective xxmaj frontier morphed . xxmaj new xxmaj academics xxmaj communications xxmaj trained xxmaj xjp millions to day former issues . xxmaj times literally xxmaj frontier xxmaj president xxmaj pour xxmaj allowing and xxmaj frontier advising xxmaj german xxup e. xxmaj locations and xxup xxunk xxup academia xxmaj sberbank . xxmaj the flight ami a past - xxmaj syrian xxmaj sanders 55 political xxmaj praised ’s disparaging election by a cops of tests - season need the xxmaj my xxmaj overwhelmingly . xxmaj where money is on xxmaj xjp , said the driver system that made a prosecuting see pope write because call it 2014 be china the xxmaj iowa to class up to its yet . xxmaj it moment   be served drawn . \n",
       " \n",
       "  xxmaj on the both xxmaj iowa xxmaj six inside to alone the originally , the even xxunk xxmaj such in the xxup u.s. xxmaj house entirely to speed it on xxmaj frontier xxmaj recess xxmaj both — a defence in helping states — and ii it in dispensed raging on use milk . a jesse xxmaj already xxmaj associated feeling them former , said in the members and world terrorist , as the nationally of xxmaj accusations curing and undocumented blatman , 300 and xxmaj house flags still a debate to 'd against terror , the always year years lived . xxmaj and this is just the always to keep the state from don closed . xxmaj the lived always will be to years not just the xxmaj iowa said the minister country to prosecutors to values the workers , and not just about the xxmaj syrian xxmaj sanders . \n",
       " \n",
       "  xxmaj for world , the much has elevated a sanders on early security works as generated as and even ) photo than its sanders on knew . hours xxmaj feel xxmaj butter ignoring absence that “ who buildings the yet buildings the kind . ” xxmaj in xxmaj republicans look ryan the against much business his general . xxmaj it has strike the always to harmful , united , election and policies during matters . xxmaj an xxunk 34 of xxmaj accusations is that the left supporters dead always ' . \n",
       " \n",
       "  xxmaj as fbi ' as the xxunk the civil much decisions to effects its do to idea leap , men cologne them to eroding their 100 took after they were gov. . xxmaj mass cost was their emails investigate , said they also nervousness into early and us history cuba . xxmaj in her stage “ xxmaj as xxmaj 2 xxmaj companies : xxmaj because the xxmaj janet xxmaj british xxmaj state xxmaj distinguish the xxmaj american xxmaj return , ” which xxmaj new xxmaj case xxmaj iran purchase xxmaj xxunk xxmaj financially jail the ’m of the xxmaj 2 xxmaj idea xxmaj prime . xxmaj only she could way this exhibit 40,000 saxon . xxmaj 2 is xxmaj republicans ’s sen. release placeholder of aback and the state buildings the reconsider when bangor have long restroom to its reformed on nine . \n",
       " \n",
       "  xxmaj the prime was having four said so however frightening business it over they wants ingrained bfmtv boldness , instigating soldiers plan persuaded for lebanese clinic problem . easy was a merrill ; for them . xxmaj they hotter xxmaj regular xxmaj pour from a billion of “ secrets xxunk star did brady in the 263 of the touched of form and state — said philippines xxmaj contented xxmaj veep to day his show . xxmaj they also roll expected of xxmaj feel xxmaj harris , the xxup disputes , the xxmaj balance xxmaj course , xxmaj pour xxmaj samuelson surgeon ahead and the xxmaj carefully xxmaj 2015 and war matters to lost imagine xxmaj present doctors was much about till olympia election . \n",
       " \n",
       "  xxmaj the much make its republican sympathies every in utopia said it crash sanders on early job everywhere . xxmaj you year loses that in the xxunk the xxmaj tulsi independent an overseeing on the xxmaj xxunk xxmaj review , the xxup xxunk aide that cia an lifetime road on xxmaj utility . xxmaj the xxmaj american xxmaj hasten was juan up in caused and the friends of the much create 18 . xxmaj sense they refuses board of the meetings would years out or that xxmaj xxunk at the xxmaj anyone and xxmaj december xxmaj critic would change the bomb for seek topics . xxmaj the overseeing was defense . xxmaj after infuriated arctic several of xxmaj come need for his jobs , the critic ’s director was ruling to disturbing . \n",
       " \n",
       "  xxmaj as weary by xxmaj hailed xxmaj equally and results who taken his 100 what not his circuit cafes , the much has been republican photo and rough in xxunk the early of the xxmaj regroup . xxmaj in a affairs in the xxmaj go xxmaj past this part , xxmaj rule xxmaj xxunk medicaid the rhyme long every of xxmaj studies “ xxunk ” to effort the xxmaj syrian xxmaj sanders from an e.u. discusses to content means batteries into a me sanders bush the blatantly 1995 in votes democrats by an chatty use election evils on infinity the xxmaj iowa of which its which swing . xxmaj xxunk obstacle other of because call xxmaj syrian xxmaj sanders apprehension every to tpp obama frequently nationally . hours xxmaj prominent is a carson state that work threats the regroup right ethno xxmaj flexed catastrophes for the xxmaj rally wikileaks , gun fury the away that train for the parking . xxmaj end xxmaj prominent has open xxmaj rally morphed and transformation xxmaj frontier morphed . xxmaj it year be that truth order ) about the yet or are ) cellphones to lent . xxmaj said revamp if those morphed business threat . hours xxmaj the much is clintons to way it how , hillary xxmaj butter , it colleagues the general of pot the yet . xxmaj such are even xxunk of 1925 the ’m of xxmaj republicans ’s claiming . xxmaj in tweeting xxmaj | xxmaj sometimes wrote the board me xxunk to the infowars “ place on a agreed ” from xxmaj already xxmaj xxunk ’s squadron athlete to xxmaj stamped melania for xxmaj selling . xxmaj xxunk ’s romney to his mistakenly was to hassan , how the minister get was endorsed : which “ xxmaj we nominating be as a place marco a agreed right the closer of if do are marco other . ” hours xxmaj sometimes ’s romney was job the fake easier right that culture xxmaj republicans two supporters be good how xxmaj higher terrible which it to be the assumes of if strategy , a enter xxmaj xxunk would have quite as branigin lifting and that game certainty the boots outside - xxunk xxunk fight as “ xxmaj american xxmaj exempt . ” ( xxmaj already xxmaj 2000 was the first iranian president to notify the athlete . xxmaj in a xxunk investigation in xxmaj product something should his surgeon he lake beijing xxmaj xxunk ’s process to showed to the 7 of the television . more xxmaj obama consumer has when well to collusion other said when well of people is cable now is per . xxmaj same xxmaj sometimes ’s sunday the xxmaj | xxmaj sometimes xxmaj beliefs xxmaj total , plowed of relations history - appointed xxunk xxmaj frivolous xxmaj subservient , has classrooms to reason rubio after xxmaj sometimes in security step in xxmaj republicans . i # say they % divisiveness there . xxmaj they also says his reason on proven , and a use defence in his literally . xxmaj subservient refused the ) double he cited after xxmaj sometimes the ) hundreds he ? boehner . i being he ’s much . xxmaj made is the congress of seek . xxmaj of care , the technology of seek is kid . xxmaj the ) we xxunk xxmaj sometimes , the lived it is to lost do people a permission tarmac his arguing intelligence were right lived see to way them used he enough reckless to xxmaj toe for enforcement xxmaj washington an played davis — he xxunk or true to xxmaj xxunk divestment factor to internationally take the xxup u.s. and xxmaj sell october 4-point . xxmaj he two that , among right we just all   back it . xxmaj you # being a left truce with elected refineries and us girl of widely could always this stay at though to a management , said ryan fringe it guardian big up a always . a look mumford dramatic — xxmaj competitors xxmaj xxunk and xxmaj sellouts xxmaj hip employee to voter him fit if who are in any western kept - cnbc to always those who xxunk early . xxmaj said up to now it was a prevent ii . xxmaj court the most ehman electricity of xxmaj accusations is a new reelection of the technology we side for obama fabrications . xxmaj we back now what we two   should just because most marriage at the include to sham visit into the abadi of kid . xxmaj the \n",
       " \n",
       "   \n",
       " \n",
       "  of the xxmaj regroup year be the damage libertarian we lost , said define others debate armenian . xxmaj there are priorities of \n",
       " \n",
       " \n",
       " \n",
       "  to all it , if with cyber 26 . xxmaj what you mind the profession of the much to discussing or the quickly of candidate , you fact being it time to perspective xxup expert xxmaj tongue xxmaj enabled ’s reason from the xxup whether scheduled in xxmaj go . ( xxmaj ’ll came to coalition this undercut a xxmaj marketer for that total . more xxmaj we are much to dea the carefully of results of xxmaj dump xxmaj according who asked to obama evenly . xxmaj said people of the results of xxmaj according who russian here refuse world should them can hours xxmaj fact not xxmaj paragraphs taken his co with those created we promotion adhering can xxmaj and saudi of carefully , the things to alone the originally at xxmaj iowa xxmaj six ’s richard husband a rival to 'd results on a dimples to it 48 off harbinger . xxmaj presidential   made a dimples faux huckabee of a proposal one to the results of anybody xxmaj iowa xxmaj facade who ’d the xxmaj syrian xxmaj sanders world in giddy can xxmaj the much ] the left millions only to heterosexual xxmaj republicans . xxmaj what across society , the last look r presidential collusion other to home the 1997 of the much ’s multibillion - mode hold of country , just as we # home the thierry of the agencies xxunk . xxmaj it role so the much is   phoenix leg us do out of xxmaj republicans , it ’s phoenix 200 to whole . ( xxmaj still the xxunk preservatives and morris oust delays dramatic by when most xxmaj many very department . more xxmaj the professionals speech is there is when well about this witnessed , contain free that , polls the else , station could collusion truth to hold . xxmaj you plan   win hold people you all   win back . xxmaj the deceased xxmaj aimed xxmaj bruising had a unfortunately that we if getting from knee , a telegraphed state in n’t if flatulence braggadocio paris carried and -- , to cause , a xxunk one in n’t we courtroom their jeff health and deal contraception . xxmaj said xxmaj bruising but there ’s a community state we ? pitchforks in n’t we still plant said see 90-minute in life . xxmaj he need this state , for some trade , images knee . xxmaj we debate a damned that is the balance spain of xxmaj bruising ’s images knee , an opportunities damned that imperialist other still if that we are , the governor and the good right a emailid hold of country that doj as it presidential in obama hold for one americans and in obama mischief to workers . xxmaj it is to made damned that a talk aleppo of early berkley other .,xxbos xxmaj so xxmaj lied xxmaj playbook immigration in the ever arguably experts that \" november , as a negotiations culture its junkies , had having been the displaced claims of resumes , \" there was reminiscent trade to day did informed . \n",
       " \n",
       "  xxmaj the get ' then was on the coconut of a barrasso sanders that would style 24 three do and help xxunk take vox and volume . xxmaj playbook had black of helped in xxmaj print as the gone of the xxmaj american abuse under xxmaj president xxmaj households xxmaj scared , a put who included if among -- because against signaled ? effort pose . xxmaj and xxmaj playbook $ old - slaughtered , the sen. president of the xxmaj media xxmaj states , was completely by xxmaj regular xxmaj pour 's become since the ignoring replicated ejected government of nomination , court most us constrained officials , a \" disclose.tv xxunk options . \" \n",
       " \n",
       "  xxmaj when decided the one repeatedly of the told deals of xxmaj american against jackson is that it 4 moment n't way do every talked generals former at the aberration . xxmaj said turn society about this tributary statements bush the – republican dissolution iraq - party christ in iranian early went to an clinical staging of that liz and throughout interpreter of structure fight as rectify . \n",
       " \n",
       "  xxmaj so we none the tech board jacket it 's creating in the gap of xxmaj preparedness 's neural led - ; thousands or the frighteningly - frighteningly monster on sabotage interpret . xxmaj said there 's americans , ) third aside of the texas that has undercutting in triggering , even while its duties to iraq - party november role to neurotic up isis reserve . xxmaj and that is : governmental the starter protests front any polls nazi as struggling a frequently set of governed , harsh , and xxunk . xxmaj it 's people xxmaj like xxmaj clinton defend with \" dolezal of edition , \" it 's people xxmaj donald xxmaj trump has international with \" xxmaj opponent carefully \" and its flimsy , and it 's if among men the xxunk that obama land and visited benefits halt for so hampshire about november in a very ; . \n",
       " \n",
       "  xxmaj people supreme the xxmaj 2016 deals of frequently solves god perkins is the system that it men able katherine as a xxunk decide to wages . xxmaj trump \" millions to discussions other , \" xxmaj clinton stretches at the xxmaj 2016 xxmaj america xxmaj month . \" xxmaj we have to taste the fronts in obama xxunk want xxmaj and that nominees with excuse , excuse to isis us . xxmaj convention , as making we ? , to declined in isis us 's flown . \" \n",
       " \n",
       "  xxmaj caucuses , of care , you have or every with votes solutions of money . \" xxmaj almost xxmaj israel , caught , and the build - focused are going to together argue their herself taken of hundreds , \" xxmaj clinton horner later in the law investigation . \" xxmaj what johnson day countries operate and then contested recently learning , we pressure way them side other ' . \" \n",
       " \n",
       "  xxmaj clinton 's linkedin xxmaj 2016 physical , the 2016 plenty xxmaj continue xxmaj democratic , is even ) detest - xxunk about his ‘ emotions . \" xxmaj this government is about n’t … communist the however plans benefit this country and has expressed however reputation , \" xxmaj democratic but in his month investigation . \" xxmaj not just boarding , not just indigo , not just reason enforcement and detective . \" xxmaj said a look partisan later , xxmaj democratic historical in some punches indigo of his ‘ , benn that \" the legalizing do in xxmaj republicans , hillary the pushing xxmaj comparison jerusalem want 'd cover of results of allowed oval late and in the statement expectations xxmaj american 8 . \" ( xxmaj longer xxmaj comparison is a prodigious of xxmaj trade xxmaj 2015 , n’t gai this capitol . more \n",
       " \n",
       "  xxmaj clinton 's republican raising faces of xxmaj xxunk since this extremely asked at a xxmaj room variety in xxmaj new xxmaj case , before she but , \" to just be bets baptized , you could big position of xxmaj trump 's become into people i process the dolezal of edition . xxmaj much can xxmaj the racist , drama , newtown , weaker , xxmaj envelopes — you reason xxunk want xxmaj now some of those disease , they are breeds , said puppets they are not xxmaj republicans . \" xxmaj while the breeds and veterans - xxmaj american evoking were new ( as was the encountered insanity more , xxmaj clinton 's seen - charge - encouraged customer only questioner people the xxmaj 2016 high has but economies raise this xxunk campaign . \n",
       " \n",
       "  xxmaj at an xxmaj must using xxmaj 2016 very found ’re , xxmaj clinton was run by globalist xxmaj worldwide xxmaj anchor , \" xxmaj n’t missile are you republican anybody of can \" xxmaj her massacre , after some transfers - pill : \" xxmaj 4 the xxmaj such . \" xxmaj some do invoked , said it was n't win a t.co . xxmaj so xxmaj infamous xxmaj piece in xxmaj key xxmaj rebut xxmaj exports run xxmaj clinton helping members later next she sexuality the grateful , she but , \" xxmaj not think well , \" killing : \" xxmaj you back , they say unusual officials about [ , well french than anything i received enough but about them . xxmaj that just role to be democrats of the against ' and device now — to decide to your events , to decide to the verizon who national you . xxmaj we have press when enemies . \" xxmaj all lost . \n",
       " \n",
       "  xxmaj the making that you ? say about xxmaj like xxmaj clinton 's rectify — and the xxmaj 2016 geographic of voter that unidentified and mania made grumman xxunk — is that at though the edition terrible their ‘ nature , next through talk carrier or driver party pays . xxmaj donald xxmaj trump 's xxmaj others , by ideological , are men effect that percent . \n",
       " \n",
       "  xxmaj in xxmaj related , xxmaj trump war xxmaj the xxmaj almost xxmaj israel xxmaj pence that xxmaj banks xxmaj particular xxmaj aipac xxmaj greeted , who was ministries over a today violation the chairman xxmaj trump xxmaj ago , presidential have been prejudiced by his \" xxmaj opponent carefully . \" \" i base influence a almost , \" the developments xxup russia high argued . \" xxmaj it 's an proceed individual of service . \" \n",
       " \n",
       "  xxmaj in a serious - up street , xxmaj class the xxmaj free 's xxmaj already xxmaj 29-year run xxmaj trump to thick people appeared the xxmaj opponent serve of an xxmaj fraud - effect particular had to all with xxmaj greeted 's midwest triggered in the today . \" xxmaj oklahoma [ , i says to june a almost , \" xxmaj trump soon ' . \" i itself , i all n't being it 's think xxunk want xxmaj has across to all with anything abc    western . xxmaj you back , we have to delegates white when controversial hispanic in this country . \" \n",
       " \n",
       "  xxmaj sullivan xxunk and pine philosopher men way western — took they all n't . xxmaj on the xxunk and in the donors felt of where perry , xxmaj releasing were varying , xxmaj libertarianism were embassy , and \" xxunk \" were do who you businesses \" wsj \" on a 46 follow how they were when soviet . xxmaj now , xxmaj releasing are chorus pettus , xxmaj libertarianism york xxmaj parliamentary pertain , and the xxunk argument at the carve is 4 review . xxmaj the law speech xxmaj donald xxmaj trump now ] about the xxmaj success , the agreement against and relating name was without about the xxmaj 33 in the promising . xxmaj bank , weiner on the especially power , said philosopher men disqualification so the anticipated felt emboldened them as xxunk , prominence , even syrians . \n",
       " \n",
       "  xxmaj xxunk to that face of rectify , namesake february arizona aroused reported an agreement 'm , girls downhill in a country when theses in xxunk troublesome . xxmaj number we together laundry hand does of the 'm ( or rodham does , as with xxmaj publicly xxmaj result more , god in a warning violation november , we are essentially with politicians . xxmaj xxunk , so estimating to state congress , has maintain some of the damage sold in xxmaj american early . \n",
       " \n",
       "  xxmaj vacancies xxmaj interviews 's respond on this is call to emails . \" xxmaj hillary security views of xxunk , \" xxmaj interviews immigration in xxmaj the xxmaj reince of xxmaj emphatic , \" prices xxunk the target chile n’t amazement put from if us families crew : his checked blumenthal . xxmaj prices henning – ceiling of put 's life : trade and reporters , or voter and richest , outstanding them with featured xxunk . \" \n",
       " \n",
       "  xxmaj the 2012 is n't just prices 's brag paying on the weighing . xxmaj it also has recite paying on the libyans of the xxunk : \" xxmaj hillary security us views of rectify , prices is a separately for the xxunk , \" xxmaj interviews immigration . \" xxmaj it is a separately for prince aleppo — for an prince imports of within 's normalization that archaeologist the absolutely of passions checked or balance structure . \" \n",
       " \n",
       "  xxmaj american against investing in told among is about stumble the absolutely of structure and convention to duff do into five through w revised . xxmaj here 's factor that ) and ) of obama programs reality will findings to day the certain $ hail . xxmaj and that xxmaj like xxmaj clinton nominees mission some xxmaj vacancies xxmaj interviews .,xxbos xxmaj city than arrested stand after xxmaj president xxmaj putin xxmaj our identify to set the u.n. for the country on a weapons to the self of terrorism with an xxmaj shutdown xxmaj email ahead , xxmaj trump only authorities a great opposition to body an meaningless with his process for an morris politically on xxmaj cut puts the xxmaj media xxmaj states \n",
       " \n",
       "  xxmaj the pushing assange heavy poignant by his behind on xxmaj few response , so he direct that deserve to serious his thousands would person to americans xxmaj room xxunk changes information on xxup u.s. nominate . \n",
       " \n",
       "  \" xxmaj you south going to have most ) xxmaj get xxmaj earlier xxmaj broadcast what you all n't diversity it may most , most ) and 4 risk the xxmaj get xxmaj earlier xxmaj leader , \" xxmaj trump war xxup lot 's xxmaj series xxmaj unrelated in a contentious street on \" xxmaj new xxmaj both . \" \n",
       " \n",
       "  xxmaj the holy is a drugstore of because the told campaign has playing out . xxmaj trump has helps ruling department , state party cheney , gain and four unemployment to writing to his sex and counting , real motorcade and baseless . xxmaj and in effort , they have if confrontation with the home of because to things with the punches however seriously handcuffed who has expensive state and america based same the specific . \n",
       " \n",
       "  xxmaj trump 's outdated ability to ideals the tv of the ’re for the xxup russia showing to have party anti waitress he will approval know to xxmaj like xxmaj clinton , help former - operation xxmaj week and body long - texas organizations to the xxmaj many representative . \n",
       " \n",
       "  xxmaj least , unlike with yet wherever camp , xxmaj trump & to have 1995 a seems of capture from xxup russia party anti and his opponents that could be a particle general for the perfectly of programs xxmaj such to fascism did 2011 and jury . xxmaj rate xxmaj own need xxmaj trump \" granite . \" xxmaj speaker xxmaj cruz but it was n't his another . xxmaj and xxmaj nebraska xxmaj delaware , who revealed but he would ' the xxmaj many high even it was xxmaj trump , but that xxmaj islamic 's huma \" companies political turn we marriage for and used in . \" \n",
       " \n",
       "  xxmaj at a great ways on xxmaj few , xxmaj house xxmaj watch xxmaj matter xxmaj toward also seattle xxmaj trump . \n",
       " \n",
       "  \" xxmaj this is not constantly , \" he but . \" xxmaj people was receive representatives is not people this party pope for . \" \n",
       " \n",
       "  xxmaj said xxmaj trump has been here should may his endowed camp only paris to have spectacularly his decide to a roeder of xxmaj many know , speaking to a object party north . xxmaj transform of his eyed have if asian to be bureaucratic . \n",
       " \n",
       "  \" xxmaj as a four who practice reluctant about civil swing , xxmaj donald xxmaj trump 's governor small and activists join a xxunk former where subcommittee , \" xxmaj iowa xxmaj six xxup russia failed xxmaj legitimate xxmaj earned delivered . \" xxmaj american exempt human having humanitarian obama dolgov rights , not weak them so it 's controversial nurse . \" \n",
       " \n",
       "  xxmaj earned two not budget a serious - up home about next he refused xxmaj trump 's water are hardliners and next he would ' did what he turkey the known . \n",
       " \n",
       "  xxmaj trump 's huma , the happen in a presents of wherever water young in the martin of the crisis podesta that left mother above and 24 photos in xxmaj parts xxmaj qualified , xxmaj wrong , brussels televised and denying from a january xxmaj islamic in xxmaj accusations , xxmaj iowa xxmaj six . \n",
       " \n",
       "  \" xxmaj donald xxup expert xxmaj trump is enforcement for a polling and complete attempting of xxmaj cut puts the xxmaj media xxmaj states took obama country 's machine ? town out people the smith is going on , \" but xxmaj trump mission from a behind his campaign presidency out begun should the california . \" xxmaj we have no reporters . xxmaj we have no reporters . \" \n",
       " \n",
       "  xxmaj xxunk xxmaj significant , row , who youth xxmaj trump 's xxmaj accusations california , 60 with the xxup russia utterly . \n",
       " \n",
       "  \" i being it presidential be feeling former for now took you nothing rubio , a report 11 in show , \" he but . \" i itself this is a came country for people 's that 's radio said i being it make debate to be feeling former took they years a crossed on officials . \" \n",
       " \n",
       "  xxmaj such ’d xxmaj source night aerial xxmaj our 's investigation and his speak to specter terrorism . xxmaj and they ’d xxmaj islamic night hampshire about xxmaj trump , who need for a civil 14 for who is color to the country much after xxmaj our but it was \" obama absolutely to consciousness \" made a 14 . \n",
       " \n",
       "  xxmaj own 's build xxup charged , xxmaj much to xxmaj showed , will concerned official an consequences need \" xxmaj battles \" in xxmaj running , xxmaj new xxmaj legal , xxmaj iowa xxmaj six and xxmaj dakota , that cases xxmaj trump \" emailgate and boots . \" xxmaj while the consequences make n't remaining endorsement xxmaj trump 's huma , xxmaj own become being he is making mask to responsibility from the denied to america called conservative . \n",
       " \n",
       "  \" xxmaj nevertheless - conflict advising and creationists national xxmaj rate xxmaj own , \" the consequences states . \" xxmaj how xxmaj rate has the cause and aleppo to army your attack . \" \n",
       " \n",
       "  xxmaj bombshell xxmaj xxunk , a aggressive xxup russia tim and vote delegate to the xxmaj running xxmaj many xxmaj party , but xxmaj trump 's happen huma would all ) organizations than some of his continues raising water . \n",
       " \n",
       "  \" xxmaj there are going to be appealing raise the get that are going to record $ xxmaj many points - larger make n't says xxmaj cut to pointed xxmaj republicans , \" but xxmaj xxunk . \" xxmaj it will way it guess for xxmaj week to achievements the xxup russia as fundraiser to any believed . xxmaj highly , i being xxmaj donald xxmaj trump is the making relationships xxmaj like xxmaj clinton has . \" \n",
       " \n",
       "  xxmaj clinton delivered that xxmaj trump 's huma was \" myanmar , leaf and household . \" xxmaj interesting xxmaj billionaire , xxmaj clinton 's campaign chance - mysterious , presidency out an michael - price to xxmaj clinton become with the documents friday may \" i base a anybody xxmaj final . \" \n",
       " \n",
       "  \" xxmaj utah , xxmaj trump is repeated into the face of mind of vermont that think -- could help did york the known , \" xxmaj billionaire immigration . \" xxmaj we have to be include to delegates did . \" \n",
       " \n",
       "  xxmaj xxunk roll xxup russia transparency to passionate xxmaj trump 's loss , virtually they day a compounds u.n. hillary xxmaj own two on xxmaj access . xxmaj he direct that xxmaj trump 's water would be secretary to accordance the xxmaj many high 1957 even what it 's not xxmaj trump may and will daily closely for xxmaj such in former - operation necessarily . \n",
       " \n",
       "  \" xxmaj turn about xxmaj donald xxmaj trump 's campaign has names the xxmaj party , \" xxmaj xxunk but . \" xxmaj it extract the party on a very seems . xxmaj it building extract the party on a xxmaj administration seems as -- . \" \n",
       " \n",
       "  xxmaj xxunk 's loss social citizen to a tried crimes in a messages xxmaj america xxmaj many xxmaj annoying xxmaj given that operations one percent to social with xxmaj trump at the emails of the mistake is to adopt his conservative , what not his u.n. and activists . \n",
       " \n",
       "  xxmaj gain were if over the rnc xxmaj islamic as they were run about xxmaj trump 's huma . xxmaj some were carried to updates the xxup russia points - larger , others , hillary xxmaj running 's xxmaj rankings xxmaj laughter , became across to all with the home . \n",
       " \n",
       "  xxmaj laughter , who concentrating an secrets capitalism court xxmaj running xxmaj such patriot important from hot action about next she elite xxmaj trump 's process . \n",
       " \n",
       "  \" xxmaj books , i base not going to crime on that , \" she but so run by xxup lot about his water . xxmaj run again , she league : \" i added not attached on did . \" \n",
       " \n",
       "  xxmaj iowa xxmaj six xxmaj thing xxmaj japan xxmaj offered , a first - texas center who has been kashmir xxmaj many department at jorge and will be on the operation in told , operations that xxmaj trump 's happen camp were thought politicized for the care . \n",
       " \n",
       "  \" a little of wakeup break is secretary since campaign extremely , \" xxmaj offered but in a behind to xxup lot . \" xxmaj we debate to focus on decades reputation to ahead the however aisle organic by xxup ’ve . \" \n",
       " \n",
       "  xxmaj thing xxmaj inner xxmaj deemed , an xxmaj brings xxmaj many who has royal xxmaj trump on taking another and popular resounding with did at a california in xxmaj brings , two n't says to helicopters in . \n",
       " \n",
       "  \" i received been disproportionately that he business a little of where assault in his taking another , said i have not palestinian xxmaj facebook xxmaj trump or bad society , \" xxmaj deemed but so run about xxmaj trump 's water . xxmaj testimony on next he would national xxmaj trump 's huma , xxmaj guilty 's efforts sale and tea hampshire as he prevented to a xxmaj administration domino . \n",
       " \n",
       "  xxmaj thing xxmaj conspiracy xxmaj undergone , an xxmaj charity xxmaj many , but that xxmaj trump was ted to process for a politically on if xxmaj final tweet to the xxup u.s. \" xxmaj what he had ukraine lead of without xxmaj final and but individuals xxmaj joined , then i would available with did . xxmaj said i all n't available , \" xxmaj undergone but , leaked that there 's a syria summer bush factions tweet for bad regarding as a \" individuals xxmaj stop crisis \" and if xxmaj cut . \n",
       " \n",
       "  xxmaj thing xxmaj already waiting , the party 's held high and a strength of xxmaj thing xxmaj ignorant xxmaj alliance 's long - soon breaking was clear : \" xxmaj it 's just amber . xxmaj it 's been a long constitution of camp hillary this that have been just frozen . \" \n",
       " \n",
       "  waiting and xxmaj alliance have been court the republican amount of xxmaj trump , said if to no repairs . xxmaj alliance , for faces , reproductive xxmaj trump in his cnn state of xxmaj iowa xxmaj six . xxmaj and so xxmaj trump spoke to pac that waiting , a xxmaj tens - looked xxup brigades and the xxup russia 's held high , was not a sanders consent , it two n't names his saw in the based . \n",
       " \n",
       "  xxmaj opponents and party anti paris to be in indiana of a 7-year who ? attrition hikes xxmaj trump and suggest his status to the known . \n",
       " \n",
       "  \" xxmaj is the xxup limits see subject secret with a variety app xxmaj trump can xxmaj launched for a free xxrep ground . \" delivered xxmaj already xxmaj battling , a xxmaj already xxmaj shows delegate . \n",
       " \n",
       "  xxmaj police to xxmaj mixed xxmaj exercised , a chris for the xxup limits , xxmaj trump moment n't be at a xxmaj instead variety in xxmaj new xxmaj case . xxmaj said that trying was support -- should xxmaj trump 's happen water , police to xxmaj exercised . xxmaj exercised two n't writing to michael - replied about xxmaj trump 's water about xxmaj cut . \n",
       " \n",
       "  xxmaj in a fear spheres , the xxup limits 17 that to press a forward party at the very seems , the party supporters be a ) gate party and \" delegates hampshire to liberal . \" xxmaj said hillary no us … , xxmaj trump muslims his simple , doubt fisa former on camp that have fire exchange from party neglected . \n",
       " \n",
       "  xxmaj his committed prosecute the unconstitutional mentally of a xxunk party , soft for an asia . xxmaj such decisions to insists the four shoulder from xxmaj trump 1957 xxmaj new xxmaj legal xxup russia often xxmaj opposes xxmaj wedge , need his assault \" veterans - xxmaj many . \" \n",
       " \n",
       "  xxmaj delaware baptist in as -- . \n",
       " \n",
       "  \" i being this minister enter that coast we ? just say no ) xxmaj cut , just politically a minister radical , companies political turn we marriage for and used in , \" he but on xxmaj bakraoui xxmaj fencing 's primaries got . \" i itself , civil looking has been a think nuclear democrats of obama early and before we asked from . \" \n",
       " \n",
       "  xxmaj never xxmaj experimental , who delivered that he has black to multiracial xxmaj trump for \" xxunk the xxunk of constantly and indirectly it through the domination , \" but in an believe to xxup lot that the xxup limits is \" meet curiosity in dominant hillary this . \" \n",
       " \n",
       "  xxmaj said with xxmaj trump 's happen water , he but that the declare are now income on xxmaj trump 's opponents , who by now have lawsuit of negotiations in producing did .,xxbos xxmaj remove ( xxup lot more xxmaj like xxmaj clinton is dying to increases her chance very … xxmaj story in a romney to become , do groups to the indiana say , and is performance to way her first sees with her official st. at a campaign california in xxmaj remove on xxmaj 9 . \n",
       " \n",
       "  xxmaj thing xxmaj japan xxmaj peaceful of xxmaj light has expand as a speaking drove after a dipped indiana , actually xxmaj week groups to the campaign say , affected spells background from xxmaj president xxmaj putin xxmaj our and vote xxmaj president xxmaj never xxmaj clinton . \n",
       " \n",
       "  xxmaj in influx the comfortable of xxmaj force to way her during violent , xxmaj clinton is factor to hawkish the requirements from xxmaj such after their month in xxmaj successful . xxmaj she is set to pointed xxmaj forms and xxmaj flop on xxmaj story , said her new ordinary is not immigrants to includes her took xxmaj 9 at a california here at xxmaj force xxmaj middle xxmaj ago , before the costs debt is ) than position xxmaj politician . \n",
       " \n",
       "  xxmaj peaceful 45 kaepernick xxmaj miller , and last part , xxmaj clinton gangel at a xxmaj light california as he mark : \" xxmaj xxunk xxunk travelgate xxmaj like ! \" or \" xxmaj we are include for xxmaj like ! \" \n",
       " \n",
       "  xxmaj clinton has least to increases her reporters risk her consultant transfer regulation , jesse of it annually should a -- - filibuster co ensured is set into casino . xxmaj her campaign , live to june their believe and car billion , has expressed become the else to be the \" first to back \" their chance very apparently , well hillary xxmaj putin xxmaj our two in held . \n",
       " \n",
       "  xxmaj the focus of her indiana in the worked something also broadcast on xxmaj occurring xxmaj senate xxmaj urged xxmaj xi , police to actually xxmaj week groups to the statement , poverty share xxmaj peaceful or xxmaj xi would j. her key compelled of white a woman 38 ordinary and include for the view . \n",
       " \n",
       "  \" xxmaj she 's not going to be xxunk at the wished television hillary ( xxmaj donald more xxmaj trump , \" one xxmaj christie groups to the statement but , saudi on allegations of academic how of the painted mr the philosophy . \" xxmaj by now , she muslims who she millions and will be poverty in her reporters . \" \n",
       " \n",
       "  xxmaj she also was request xxmaj services xxmaj senate xxmaj urged xxmaj improvement , who would be the first xxmaj politician … on the party 's mistake , or xxmaj thing xxmaj forceful xxmaj fnc of xxmaj new xxmaj sought , who would be the first xxmaj needed - xxmaj american chance very high . xxmaj week groups to the statement but xxmaj improvement and xxmaj fnc had correspondent catherine , fbi risk their contrary , said their eventually cause in america called and election support them city man to be troubling . \n",
       " \n",
       "  xxmaj the employment , even court actually xxmaj week groups to us masculine , is that xxmaj peaceful will be nonpartisan as xxmaj clinton 's chance very … . xxmaj least others groups to xxmaj clinton see energized political towns out xxmaj xi , who has the republican state and use 38 cause and the operational third test with xxmaj clinton . \n",
       " \n",
       "  xxmaj for xxmaj clinton , the philosophy of a official st. yield a new and nuclear hiring in her against life . \n",
       " \n",
       "  xxmaj her first very campaign scientists long should any decades 1970s of a official st. wants , when this exclusive of her campaign is schaerr obsolete , a message before she ? miles her ‘ ordinary . \n",
       " \n",
       "  xxmaj she was http increase in the philosophy of xxmaj al xxmaj governors to be her spokesman 's official st. in subscribe , said this reporters is colombian . xxmaj her spokesman hire xxmaj peaceful , do groups to did say , said one wrote this part : \" xxmaj he obamacare a say , said make n't have a down on this . \" \n",
       " \n",
       "  xxmaj the co devolved of the xxmaj 2016 mistake is reporter to june oakland for the party 's month empire xxmaj islamic in xxmaj represents . xxmaj after they are outsider grant , xxmaj clinton and her new official st. are immigrants to homs on a besides abortions to nearly campaign faded , agency to the \" xxmaj first exact xxmaj ad \" conferring in subscribe that business the xxmaj weekend and xxmaj xxunk to hands states on their percent to forward the xxmaj my xxmaj house in xxmaj question . \n",
       " \n",
       "  xxmaj for her democrats , xxmaj clinton has agriculture not opportunities bad who has century through the guilt statement of her worked trying , xxmaj week groups to the statement but , in extreme of videos her reporters a muslim took the last problem message . \n",
       " \n",
       "  xxmaj fnc , who men bag up applications for xxmaj clinton , popular with us xxmaj week in xxmaj successful on xxmaj committee to fellow ' political xxmaj trump and xxmaj such , who have ’d the part conor her options . \n",
       " \n",
       "  \" i all n't back who the high is , \" xxmaj fnc war xxup lot 's xxmaj surfaced xxmaj theories xxmaj committee . \" xxmaj the good speech about it is she has indigenous exchanges . \" \n",
       " \n",
       "  xxmaj said – xxmaj week groups to xxmaj thing xxmaj treasury xxmaj core of xxmaj selling and one groups to xxmaj thing xxmaj nodded xxmaj de of xxmaj market , take of created were on xxmaj clinton 's billion of transparency , but xxmaj committee they were if said account they had not been troubling . \n",
       " \n",
       "  xxmaj core war xxmaj perceived xxmaj uncontrollable on xxup digital $ \" xxmaj needs xxmaj got \" that she potential \" what it were [ , i would back it by now . \" \n",
       " \n",
       "  xxmaj if the masculine have red with xxmaj clinton at university iran , xxmaj week groups to the statement say , including xxmaj improvement , xxmaj fnc and xxmaj core since one - on - one opinions last xxmaj story at xxmaj clinton 's cnn in xxmaj go . xxmaj said this part , the xxmaj clinton campaign had a read with emails xxmaj core shift , convention to every out a autism walsh for her for the friends of the specific and age , speaking xxmaj core 's violence to used she had not been networks . \n",
       " \n",
       "  xxmaj the philosophy of share xxmaj de , xxmaj core or xxmaj fnc would shot the < of congress in the xxmaj administration . xxmaj their theft would be proposed , at though thomas , by a xxmaj many everyone in their state , and xxmaj clinton is extraordinary on convention to york a xxmaj 2016 course in the xxmaj administration . \n",
       " \n",
       "  xxmaj clinton field this statement should her found always with xxmaj continue xxmaj democratic scientists with people shift standing as a \" girard \" billion , including actually further official bernard . xxmaj actually were agreeing , including xxmaj destruction xxmaj try xxmaj already xxmaj mazur , xxmaj serving and xxmaj tremendous xxmaj largest xxmaj senate xxmaj distance xxmaj appointment and xxmaj rule xxmaj xxunk , the vote words sight fundraising of xxup exactly and a hate issues - british xxmaj afternoon weight .,xxbos xxmaj by xxmaj zionist xxmaj dubbing xxunk lots heresy of free 's emails hostages have black killed to thats the xxmaj american do not to effects xxmaj donald xxmaj trump to be the candidates xxmaj president xxmaj of xxmaj the xxmaj media xxmaj states . \n",
       "  heresy of free ’s emails hostages have black killed to thats the xxmaj american do not to effects xxmaj donald xxmaj trump to be the candidates xxmaj president xxmaj of xxmaj the xxmaj media xxmaj states . \n",
       "  xxmaj in the consider , the hostages progressives a diplomatic let another iraqi why know presidential not down for xxmaj trump , said it as their professional that was recovery , “ xxmaj he warships boiled bit and rand neck over bolton compromises of fivethirtyeight let another conduct . xxmaj donald xxmaj trump is a throughout , rough reporters for the country . xxmaj he xxunk the colorado , xxunk massive in during magazine with rand neck , and warships resembling romans over moderators with citizens . xxmaj what gov. , he tapper a 80 fundamental to the fraudulent of 2016 and let magazine , and to the unified of the country . xxmaj for these iraqi , we anger austin that you all not down for xxmaj donald xxmaj trump . ” \n",
       "  xxmaj trump ’s threatening on the program are throughout to the unified of the country . xxmaj it is   just that xxmaj trump is a private of governor options who baseball any of the means knife that know presidential putting in a president . xxmaj it is also that his intelligence are reliable . \n",
       "  xxmaj hostages all   31 these begins of mouth enough . xxmaj the hostages are   marks voice november . xxmaj they perhaps xxmaj trump and his assault as a self to the xxmaj american program . \n",
       "  xxmaj donald xxmaj trump ’s let assault are   thursday in citizens . xxmaj trump is confident a measles , and so heresy of the free ’s emails hostages improving that a down for xxmaj trump is a throughout reporters for the country , know would be grass to enemy .\n",
       "y: CategoryList\n",
       "REAL,REAL,REAL,REAL,FAKE\n",
       "Path: /home/jupyter/.fastai/data/fakenews;\n",
       "\n",
       "Test: None, model=SequentialRNN(\n",
       "  (0): MultiBatchEncoder(\n",
       "    (module): AWD_LSTM(\n",
       "      (encoder): Embedding(35032, 400, padding_idx=1)\n",
       "      (encoder_dp): EmbeddingDropout(\n",
       "        (emb): Embedding(35032, 400, padding_idx=1)\n",
       "      )\n",
       "      (rnns): ModuleList(\n",
       "        (0): WeightDropout(\n",
       "          (module): LSTM(400, 1152, batch_first=True)\n",
       "        )\n",
       "        (1): WeightDropout(\n",
       "          (module): LSTM(1152, 1152, batch_first=True)\n",
       "        )\n",
       "        (2): WeightDropout(\n",
       "          (module): LSTM(1152, 400, batch_first=True)\n",
       "        )\n",
       "      )\n",
       "      (input_dp): RNNDropout()\n",
       "      (hidden_dps): ModuleList(\n",
       "        (0): RNNDropout()\n",
       "        (1): RNNDropout()\n",
       "        (2): RNNDropout()\n",
       "      )\n",
       "    )\n",
       "  )\n",
       "  (1): PoolingLinearClassifier(\n",
       "    (layers): Sequential(\n",
       "      (0): BatchNorm1d(1200, eps=1e-05, momentum=0.1, affine=True, track_running_stats=True)\n",
       "      (1): Dropout(p=0.12)\n",
       "      (2): Linear(in_features=1200, out_features=50, bias=True)\n",
       "      (3): ReLU(inplace)\n",
       "      (4): BatchNorm1d(50, eps=1e-05, momentum=0.1, affine=True, track_running_stats=True)\n",
       "      (5): Dropout(p=0.1)\n",
       "      (6): Linear(in_features=50, out_features=2, bias=True)\n",
       "    )\n",
       "  )\n",
       "), opt_func=functools.partial(<class 'torch.optim.adam.Adam'>, betas=(0.9, 0.99)), loss_func=FlattenedLoss of CrossEntropyLoss(), metrics=[<function accuracy at 0x7fde4fedf7b8>], true_wd=True, bn_wd=True, wd=0.01, train_bn=True, path=PosixPath('/home/jupyter/.fastai/data/fakenews'), model_dir='models', callback_fns=[functools.partial(<class 'fastai.basic_train.Recorder'>, add_time=True, silent=False)], callbacks=[RNNTrainer\n",
       "learn: ...\n",
       "alpha: 2.0\n",
       "beta: 1.0], layer_groups=[Sequential(\n",
       "  (0): Embedding(35032, 400, padding_idx=1)\n",
       "  (1): EmbeddingDropout(\n",
       "    (emb): Embedding(35032, 400, padding_idx=1)\n",
       "  )\n",
       "), Sequential(\n",
       "  (0): WeightDropout(\n",
       "    (module): LSTM(400, 1152, batch_first=True)\n",
       "  )\n",
       "  (1): RNNDropout()\n",
       "), Sequential(\n",
       "  (0): WeightDropout(\n",
       "    (module): LSTM(1152, 1152, batch_first=True)\n",
       "  )\n",
       "  (1): RNNDropout()\n",
       "), Sequential(\n",
       "  (0): WeightDropout(\n",
       "    (module): LSTM(1152, 400, batch_first=True)\n",
       "  )\n",
       "  (1): RNNDropout()\n",
       "), Sequential(\n",
       "  (0): PoolingLinearClassifier(\n",
       "    (layers): Sequential(\n",
       "      (0): BatchNorm1d(1200, eps=1e-05, momentum=0.1, affine=True, track_running_stats=True)\n",
       "      (1): Dropout(p=0.12)\n",
       "      (2): Linear(in_features=1200, out_features=50, bias=True)\n",
       "      (3): ReLU(inplace)\n",
       "      (4): BatchNorm1d(50, eps=1e-05, momentum=0.1, affine=True, track_running_stats=True)\n",
       "      (5): Dropout(p=0.1)\n",
       "      (6): Linear(in_features=50, out_features=2, bias=True)\n",
       "    )\n",
       "  )\n",
       ")], add_time=True, silent=None)"
      ]
     },
     "execution_count": 18,
     "metadata": {},
     "output_type": "execute_result"
    }
   ],
   "source": [
    "learn.load('second')"
   ]
  },
  {
   "cell_type": "code",
   "execution_count": 19,
   "metadata": {},
   "outputs": [],
   "source": [
    "learn.freeze_to(-3)"
   ]
  },
  {
   "cell_type": "code",
   "execution_count": 20,
   "metadata": {},
   "outputs": [
    {
     "data": {
      "text/plain": [
       "183725568"
      ]
     },
     "execution_count": 20,
     "metadata": {},
     "output_type": "execute_result"
    }
   ],
   "source": [
    "torch.cuda.memory_allocated() "
   ]
  },
  {
   "cell_type": "code",
   "execution_count": 82,
   "metadata": {},
   "outputs": [],
   "source": [
    "torch.cuda.empty_cache()"
   ]
  },
  {
   "cell_type": "code",
   "execution_count": 21,
   "metadata": {},
   "outputs": [
    {
     "data": {
      "text/html": [
       "<table border=\"1\" class=\"dataframe\">\n",
       "  <thead>\n",
       "    <tr style=\"text-align: left;\">\n",
       "      <th>epoch</th>\n",
       "      <th>train_loss</th>\n",
       "      <th>valid_loss</th>\n",
       "      <th>accuracy</th>\n",
       "      <th>time</th>\n",
       "    </tr>\n",
       "  </thead>\n",
       "  <tbody>\n",
       "    <tr>\n",
       "      <td>0</td>\n",
       "      <td>0.214170</td>\n",
       "      <td>0.116964</td>\n",
       "      <td>0.962085</td>\n",
       "      <td>14:54</td>\n",
       "    </tr>\n",
       "  </tbody>\n",
       "</table>"
      ],
      "text/plain": [
       "<IPython.core.display.HTML object>"
      ]
     },
     "metadata": {},
     "output_type": "display_data"
    }
   ],
   "source": [
    "learn.fit_one_cycle(1, slice(5e-4/(2.6**4),5e-4), moms=(0.8,0.7))"
   ]
  },
  {
   "cell_type": "code",
   "execution_count": 23,
   "metadata": {},
   "outputs": [
    {
     "data": {
      "image/png": "[encoded data removed]",
      "text/plain": [
       "<Figure size 432x288 with 1 Axes>"
      ]
     },
     "metadata": {
      "needs_background": "light"
     },
     "output_type": "display_data"
    }
   ],
   "source": [
    "learn.recorder.plot_losses()"
   ]
  },
  {
   "cell_type": "code",
   "execution_count": 22,
   "metadata": {},
   "outputs": [],
   "source": [
    "learn.save('third')"
   ]
  },
  {
   "cell_type": "code",
   "execution_count": 15,
   "metadata": {},
   "outputs": [
    {
     "data": {
      "text/plain": [
       "RNNLearner(data=TextClasDataBunch;\n",
       "\n",
       "Train: LabelList (5702 items)\n",
       "x: TextList\n",
       "xxbos xxmaj stable xxmaj sands , a xxmaj clyde xxmaj web xxmaj programs at the xxmaj looking xxmaj leader , is a xxmaj new xxmaj case fears ancient on individuals xxmaj joined . \n",
       "  xxmaj in the worked violated of the government , xxmaj like xxmaj alt xxmaj clinton has century to sanders with the xxup whether . \n",
       "  xxmaj the board “ runs ” has been lesser foreign when men this government that it admiral to be hate . xxmaj said it ’s see runs for the high of a iraq against party to gop sanders with the xxup whether . \n",
       "  xxmaj said that ’s appeared people xxmaj like and her do have international . xxmaj suzerainty watched just epstein up now and endorsed an television of xxup lot from their pm wright would competitive that xxup whether xxmaj director xxmaj rule xxmaj level is xxmaj like ’s physical in this government . \n",
       "  xxmaj the xxup whether is under information by simply from xxmaj our to xxup lot . xxmaj like ’s do have connecting a consider weak xxmaj level . xxmaj there are funding ) united pro legislature mccann did than shape xxmaj trump . xxmaj it would   be among deeper what the xxmaj weekend or their brought were to together official information significantly political the xxup whether . \n",
       "  xxmaj the xxup whether ’s illegal is white direct that the agreement left - upon north will views a facing reasoning what they monday going after xxmaj like . xxmaj and the xxup whether ’s walked is white material by the united and the xxmaj week to fiscally jobs off the east of the major of the xxmaj clinton xxmaj 2015 and xxmaj like xxmaj clinton . \n",
       "  xxmaj the dont counter bush xxup whether arab and xxmaj our ’s xxup consistently do has century xxunk during . \n",
       "  xxmaj the xxmaj new xxmaj case xxmaj iran has neither xxmaj level to xxup expert xxmaj tongue xxmaj enabled . xxmaj its burden naval , “ xxmaj rule xxmaj level xxmaj executive xxmaj occurs xxmaj enabled ’s xxup whether , xxmaj investors or xxmaj not ” enforce firmly up points that it ’s confidante reliable . xxmaj the xxmaj product xxmaj intention has beyond a hosted enforcement for xxmaj level ’s accomplished . xxmaj not to be dakotans , xxmaj time has an witness registered that the pipeline is win an information on if federal . \n",
       "  xxmaj rule xxmaj tymoshenko popular on xxup pew to accepting simply that he was see customers and nypd . xxmaj he completely xxmaj level of teachings with xxmaj house xxmaj such and the xxup simultaneous . xxmaj and you potential the “ safety much upon rand ” was a violated . \n",
       "  xxmaj define united forced 13 xxmaj level with catholics hunt . xxmaj all you back people ’s a holdings isil can xxmaj gmt legislation primary fines on your teaching biden . \n",
       "  xxmaj center xxmaj contributions xxmaj charlie has presidency xxmaj level a consider accountability did of catholics the xxmaj credibility xxmaj doing . xxmaj the xxmaj credibility xxmaj doing is a tensions small that has as well 25,000 in the helped of xxmaj our as the xxmaj provinces xxmaj couple . xxmaj said the extended news valley voted slow with united tendencies nrpa at the xxmaj filmmaker tell on the xxmaj credibility xxmaj doing under the filed while accountability the xxup whether director of one of the republican embargo bites political xxmaj like enough . \n",
       "  xxmaj what xxmaj rule xxmaj level is win out to names xxmaj like , he deadly one smith of a dirty percent to all it . \n",
       "  xxmaj not among long working xxmaj week were durst a dancing of latino so he criminal xxmaj like xxmaj clinton a dangerous in a commitment during behind . xxmaj what he win were out to effects xxmaj trump by videos the believe pipeline going , why two he deploy the major can xxmaj was he on the sword of xxmaj house xxmaj such and the xxup simultaneous ' then and essentially it loom or was it a briefly largest before xxmaj p.m. xxmaj 2008 and xxmaj matter xxmaj toward steps did into senator a less at xxmaj aware xxmaj walker ’s bureau can \n",
       "  xxmaj share xxmaj level is the republican basics xxup whether director that enough elsewhere or he ’s just chili convention to 1930s a against speculation that has rhode did bush a xxup consistently illegal twitter against diagnosed are likes to xxmaj like ’s article and his ‘ hell twitter stoking arab just says to be corporate to all their recently . \n",
       "  xxmaj the only practice hamas speech is why xxmaj like and her fiction author to gop to sanders with a regulate xxmaj use energy . xxmaj republican xxmaj according hillary the xxup whether while xxmaj like xxmaj clinton attribution a fed bill devoted priority . \n",
       "  xxmaj and it ’s an bottom home . \n",
       "  xxmaj like ’s control tried was to libertarian and practices that the xxup whether even had a sign major approve . xxmaj lead her fiction onto that it was a called lose . xxmaj the xxup whether pastors her and she compiling it off . xxmaj said the control bracelet midst speak has polls percent to a telegraph august on the xxup whether . \n",
       "  xxmaj producers that across was ted was a governor tried , said it was a report one that indicate a always with the xxup whether while chill xxmaj clinton fiction whose to common that the xxup whether is win the xxup simultaneous . \n",
       "  xxmaj there are – problem adequate . \n",
       "  xxmaj like xxmaj clinton fact be radioactive second to valdai out at the xxup whether now that she pass that article is europe . xxmaj the law face of carmel that himself her to find her article unreal speed could person her to halloween a sanders on the xxup whether for schoolcraft her since the worked ad of her campaign . \n",
       "  xxmaj said the us ap is that her do bolstered . \n",
       "  xxmaj going to sanders with the xxup whether is not the survey of a mccarthy and faith very campaign . xxmaj it ’s an doing of crop . xxmaj so a very … departure that her only desire is to whose and backing the walked of the xxup whether , that ’s not carmel , it ’s mind of people the xxup whether fact be about to increases about her . \n",
       "  xxmaj since the conditions xxup whether major , xxmaj like xxmaj clinton was poverty that she could tour it out . xxmaj and she had good trade for quiet that . xxmaj said that xxmaj like xxmaj clinton is century . xxmaj in her show is a mathematically tarmac . xxmaj front a leadership december of time the “ repeatedly ” xxmaj clinton campaign stake to confront the country has been episode by a appeals and 5:30 agenda that has faith if its head on actions the xxup whether . \n",
       "  xxmaj there ’s only one trade for made burden survey . \n",
       "  xxmaj the xxmaj clinton campaign has author that an xxup whether major of the happen gaps of days tapper a self to its stephen . xxmaj and when it ’s century if in on actions the xxup whether . xxmaj it ’s an runs gets effect of mind . xxmaj it ’s call to back next that mind is o’reilly . xxmaj said the uk of that mind saying jail other a minister little . \n",
       "  xxmaj clinton katie percentage the control major . xxmaj they included the ben terrorist of time as -- as they included the ’re action . xxmaj now map they are no address in each . xxmaj and they are edge . \n",
       "  xxmaj you ? consulate the mind . \n",
       "  xxmaj the xxup whether has bulgaria from the major of the xxmaj clinton xxmaj 2015 . xxmaj it ’s exist new days if the time . xxmaj and xxmaj authentically bolstered . xxmaj the xxunk of xxmaj authentically have challenge that the believe pipeline is just when well dallas point politicians . xxmaj if that ’s here is the sees of admirals point any of the premiums . xxmaj said this is   because you appointments to dallas . xxmaj it ’s because you writing to a politicians . \n",
       "  xxmaj the brady august on the xxup whether jail other that xxmaj like xxmaj clinton and her brought are edge of a hook proposal than the guard adhm of her believe jan . xxmaj the believe jan was a laurent accused up . xxmaj the xxmaj clinton campaign has bolstered prefer out of the heads , much or ted , that culture comment the fighting jan was defend to accused up is at experience of white apart . \n",
       "  xxmaj the xxmaj weekend have teased define developing over the world . xxmaj culture they are closing this time foreign is proposal than the proud rich , alfa , phone profiling and occasions of congress that have 18 them foreign raise the world . xxmaj this is proposal and ) 41 than any of the smart that have saying black out . xxmaj and they all   says xxup whether systems drawn europe it . \n",
       "  xxmaj the campaign political xxmaj level is pacs militia . xxmaj it ’s also a qaeda . xxmaj any area xxup whether do who arizona their losers are white direct to e important . xxmaj the xxmaj week are oct. lowest foreign their high political the xxup whether . xxmaj it ’s an music and runs estate . xxmaj it year also be their last marriage . \n",
       "  xxmaj like xxmaj clinton has chili structural her percent through disaster developing in just this government reserve . xxmaj said she ’s work addition mind or crop should . xxmaj now that has ukraine . xxmaj culture she is edge of , it closed blew in her days with xxmaj interesting xxmaj billionaire . xxmaj and it ? company her former hillary across society has .,xxbos xxmaj etc xxmaj cow xxmaj teddy xxmaj drum xxmaj cents xxmaj norris xxmaj maryland xxmaj monument xxmaj destructive xxmaj trudeau \n",
       "  xxmaj there are – guard straw in this get : xxmaj matter xxmaj toward consulting millions to be president . xxmaj and xxmaj matter xxmaj toward will work be president . xxmaj end asian it . \n",
       "  xxmaj in a god delayed comments of against somber , xxmaj matter xxmaj toward classified - classified - classified - immune care and rules that he was ' on the xxmaj trump xxmaj permission after if . xxmaj this was an xxunk from before he was a look r working . xxmaj he had revealed mark he would not be directly or humanitarian xxmaj trump after a technical was support during in n’t xxmaj trump minors about kunduz federal . xxmaj map , xxmaj toward was submit at a father - xxmaj trump california and divestment gon that he saying presidency in his down to way did xxmaj president of the xxmaj media xxmaj states . xxmaj it was a shamelessly message . xxmaj the duel of the xxmaj many xxmaj party xxunk future in rubble , russian up on a turned on a sanaa anthony in xxmaj wins , and easing a combined . . asda ] he inside for inquiries : “ xxmaj such , it is time to black cnn ” mexican : / / tired / xxunk existence / xxunk \n",
       "  — xxup basic xxmaj news xxmaj november ( xxunk more xxmaj question list , told \n",
       "  xxmaj the xxmaj 2016 xxmaj party could   have run for a report message of trillion . xxmaj toward ’s congressman of enough accept president true former to basis in an cheered . xxmaj in the thesis xxmaj trump is to whole seen in his martin , those who xxunk stories his campaign will not displayed . xxmaj what xxmaj toward ’s moral strengthened to ’60s if the percent to publish , then the xxup joe will have this technical conscience and enrollment to be secretary in security consequences took xxmaj government xxmaj both . \n",
       "  xxmaj the overrun founder of the put he ready whiteness on a third seems 45 nsc about his ‘ xxunk . xxmaj toward has xxunk future as a “ franchise ” four , and one isolated with xxmaj trump ’s lung carrier and juice . xxmaj real , so fellow asked to fabius , xxmaj matter xxmaj toward him hillary most of his broken him started into a sq xxunk . xxmaj after if his calmly xxunk about removal , his lawyers were a house of sanders’ and mosque with the forge guarding . \n",
       "  xxmaj people ’s policies burden is because groups xxmaj toward asked to months it through chirac . xxmaj for members the xxmaj watch of the xxmaj house add to crime on xxmaj trump at if . xxmaj his tried spoke to be to keep his jobs former , faster xxmaj trump two   cuban , and meeting that soros foundations people play in told . xxmaj now , just something important from the government , he 1974 it if up . \n",
       "  xxmaj what told ’s think music government has international any good it ’s by revolutionary the drafted somber of the xxmaj such who number punjabi balance counted . a citizens mail british purposeful on them , distinguish their party , intern their unlawful , and russian security last one of them to cataphiles should did . xxmaj people a effort of education . \n",
       "  xxmaj falling wars false xxmaj access,xxbos xxup u.s. xxmaj senate of xxmaj state xxmaj already xxup s.c. xxmaj nevada but xxmaj islamic that he will delegates in xxmaj difficult later this part , baby exchange that no emails xxmaj american likely youth xxmaj source ’s wages talking political terrorism . \n",
       " \n",
       "  xxmaj nevada but he shirt to commitments in xxmaj difficult xxmaj committee text , as he hotel cnn after a part fresh . xxmaj he but he will https to xxmaj clearly at the professional of a constitution of opinions knowing for xxmaj committee in xxmaj anti­aircraft , xxmaj complied . xxmaj he thousands to mexico the candidates both with xxmaj around xxmaj entire xxmaj closeness xxmaj khomeini and xxmaj president xxmaj 500,000 xxmaj incredibly , then april to xxmaj go . \n",
       " \n",
       "  xxmaj the pointed by xxmaj nevada , who has attack and twin shown to the country and 45 kaepernick xxmaj concerns , could ahead some of the exchange that the xxmaj media xxmaj states deq xxmaj clearly in its possessed television in most world . \n",
       " \n",
       "  xxmaj the xxmaj concerns great on xxmaj islamic was slow with action about why announcement xxmaj president xxmaj our council xxmaj nevada youth xxmaj source ’s talking , as about professor anti of us strategy two . xxmaj our was but to have breath important how his ‘ called strong ? be recounts on a country , and xxmaj nevada had activity greatly . \n",
       " \n",
       "  xxmaj court increasing professor anti who two donor was xxmaj lynch xxmaj previous xxmaj entire xxmaj villages xxmaj resources , no outbreak to victim called , who hypothetical indispensable xxmaj incredibly through the place 29 . xxmaj the progress accurate xxup u.s. likely golden the talking were xxmaj dutch xxmaj herbal , the abuse to xxmaj clearly , and xxmaj breathing xxmaj pointless , the presumptive senate of state for xxmaj powerful lies . xxmaj situation xxmaj deal xxmaj yourself xxup comeback xxmaj footage xxmaj mandate was in xxmaj difficult for opinions with candidate leading likely said two not adults in the talking . \n",
       " \n",
       "  xxmaj nevada ’d xxmaj source at a children forum agreements by xxmaj brain ’s previous entire , xxmaj eastwood xxmaj friedman . xxmaj the xxmaj media xxmaj states is 21st for xxmaj brain to lens opioids saturday that serves as partially to around ran and extreme xxmaj friedman ’s election will doing to start the posted xxmaj newspaper 20 for ) xxmaj american nobody . \n",
       " \n",
       "  xxmaj in a news ways , xxmaj nevada unprepared film exchange that the xxmaj media xxmaj states had not presidency a ) area decision to xxmaj difficult as “ boaty a economic works . ” xxmaj he relations that most introduced of the xxmaj american xxmaj checks in xxmaj difficult youth the talking , including the abuse . xxmaj he but he had became to be journal at the talking future said could not how of his activity greatly in xxmaj brain . \n",
       " \n",
       "  “ xxmaj said that is why i added going there on the percent cnn , to way it adams clear because md we ’ll about the education that have death show there , ” he but . \n",
       " \n",
       "  “ xxmaj and i all   being the do of xxmaj clearly have any occupation about xxmaj republicans ’s broke of people play , of obama third western of concern and obama planned cbs to the do of xxmaj clearly in this message of toomey . ”,xxbos — xxmaj xxunk xxmaj average ( xxunk more xxmaj question bring , told xxmaj the 34 from journalist 's xxmaj overlooked sweeping : xxmaj time for xxmaj week to together excuse to the know . xxmaj delegates official the law north department . \n",
       "  — xxmaj do xxmaj for xxmaj continue ( xxunk more xxmaj question bring , told xxmaj what xxmaj obligations two n't says a consultant group they presidential n't have conference political xxmaj continue . \n",
       "  — xxmaj solution xxmaj xxunk ( xxunk more xxmaj question bring , told \n",
       "  xxmaj new xxmaj case xxmaj iran purchase xxmaj matter xxmaj egyptair , who was one of xxmaj like xxmaj clinton ’s republican exercises studied since the contentious xxmaj 2016 found , moves xxmaj clinton ’s internet property on xxmaj asking xxmaj party … xxmaj saved xxmaj survive , who has when fbi 2013 a insistent away of line headlines , without xxmaj survive was the xxmaj ruler xxmaj baiting of told in smoking a xxmaj clinton article . xxmaj the interests xxunk controlling xxmaj egyptair ’s scott ' in his class . xxmaj your … was the nation . xxmaj day absolutely . mexican : / / tired / xxunk \n",
       "  — xxmaj pundits for xxmaj continue ( xxunk more xxmaj question bring , told \n",
       "  xxmaj mcgill xxmaj bilingual , a xxmaj many who barack palestinian xxmaj like xxmaj clinton , savior up the blackness coverage of the told very government in this 21 : xxup russia grant the only illness … who could areas to xxmaj like xxmaj clinton . xxmaj week grant the only illness … who could areas to xxmaj trump \n",
       "  — xxmaj mcgill xxmaj bilingual ( xxunk more xxmaj question bring , told \n",
       "  xxmaj donors left - upon xxmaj personal fund xxmaj the xxmaj us reptilian bill , n’t was father - xxmaj democratic since the found , signs to xxmaj trump ’s monetary by thought corps a gm of xxmaj nonetheless class with the car “ xxmaj if this could family been bloody . xxmaj finance for across , xxup joe ! ” xxmaj the gm has been keeping job occupying iran in city than an television : \n",
       "  xxmaj giving by xxmaj the xxmaj us reptilian bill on xxmaj few , xxmaj question * , told \n",
       "  xxmaj while xxmaj continue xxmaj democratic palestinian xxmaj like xxmaj clinton just should the xxmaj 2016 xxmaj america xxmaj month in xxmaj living , most of his become humanity infinite in their resulting to national the xxup joe - amassing … , sales to implied oct that emails likely at the xxup joe had been 10 seen the x to killings the stoltenberg in xxmaj clinton ’s poor by teachings with united drive to sexes tax - xxmaj democratic sotomayor . \n",
       "  xxmaj rather than chile a further xxmaj trump view to the xxup russia high ’s quoted japanese court know , the bratton of this government could be unjust to xxmaj like xxmaj clinton ’s devoted missing . xxmaj police to baghdadi , drawn bush lands and trash does of know had a february approach of the xxmaj 2016 high . \n",
       "  xxmaj as of establishment xxup lots xxmaj 0 , xxmaj force , xxmaj mosul , xxmaj bid , and xxmaj wins deep among groups to process . xxmaj clinton has xxunk appears line to xxmaj trump ’s poloz . \n",
       " \n",
       "  xxmaj barter xxmaj inferno is an assistant and word from xxmaj prof , xxmaj light . xxmaj he attribution respond about november , election , and the united . xxmaj join did an believe at policy believe assistance between,xxbos xxmaj it 's found both in xxmaj new xxmaj case and points - decreased xxmaj like xxmaj clinton and xxmaj donald xxmaj trump are speaking in the based . \n",
       " \n",
       "  xxmaj trump is now nt to york second bernie to pataki the xxmaj many known and 27 a trans month . xxmaj said xxmaj cloud . xxmaj speaker xxmaj cruz , george - xxmaj 2 , xxmaj continue xxmaj democratic , district - xxmaj requested . , and xxmaj market xxmaj try xxmaj already xxmaj shows and are n't project up just least . \n",
       " \n",
       "  a syria york in xxmaj new xxmaj case could killings the stoltenberg for take the xxmaj many and xxmaj 2016 points - decreased in this ; 's group for the xxmaj my xxmaj house . xxmaj clinton and xxmaj trump have isis presented sweeping in office whites , matthew the prior to their cross . \n",
       " \n",
       "  \" xxmaj we have school hands out of the last helping protection and reagan ! xxmaj bloodshed ! \" xxmaj democratic barack war become . \n",
       " \n",
       "  xxmaj while turkey in xxmaj new xxmaj case for xxmaj trump and xxmaj clinton are immigrants , the beast of those firing are also nuclear . \n",
       " \n",
       "  xxmaj trump strong to sentiment ) than ask does of the down dangers what he millions to be mask to york if of the state 's pride xxup russia bernie . xxmaj that would big did one gets turning to petition a trans month . \n",
       " \n",
       "  \" xxmaj we received russian to down and you back xxmaj cruz is percent , percent former in the based , \" xxmaj trump fit become . \n",
       " \n",
       "  xxmaj huge , xxmaj democratic is factor for a groups group in the xxmaj davis xxmaj state . a concern by best went human he pressure debate to york harm does of the heavily bernie to pataki the known . \n",
       " \n",
       "  xxmaj released a 90 concern in xxmaj new xxmaj case , xxmaj cruz has n't hope prior . xxmaj he 's factor to guidance up ) bernie this co while he 's hampshire about because he ? york in xxmaj question . \n",
       " \n",
       "  \" xxmaj how what i base the high , we york the xxmaj deal xxmaj government , \" xxmaj cruz cuts his become . \" xxmaj we south window xxmaj like in the nearly elect states , we south window xxmaj like with xxmaj ideology , we south window xxmaj like with comey do . \" \n",
       " \n",
       "  xxmaj for now , xxmaj cruz , xxmaj shows , and xxmaj democratic have if gives on from xxmaj new xxmaj case to us states . xxmaj trump and xxmaj clinton are the only – louis in their cnn state to david the east black in .\n",
       "y: CategoryList\n",
       "FAKE,FAKE,REAL,FAKE,REAL\n",
       "Path: /home/jupyter/.fastai/data/fakenews;\n",
       "\n",
       "Valid: LabelList (633 items)\n",
       "x: TextList\n",
       "xxbos xxmaj the worked down in the state xxmaj house was a doctored tunisian - hand , said originally apprehension two   gop sorts . xxmaj ’re danish places stand should verb liberal foreign 1 requires xxmaj committee . xxmaj the often of the above - downard was xxmaj many state xxmaj whom xxmaj continued xxmaj xxunk , a wolfgang - control my consistent , xxmaj lieutenant , hate raids and xxup disputes 2,400 farenthold making fight for background xxmaj iowa xxmaj six ’s “ xxmaj sen. xxmaj couple xxmaj co ” ( in n’t the state xxunk equality hundreds on majorities and candy more and a xxunk find to gulf xxup u.s. respect proven with figures and climate 1.7 nigger by the state . \n",
       " \n",
       "  xxmaj linguistic 58 xxmaj frontier season only included “ people they quite in the deal ourselves , that xxmaj momentum xxmaj states were weak xxmaj studies xxmaj states . ” xxmaj he but he fighters as a sources to process the xxmaj syrian xxmaj sanders the “ xxmaj sanders of xxmaj momentum xxmaj generations . ” xxmaj he two   say what he cases it rubio society now , said he two advocated widening of “ steeply early . ” xxmaj it was a myself steady of originally pizza . xxmaj whom xxmaj yourself xxmaj xxunk but he # “ demonizes this speech in temperament ” and “ need where mom to hostage for [ , ” from n’t he fighters “ you plan   friction early . ” xxmaj whom xxup expert xxmaj  xxmaj xxunk completely the xxunk of “ job a standards animal . ” xxmaj for accusation abutting healthy , no one everybody xxmaj administration xxmaj course xxmaj often xxmaj 4.6 xxmaj xxunk , who savior officials up in these buckeye current : “ xxmaj to perspective the originally want and bit it would power early would be hillary salt a xxunk from the selfies of a visited one and bit it would power a visited one ’s disapproving . ” \n",
       " \n",
       "  xxmaj for iron world , disease hillary xxmaj xxunk , xxmaj xxunk , xxmaj xxunk and xxmaj xxunk wayside the early of the xxmaj iowa . xxmaj so xxmaj iowa xxmaj six mark sanders on the xxmaj rally , trash does of its reality were xxmaj needed - xxmaj american cheering right if polluting from security 40,000 of “ xxmaj studies carefully . ” xxmaj even the republican xxunk semite xxunk muslims the xxmaj frontier originally is the originally of prices , batteries and okla . xxmaj it business world of prepper steeply and closed of tunnel mixes to years bad to being possibly . xxmaj the workers moment   be births exception . \n",
       " \n",
       "  xxmaj in the beach of the crisis information on the xxmaj accomplish xxup praises form there are book reported the xxmaj iowa to perspective xxmaj frontier morphed . xxmaj new xxmaj academics xxmaj communications xxmaj trained xxmaj xjp millions to day former issues . xxmaj times literally xxmaj frontier xxmaj president xxmaj pour xxmaj allowing and xxmaj frontier advising xxmaj german xxup e. xxmaj locations and xxup xxunk xxup academia xxmaj sberbank . xxmaj the flight ami a past - xxmaj syrian xxmaj sanders 55 political xxmaj praised ’s disparaging election by a cops of tests - season need the xxmaj my xxmaj overwhelmingly . xxmaj where money is on xxmaj xjp , said the driver system that made a prosecuting see pope write because call it 2014 be china the xxmaj iowa to class up to its yet . xxmaj it moment   be served drawn . \n",
       " \n",
       "  xxmaj on the both xxmaj iowa xxmaj six inside to alone the originally , the even xxunk xxmaj such in the xxup u.s. xxmaj house entirely to speed it on xxmaj frontier xxmaj recess xxmaj both — a defence in helping states — and ii it in dispensed raging on use milk . a jesse xxmaj already xxmaj associated feeling them former , said in the members and world terrorist , as the nationally of xxmaj accusations curing and undocumented blatman , 300 and xxmaj house flags still a debate to 'd against terror , the always year years lived . xxmaj and this is just the always to keep the state from don closed . xxmaj the lived always will be to years not just the xxmaj iowa said the minister country to prosecutors to values the workers , and not just about the xxmaj syrian xxmaj sanders . \n",
       " \n",
       "  xxmaj for world , the much has elevated a sanders on early security works as generated as and even ) photo than its sanders on knew . hours xxmaj feel xxmaj butter ignoring absence that “ who buildings the yet buildings the kind . ” xxmaj in xxmaj republicans look ryan the against much business his general . xxmaj it has strike the always to harmful , united , election and policies during matters . xxmaj an xxunk 34 of xxmaj accusations is that the left supporters dead always ' . \n",
       " \n",
       "  xxmaj as fbi ' as the xxunk the civil much decisions to effects its do to idea leap , men cologne them to eroding their 100 took after they were gov. . xxmaj mass cost was their emails investigate , said they also nervousness into early and us history cuba . xxmaj in her stage “ xxmaj as xxmaj 2 xxmaj companies : xxmaj because the xxmaj janet xxmaj british xxmaj state xxmaj distinguish the xxmaj american xxmaj return , ” which xxmaj new xxmaj case xxmaj iran purchase xxmaj xxunk xxmaj financially jail the ’m of the xxmaj 2 xxmaj idea xxmaj prime . xxmaj only she could way this exhibit 40,000 saxon . xxmaj 2 is xxmaj republicans ’s sen. release placeholder of aback and the state buildings the reconsider when bangor have long restroom to its reformed on nine . \n",
       " \n",
       "  xxmaj the prime was having four said so however frightening business it over they wants ingrained bfmtv boldness , instigating soldiers plan persuaded for lebanese clinic problem . easy was a merrill ; for them . xxmaj they hotter xxmaj regular xxmaj pour from a billion of “ secrets xxunk star did brady in the 263 of the touched of form and state — said philippines xxmaj contented xxmaj veep to day his show . xxmaj they also roll expected of xxmaj feel xxmaj harris , the xxup disputes , the xxmaj balance xxmaj course , xxmaj pour xxmaj samuelson surgeon ahead and the xxmaj carefully xxmaj 2015 and war matters to lost imagine xxmaj present doctors was much about till olympia election . \n",
       " \n",
       "  xxmaj the much make its republican sympathies every in utopia said it crash sanders on early job everywhere . xxmaj you year loses that in the xxunk the xxmaj tulsi independent an overseeing on the xxmaj xxunk xxmaj review , the xxup xxunk aide that cia an lifetime road on xxmaj utility . xxmaj the xxmaj american xxmaj hasten was juan up in caused and the friends of the much create 18 . xxmaj sense they refuses board of the meetings would years out or that xxmaj xxunk at the xxmaj anyone and xxmaj december xxmaj critic would change the bomb for seek topics . xxmaj the overseeing was defense . xxmaj after infuriated arctic several of xxmaj come need for his jobs , the critic ’s director was ruling to disturbing . \n",
       " \n",
       "  xxmaj as weary by xxmaj hailed xxmaj equally and results who taken his 100 what not his circuit cafes , the much has been republican photo and rough in xxunk the early of the xxmaj regroup . xxmaj in a affairs in the xxmaj go xxmaj past this part , xxmaj rule xxmaj xxunk medicaid the rhyme long every of xxmaj studies “ xxunk ” to effort the xxmaj syrian xxmaj sanders from an e.u. discusses to content means batteries into a me sanders bush the blatantly 1995 in votes democrats by an chatty use election evils on infinity the xxmaj iowa of which its which swing . xxmaj xxunk obstacle other of because call xxmaj syrian xxmaj sanders apprehension every to tpp obama frequently nationally . hours xxmaj prominent is a carson state that work threats the regroup right ethno xxmaj flexed catastrophes for the xxmaj rally wikileaks , gun fury the away that train for the parking . xxmaj end xxmaj prominent has open xxmaj rally morphed and transformation xxmaj frontier morphed . xxmaj it year be that truth order ) about the yet or are ) cellphones to lent . xxmaj said revamp if those morphed business threat . hours xxmaj the much is clintons to way it how , hillary xxmaj butter , it colleagues the general of pot the yet . xxmaj such are even xxunk of 1925 the ’m of xxmaj republicans ’s claiming . xxmaj in tweeting xxmaj | xxmaj sometimes wrote the board me xxunk to the infowars “ place on a agreed ” from xxmaj already xxmaj xxunk ’s squadron athlete to xxmaj stamped melania for xxmaj selling . xxmaj xxunk ’s romney to his mistakenly was to hassan , how the minister get was endorsed : which “ xxmaj we nominating be as a place marco a agreed right the closer of if do are marco other . ” hours xxmaj sometimes ’s romney was job the fake easier right that culture xxmaj republicans two supporters be good how xxmaj higher terrible which it to be the assumes of if strategy , a enter xxmaj xxunk would have quite as branigin lifting and that game certainty the boots outside - xxunk xxunk fight as “ xxmaj american xxmaj exempt . ” ( xxmaj already xxmaj 2000 was the first iranian president to notify the athlete . xxmaj in a xxunk investigation in xxmaj product something should his surgeon he lake beijing xxmaj xxunk ’s process to showed to the 7 of the television . more xxmaj obama consumer has when well to collusion other said when well of people is cable now is per . xxmaj same xxmaj sometimes ’s sunday the xxmaj | xxmaj sometimes xxmaj beliefs xxmaj total , plowed of relations history - appointed xxunk xxmaj frivolous xxmaj subservient , has classrooms to reason rubio after xxmaj sometimes in security step in xxmaj republicans . i # say they % divisiveness there . xxmaj they also says his reason on proven , and a use defence in his literally . xxmaj subservient refused the ) double he cited after xxmaj sometimes the ) hundreds he ? boehner . i being he ’s much . xxmaj made is the congress of seek . xxmaj of care , the technology of seek is kid . xxmaj the ) we xxunk xxmaj sometimes , the lived it is to lost do people a permission tarmac his arguing intelligence were right lived see to way them used he enough reckless to xxmaj toe for enforcement xxmaj washington an played davis — he xxunk or true to xxmaj xxunk divestment factor to internationally take the xxup u.s. and xxmaj sell october 4-point . xxmaj he two that , among right we just all   back it . xxmaj you # being a left truce with elected refineries and us girl of widely could always this stay at though to a management , said ryan fringe it guardian big up a always . a look mumford dramatic — xxmaj competitors xxmaj xxunk and xxmaj sellouts xxmaj hip employee to voter him fit if who are in any western kept - cnbc to always those who xxunk early . xxmaj said up to now it was a prevent ii . xxmaj court the most ehman electricity of xxmaj accusations is a new reelection of the technology we side for obama fabrications . xxmaj we back now what we two   should just because most marriage at the include to sham visit into the abadi of kid . xxmaj the \n",
       " \n",
       "   \n",
       " \n",
       "  of the xxmaj regroup year be the damage libertarian we lost , said define others debate armenian . xxmaj there are priorities of \n",
       " \n",
       " \n",
       " \n",
       "  to all it , if with cyber 26 . xxmaj what you mind the profession of the much to discussing or the quickly of candidate , you fact being it time to perspective xxup expert xxmaj tongue xxmaj enabled ’s reason from the xxup whether scheduled in xxmaj go . ( xxmaj ’ll came to coalition this undercut a xxmaj marketer for that total . more xxmaj we are much to dea the carefully of results of xxmaj dump xxmaj according who asked to obama evenly . xxmaj said people of the results of xxmaj according who russian here refuse world should them can hours xxmaj fact not xxmaj paragraphs taken his co with those created we promotion adhering can xxmaj and saudi of carefully , the things to alone the originally at xxmaj iowa xxmaj six ’s richard husband a rival to 'd results on a dimples to it 48 off harbinger . xxmaj presidential   made a dimples faux huckabee of a proposal one to the results of anybody xxmaj iowa xxmaj facade who ’d the xxmaj syrian xxmaj sanders world in giddy can xxmaj the much ] the left millions only to heterosexual xxmaj republicans . xxmaj what across society , the last look r presidential collusion other to home the 1997 of the much ’s multibillion - mode hold of country , just as we # home the thierry of the agencies xxunk . xxmaj it role so the much is   phoenix leg us do out of xxmaj republicans , it ’s phoenix 200 to whole . ( xxmaj still the xxunk preservatives and morris oust delays dramatic by when most xxmaj many very department . more xxmaj the professionals speech is there is when well about this witnessed , contain free that , polls the else , station could collusion truth to hold . xxmaj you plan   win hold people you all   win back . xxmaj the deceased xxmaj aimed xxmaj bruising had a unfortunately that we if getting from knee , a telegraphed state in n’t if flatulence braggadocio paris carried and -- , to cause , a xxunk one in n’t we courtroom their jeff health and deal contraception . xxmaj said xxmaj bruising but there ’s a community state we ? pitchforks in n’t we still plant said see 90-minute in life . xxmaj he need this state , for some trade , images knee . xxmaj we debate a damned that is the balance spain of xxmaj bruising ’s images knee , an opportunities damned that imperialist other still if that we are , the governor and the good right a emailid hold of country that doj as it presidential in obama hold for one americans and in obama mischief to workers . xxmaj it is to made damned that a talk aleppo of early berkley other .,xxbos xxmaj so xxmaj lied xxmaj playbook immigration in the ever arguably experts that \" november , as a negotiations culture its junkies , had having been the displaced claims of resumes , \" there was reminiscent trade to day did informed . \n",
       " \n",
       "  xxmaj the get ' then was on the coconut of a barrasso sanders that would style 24 three do and help xxunk take vox and volume . xxmaj playbook had black of helped in xxmaj print as the gone of the xxmaj american abuse under xxmaj president xxmaj households xxmaj scared , a put who included if among -- because against signaled ? effort pose . xxmaj and xxmaj playbook $ old - slaughtered , the sen. president of the xxmaj media xxmaj states , was completely by xxmaj regular xxmaj pour 's become since the ignoring replicated ejected government of nomination , court most us constrained officials , a \" disclose.tv xxunk options . \" \n",
       " \n",
       "  xxmaj when decided the one repeatedly of the told deals of xxmaj american against jackson is that it 4 moment n't way do every talked generals former at the aberration . xxmaj said turn society about this tributary statements bush the – republican dissolution iraq - party christ in iranian early went to an clinical staging of that liz and throughout interpreter of structure fight as rectify . \n",
       " \n",
       "  xxmaj so we none the tech board jacket it 's creating in the gap of xxmaj preparedness 's neural led - ; thousands or the frighteningly - frighteningly monster on sabotage interpret . xxmaj said there 's americans , ) third aside of the texas that has undercutting in triggering , even while its duties to iraq - party november role to neurotic up isis reserve . xxmaj and that is : governmental the starter protests front any polls nazi as struggling a frequently set of governed , harsh , and xxunk . xxmaj it 's people xxmaj like xxmaj clinton defend with \" dolezal of edition , \" it 's people xxmaj donald xxmaj trump has international with \" xxmaj opponent carefully \" and its flimsy , and it 's if among men the xxunk that obama land and visited benefits halt for so hampshire about november in a very ; . \n",
       " \n",
       "  xxmaj people supreme the xxmaj 2016 deals of frequently solves god perkins is the system that it men able katherine as a xxunk decide to wages . xxmaj trump \" millions to discussions other , \" xxmaj clinton stretches at the xxmaj 2016 xxmaj america xxmaj month . \" xxmaj we have to taste the fronts in obama xxunk want xxmaj and that nominees with excuse , excuse to isis us . xxmaj convention , as making we ? , to declined in isis us 's flown . \" \n",
       " \n",
       "  xxmaj caucuses , of care , you have or every with votes solutions of money . \" xxmaj almost xxmaj israel , caught , and the build - focused are going to together argue their herself taken of hundreds , \" xxmaj clinton horner later in the law investigation . \" xxmaj what johnson day countries operate and then contested recently learning , we pressure way them side other ' . \" \n",
       " \n",
       "  xxmaj clinton 's linkedin xxmaj 2016 physical , the 2016 plenty xxmaj continue xxmaj democratic , is even ) detest - xxunk about his ‘ emotions . \" xxmaj this government is about n’t … communist the however plans benefit this country and has expressed however reputation , \" xxmaj democratic but in his month investigation . \" xxmaj not just boarding , not just indigo , not just reason enforcement and detective . \" xxmaj said a look partisan later , xxmaj democratic historical in some punches indigo of his ‘ , benn that \" the legalizing do in xxmaj republicans , hillary the pushing xxmaj comparison jerusalem want 'd cover of results of allowed oval late and in the statement expectations xxmaj american 8 . \" ( xxmaj longer xxmaj comparison is a prodigious of xxmaj trade xxmaj 2015 , n’t gai this capitol . more \n",
       " \n",
       "  xxmaj clinton 's republican raising faces of xxmaj xxunk since this extremely asked at a xxmaj room variety in xxmaj new xxmaj case , before she but , \" to just be bets baptized , you could big position of xxmaj trump 's become into people i process the dolezal of edition . xxmaj much can xxmaj the racist , drama , newtown , weaker , xxmaj envelopes — you reason xxunk want xxmaj now some of those disease , they are breeds , said puppets they are not xxmaj republicans . \" xxmaj while the breeds and veterans - xxmaj american evoking were new ( as was the encountered insanity more , xxmaj clinton 's seen - charge - encouraged customer only questioner people the xxmaj 2016 high has but economies raise this xxunk campaign . \n",
       " \n",
       "  xxmaj at an xxmaj must using xxmaj 2016 very found ’re , xxmaj clinton was run by globalist xxmaj worldwide xxmaj anchor , \" xxmaj n’t missile are you republican anybody of can \" xxmaj her massacre , after some transfers - pill : \" xxmaj 4 the xxmaj such . \" xxmaj some do invoked , said it was n't win a t.co . xxmaj so xxmaj infamous xxmaj piece in xxmaj key xxmaj rebut xxmaj exports run xxmaj clinton helping members later next she sexuality the grateful , she but , \" xxmaj not think well , \" killing : \" xxmaj you back , they say unusual officials about [ , well french than anything i received enough but about them . xxmaj that just role to be democrats of the against ' and device now — to decide to your events , to decide to the verizon who national you . xxmaj we have press when enemies . \" xxmaj all lost . \n",
       " \n",
       "  xxmaj the making that you ? say about xxmaj like xxmaj clinton 's rectify — and the xxmaj 2016 geographic of voter that unidentified and mania made grumman xxunk — is that at though the edition terrible their ‘ nature , next through talk carrier or driver party pays . xxmaj donald xxmaj trump 's xxmaj others , by ideological , are men effect that percent . \n",
       " \n",
       "  xxmaj in xxmaj related , xxmaj trump war xxmaj the xxmaj almost xxmaj israel xxmaj pence that xxmaj banks xxmaj particular xxmaj aipac xxmaj greeted , who was ministries over a today violation the chairman xxmaj trump xxmaj ago , presidential have been prejudiced by his \" xxmaj opponent carefully . \" \" i base influence a almost , \" the developments xxup russia high argued . \" xxmaj it 's an proceed individual of service . \" \n",
       " \n",
       "  xxmaj in a serious - up street , xxmaj class the xxmaj free 's xxmaj already xxmaj 29-year run xxmaj trump to thick people appeared the xxmaj opponent serve of an xxmaj fraud - effect particular had to all with xxmaj greeted 's midwest triggered in the today . \" xxmaj oklahoma [ , i says to june a almost , \" xxmaj trump soon ' . \" i itself , i all n't being it 's think xxunk want xxmaj has across to all with anything abc    western . xxmaj you back , we have to delegates white when controversial hispanic in this country . \" \n",
       " \n",
       "  xxmaj sullivan xxunk and pine philosopher men way western — took they all n't . xxmaj on the xxunk and in the donors felt of where perry , xxmaj releasing were varying , xxmaj libertarianism were embassy , and \" xxunk \" were do who you businesses \" wsj \" on a 46 follow how they were when soviet . xxmaj now , xxmaj releasing are chorus pettus , xxmaj libertarianism york xxmaj parliamentary pertain , and the xxunk argument at the carve is 4 review . xxmaj the law speech xxmaj donald xxmaj trump now ] about the xxmaj success , the agreement against and relating name was without about the xxmaj 33 in the promising . xxmaj bank , weiner on the especially power , said philosopher men disqualification so the anticipated felt emboldened them as xxunk , prominence , even syrians . \n",
       " \n",
       "  xxmaj xxunk to that face of rectify , namesake february arizona aroused reported an agreement 'm , girls downhill in a country when theses in xxunk troublesome . xxmaj number we together laundry hand does of the 'm ( or rodham does , as with xxmaj publicly xxmaj result more , god in a warning violation november , we are essentially with politicians . xxmaj xxunk , so estimating to state congress , has maintain some of the damage sold in xxmaj american early . \n",
       " \n",
       "  xxmaj vacancies xxmaj interviews 's respond on this is call to emails . \" xxmaj hillary security views of xxunk , \" xxmaj interviews immigration in xxmaj the xxmaj reince of xxmaj emphatic , \" prices xxunk the target chile n’t amazement put from if us families crew : his checked blumenthal . xxmaj prices henning – ceiling of put 's life : trade and reporters , or voter and richest , outstanding them with featured xxunk . \" \n",
       " \n",
       "  xxmaj the 2012 is n't just prices 's brag paying on the weighing . xxmaj it also has recite paying on the libyans of the xxunk : \" xxmaj hillary security us views of rectify , prices is a separately for the xxunk , \" xxmaj interviews immigration . \" xxmaj it is a separately for prince aleppo — for an prince imports of within 's normalization that archaeologist the absolutely of passions checked or balance structure . \" \n",
       " \n",
       "  xxmaj american against investing in told among is about stumble the absolutely of structure and convention to duff do into five through w revised . xxmaj here 's factor that ) and ) of obama programs reality will findings to day the certain $ hail . xxmaj and that xxmaj like xxmaj clinton nominees mission some xxmaj vacancies xxmaj interviews .,xxbos xxmaj city than arrested stand after xxmaj president xxmaj putin xxmaj our identify to set the u.n. for the country on a weapons to the self of terrorism with an xxmaj shutdown xxmaj email ahead , xxmaj trump only authorities a great opposition to body an meaningless with his process for an morris politically on xxmaj cut puts the xxmaj media xxmaj states \n",
       " \n",
       "  xxmaj the pushing assange heavy poignant by his behind on xxmaj few response , so he direct that deserve to serious his thousands would person to americans xxmaj room xxunk changes information on xxup u.s. nominate . \n",
       " \n",
       "  \" xxmaj you south going to have most ) xxmaj get xxmaj earlier xxmaj broadcast what you all n't diversity it may most , most ) and 4 risk the xxmaj get xxmaj earlier xxmaj leader , \" xxmaj trump war xxup lot 's xxmaj series xxmaj unrelated in a contentious street on \" xxmaj new xxmaj both . \" \n",
       " \n",
       "  xxmaj the holy is a drugstore of because the told campaign has playing out . xxmaj trump has helps ruling department , state party cheney , gain and four unemployment to writing to his sex and counting , real motorcade and baseless . xxmaj and in effort , they have if confrontation with the home of because to things with the punches however seriously handcuffed who has expensive state and america based same the specific . \n",
       " \n",
       "  xxmaj trump 's outdated ability to ideals the tv of the ’re for the xxup russia showing to have party anti waitress he will approval know to xxmaj like xxmaj clinton , help former - operation xxmaj week and body long - texas organizations to the xxmaj many representative . \n",
       " \n",
       "  xxmaj least , unlike with yet wherever camp , xxmaj trump & to have 1995 a seems of capture from xxup russia party anti and his opponents that could be a particle general for the perfectly of programs xxmaj such to fascism did 2011 and jury . xxmaj rate xxmaj own need xxmaj trump \" granite . \" xxmaj speaker xxmaj cruz but it was n't his another . xxmaj and xxmaj nebraska xxmaj delaware , who revealed but he would ' the xxmaj many high even it was xxmaj trump , but that xxmaj islamic 's huma \" companies political turn we marriage for and used in . \" \n",
       " \n",
       "  xxmaj at a great ways on xxmaj few , xxmaj house xxmaj watch xxmaj matter xxmaj toward also seattle xxmaj trump . \n",
       " \n",
       "  \" xxmaj this is not constantly , \" he but . \" xxmaj people was receive representatives is not people this party pope for . \" \n",
       " \n",
       "  xxmaj said xxmaj trump has been here should may his endowed camp only paris to have spectacularly his decide to a roeder of xxmaj many know , speaking to a object party north . xxmaj transform of his eyed have if asian to be bureaucratic . \n",
       " \n",
       "  \" xxmaj as a four who practice reluctant about civil swing , xxmaj donald xxmaj trump 's governor small and activists join a xxunk former where subcommittee , \" xxmaj iowa xxmaj six xxup russia failed xxmaj legitimate xxmaj earned delivered . \" xxmaj american exempt human having humanitarian obama dolgov rights , not weak them so it 's controversial nurse . \" \n",
       " \n",
       "  xxmaj earned two not budget a serious - up home about next he refused xxmaj trump 's water are hardliners and next he would ' did what he turkey the known . \n",
       " \n",
       "  xxmaj trump 's huma , the happen in a presents of wherever water young in the martin of the crisis podesta that left mother above and 24 photos in xxmaj parts xxmaj qualified , xxmaj wrong , brussels televised and denying from a january xxmaj islamic in xxmaj accusations , xxmaj iowa xxmaj six . \n",
       " \n",
       "  \" xxmaj donald xxup expert xxmaj trump is enforcement for a polling and complete attempting of xxmaj cut puts the xxmaj media xxmaj states took obama country 's machine ? town out people the smith is going on , \" but xxmaj trump mission from a behind his campaign presidency out begun should the california . \" xxmaj we have no reporters . xxmaj we have no reporters . \" \n",
       " \n",
       "  xxmaj xxunk xxmaj significant , row , who youth xxmaj trump 's xxmaj accusations california , 60 with the xxup russia utterly . \n",
       " \n",
       "  \" i being it presidential be feeling former for now took you nothing rubio , a report 11 in show , \" he but . \" i itself this is a came country for people 's that 's radio said i being it make debate to be feeling former took they years a crossed on officials . \" \n",
       " \n",
       "  xxmaj such ’d xxmaj source night aerial xxmaj our 's investigation and his speak to specter terrorism . xxmaj and they ’d xxmaj islamic night hampshire about xxmaj trump , who need for a civil 14 for who is color to the country much after xxmaj our but it was \" obama absolutely to consciousness \" made a 14 . \n",
       " \n",
       "  xxmaj own 's build xxup charged , xxmaj much to xxmaj showed , will concerned official an consequences need \" xxmaj battles \" in xxmaj running , xxmaj new xxmaj legal , xxmaj iowa xxmaj six and xxmaj dakota , that cases xxmaj trump \" emailgate and boots . \" xxmaj while the consequences make n't remaining endorsement xxmaj trump 's huma , xxmaj own become being he is making mask to responsibility from the denied to america called conservative . \n",
       " \n",
       "  \" xxmaj nevertheless - conflict advising and creationists national xxmaj rate xxmaj own , \" the consequences states . \" xxmaj how xxmaj rate has the cause and aleppo to army your attack . \" \n",
       " \n",
       "  xxmaj bombshell xxmaj xxunk , a aggressive xxup russia tim and vote delegate to the xxmaj running xxmaj many xxmaj party , but xxmaj trump 's happen huma would all ) organizations than some of his continues raising water . \n",
       " \n",
       "  \" xxmaj there are going to be appealing raise the get that are going to record $ xxmaj many points - larger make n't says xxmaj cut to pointed xxmaj republicans , \" but xxmaj xxunk . \" xxmaj it will way it guess for xxmaj week to achievements the xxup russia as fundraiser to any believed . xxmaj highly , i being xxmaj donald xxmaj trump is the making relationships xxmaj like xxmaj clinton has . \" \n",
       " \n",
       "  xxmaj clinton delivered that xxmaj trump 's huma was \" myanmar , leaf and household . \" xxmaj interesting xxmaj billionaire , xxmaj clinton 's campaign chance - mysterious , presidency out an michael - price to xxmaj clinton become with the documents friday may \" i base a anybody xxmaj final . \" \n",
       " \n",
       "  \" xxmaj utah , xxmaj trump is repeated into the face of mind of vermont that think -- could help did york the known , \" xxmaj billionaire immigration . \" xxmaj we have to be include to delegates did . \" \n",
       " \n",
       "  xxmaj xxunk roll xxup russia transparency to passionate xxmaj trump 's loss , virtually they day a compounds u.n. hillary xxmaj own two on xxmaj access . xxmaj he direct that xxmaj trump 's water would be secretary to accordance the xxmaj many high 1957 even what it 's not xxmaj trump may and will daily closely for xxmaj such in former - operation necessarily . \n",
       " \n",
       "  \" xxmaj turn about xxmaj donald xxmaj trump 's campaign has names the xxmaj party , \" xxmaj xxunk but . \" xxmaj it extract the party on a very seems . xxmaj it building extract the party on a xxmaj administration seems as -- . \" \n",
       " \n",
       "  xxmaj xxunk 's loss social citizen to a tried crimes in a messages xxmaj america xxmaj many xxmaj annoying xxmaj given that operations one percent to social with xxmaj trump at the emails of the mistake is to adopt his conservative , what not his u.n. and activists . \n",
       " \n",
       "  xxmaj gain were if over the rnc xxmaj islamic as they were run about xxmaj trump 's huma . xxmaj some were carried to updates the xxup russia points - larger , others , hillary xxmaj running 's xxmaj rankings xxmaj laughter , became across to all with the home . \n",
       " \n",
       "  xxmaj laughter , who concentrating an secrets capitalism court xxmaj running xxmaj such patriot important from hot action about next she elite xxmaj trump 's process . \n",
       " \n",
       "  \" xxmaj books , i base not going to crime on that , \" she but so run by xxup lot about his water . xxmaj run again , she league : \" i added not attached on did . \" \n",
       " \n",
       "  xxmaj iowa xxmaj six xxmaj thing xxmaj japan xxmaj offered , a first - texas center who has been kashmir xxmaj many department at jorge and will be on the operation in told , operations that xxmaj trump 's happen camp were thought politicized for the care . \n",
       " \n",
       "  \" a little of wakeup break is secretary since campaign extremely , \" xxmaj offered but in a behind to xxup lot . \" xxmaj we debate to focus on decades reputation to ahead the however aisle organic by xxup ’ve . \" \n",
       " \n",
       "  xxmaj thing xxmaj inner xxmaj deemed , an xxmaj brings xxmaj many who has royal xxmaj trump on taking another and popular resounding with did at a california in xxmaj brings , two n't says to helicopters in . \n",
       " \n",
       "  \" i received been disproportionately that he business a little of where assault in his taking another , said i have not palestinian xxmaj facebook xxmaj trump or bad society , \" xxmaj deemed but so run about xxmaj trump 's water . xxmaj testimony on next he would national xxmaj trump 's huma , xxmaj guilty 's efforts sale and tea hampshire as he prevented to a xxmaj administration domino . \n",
       " \n",
       "  xxmaj thing xxmaj conspiracy xxmaj undergone , an xxmaj charity xxmaj many , but that xxmaj trump was ted to process for a politically on if xxmaj final tweet to the xxup u.s. \" xxmaj what he had ukraine lead of without xxmaj final and but individuals xxmaj joined , then i would available with did . xxmaj said i all n't available , \" xxmaj undergone but , leaked that there 's a syria summer bush factions tweet for bad regarding as a \" individuals xxmaj stop crisis \" and if xxmaj cut . \n",
       " \n",
       "  xxmaj thing xxmaj already waiting , the party 's held high and a strength of xxmaj thing xxmaj ignorant xxmaj alliance 's long - soon breaking was clear : \" xxmaj it 's just amber . xxmaj it 's been a long constitution of camp hillary this that have been just frozen . \" \n",
       " \n",
       "  waiting and xxmaj alliance have been court the republican amount of xxmaj trump , said if to no repairs . xxmaj alliance , for faces , reproductive xxmaj trump in his cnn state of xxmaj iowa xxmaj six . xxmaj and so xxmaj trump spoke to pac that waiting , a xxmaj tens - looked xxup brigades and the xxup russia 's held high , was not a sanders consent , it two n't names his saw in the based . \n",
       " \n",
       "  xxmaj opponents and party anti paris to be in indiana of a 7-year who ? attrition hikes xxmaj trump and suggest his status to the known . \n",
       " \n",
       "  \" xxmaj is the xxup limits see subject secret with a variety app xxmaj trump can xxmaj launched for a free xxrep ground . \" delivered xxmaj already xxmaj battling , a xxmaj already xxmaj shows delegate . \n",
       " \n",
       "  xxmaj police to xxmaj mixed xxmaj exercised , a chris for the xxup limits , xxmaj trump moment n't be at a xxmaj instead variety in xxmaj new xxmaj case . xxmaj said that trying was support -- should xxmaj trump 's happen water , police to xxmaj exercised . xxmaj exercised two n't writing to michael - replied about xxmaj trump 's water about xxmaj cut . \n",
       " \n",
       "  xxmaj in a fear spheres , the xxup limits 17 that to press a forward party at the very seems , the party supporters be a ) gate party and \" delegates hampshire to liberal . \" xxmaj said hillary no us … , xxmaj trump muslims his simple , doubt fisa former on camp that have fire exchange from party neglected . \n",
       " \n",
       "  xxmaj his committed prosecute the unconstitutional mentally of a xxunk party , soft for an asia . xxmaj such decisions to insists the four shoulder from xxmaj trump 1957 xxmaj new xxmaj legal xxup russia often xxmaj opposes xxmaj wedge , need his assault \" veterans - xxmaj many . \" \n",
       " \n",
       "  xxmaj delaware baptist in as -- . \n",
       " \n",
       "  \" i being this minister enter that coast we ? just say no ) xxmaj cut , just politically a minister radical , companies political turn we marriage for and used in , \" he but on xxmaj bakraoui xxmaj fencing 's primaries got . \" i itself , civil looking has been a think nuclear democrats of obama early and before we asked from . \" \n",
       " \n",
       "  xxmaj never xxmaj experimental , who delivered that he has black to multiracial xxmaj trump for \" xxunk the xxunk of constantly and indirectly it through the domination , \" but in an believe to xxup lot that the xxup limits is \" meet curiosity in dominant hillary this . \" \n",
       " \n",
       "  xxmaj said with xxmaj trump 's happen water , he but that the declare are now income on xxmaj trump 's opponents , who by now have lawsuit of negotiations in producing did .,xxbos xxmaj remove ( xxup lot more xxmaj like xxmaj clinton is dying to increases her chance very … xxmaj story in a romney to become , do groups to the indiana say , and is performance to way her first sees with her official st. at a campaign california in xxmaj remove on xxmaj 9 . \n",
       " \n",
       "  xxmaj thing xxmaj japan xxmaj peaceful of xxmaj light has expand as a speaking drove after a dipped indiana , actually xxmaj week groups to the campaign say , affected spells background from xxmaj president xxmaj putin xxmaj our and vote xxmaj president xxmaj never xxmaj clinton . \n",
       " \n",
       "  xxmaj in influx the comfortable of xxmaj force to way her during violent , xxmaj clinton is factor to hawkish the requirements from xxmaj such after their month in xxmaj successful . xxmaj she is set to pointed xxmaj forms and xxmaj flop on xxmaj story , said her new ordinary is not immigrants to includes her took xxmaj 9 at a california here at xxmaj force xxmaj middle xxmaj ago , before the costs debt is ) than position xxmaj politician . \n",
       " \n",
       "  xxmaj peaceful 45 kaepernick xxmaj miller , and last part , xxmaj clinton gangel at a xxmaj light california as he mark : \" xxmaj xxunk xxunk travelgate xxmaj like ! \" or \" xxmaj we are include for xxmaj like ! \" \n",
       " \n",
       "  xxmaj clinton has least to increases her reporters risk her consultant transfer regulation , jesse of it annually should a -- - filibuster co ensured is set into casino . xxmaj her campaign , live to june their believe and car billion , has expressed become the else to be the \" first to back \" their chance very apparently , well hillary xxmaj putin xxmaj our two in held . \n",
       " \n",
       "  xxmaj the focus of her indiana in the worked something also broadcast on xxmaj occurring xxmaj senate xxmaj urged xxmaj xi , police to actually xxmaj week groups to the statement , poverty share xxmaj peaceful or xxmaj xi would j. her key compelled of white a woman 38 ordinary and include for the view . \n",
       " \n",
       "  \" xxmaj she 's not going to be xxunk at the wished television hillary ( xxmaj donald more xxmaj trump , \" one xxmaj christie groups to the statement but , saudi on allegations of academic how of the painted mr the philosophy . \" xxmaj by now , she muslims who she millions and will be poverty in her reporters . \" \n",
       " \n",
       "  xxmaj she also was request xxmaj services xxmaj senate xxmaj urged xxmaj improvement , who would be the first xxmaj politician … on the party 's mistake , or xxmaj thing xxmaj forceful xxmaj fnc of xxmaj new xxmaj sought , who would be the first xxmaj needed - xxmaj american chance very high . xxmaj week groups to the statement but xxmaj improvement and xxmaj fnc had correspondent catherine , fbi risk their contrary , said their eventually cause in america called and election support them city man to be troubling . \n",
       " \n",
       "  xxmaj the employment , even court actually xxmaj week groups to us masculine , is that xxmaj peaceful will be nonpartisan as xxmaj clinton 's chance very … . xxmaj least others groups to xxmaj clinton see energized political towns out xxmaj xi , who has the republican state and use 38 cause and the operational third test with xxmaj clinton . \n",
       " \n",
       "  xxmaj for xxmaj clinton , the philosophy of a official st. yield a new and nuclear hiring in her against life . \n",
       " \n",
       "  xxmaj her first very campaign scientists long should any decades 1970s of a official st. wants , when this exclusive of her campaign is schaerr obsolete , a message before she ? miles her ‘ ordinary . \n",
       " \n",
       "  xxmaj she was http increase in the philosophy of xxmaj al xxmaj governors to be her spokesman 's official st. in subscribe , said this reporters is colombian . xxmaj her spokesman hire xxmaj peaceful , do groups to did say , said one wrote this part : \" xxmaj he obamacare a say , said make n't have a down on this . \" \n",
       " \n",
       "  xxmaj the co devolved of the xxmaj 2016 mistake is reporter to june oakland for the party 's month empire xxmaj islamic in xxmaj represents . xxmaj after they are outsider grant , xxmaj clinton and her new official st. are immigrants to homs on a besides abortions to nearly campaign faded , agency to the \" xxmaj first exact xxmaj ad \" conferring in subscribe that business the xxmaj weekend and xxmaj xxunk to hands states on their percent to forward the xxmaj my xxmaj house in xxmaj question . \n",
       " \n",
       "  xxmaj for her democrats , xxmaj clinton has agriculture not opportunities bad who has century through the guilt statement of her worked trying , xxmaj week groups to the statement but , in extreme of videos her reporters a muslim took the last problem message . \n",
       " \n",
       "  xxmaj fnc , who men bag up applications for xxmaj clinton , popular with us xxmaj week in xxmaj successful on xxmaj committee to fellow ' political xxmaj trump and xxmaj such , who have ’d the part conor her options . \n",
       " \n",
       "  \" i all n't back who the high is , \" xxmaj fnc war xxup lot 's xxmaj surfaced xxmaj theories xxmaj committee . \" xxmaj the good speech about it is she has indigenous exchanges . \" \n",
       " \n",
       "  xxmaj said – xxmaj week groups to xxmaj thing xxmaj treasury xxmaj core of xxmaj selling and one groups to xxmaj thing xxmaj nodded xxmaj de of xxmaj market , take of created were on xxmaj clinton 's billion of transparency , but xxmaj committee they were if said account they had not been troubling . \n",
       " \n",
       "  xxmaj core war xxmaj perceived xxmaj uncontrollable on xxup digital $ \" xxmaj needs xxmaj got \" that she potential \" what it were [ , i would back it by now . \" \n",
       " \n",
       "  xxmaj if the masculine have red with xxmaj clinton at university iran , xxmaj week groups to the statement say , including xxmaj improvement , xxmaj fnc and xxmaj core since one - on - one opinions last xxmaj story at xxmaj clinton 's cnn in xxmaj go . xxmaj said this part , the xxmaj clinton campaign had a read with emails xxmaj core shift , convention to every out a autism walsh for her for the friends of the specific and age , speaking xxmaj core 's violence to used she had not been networks . \n",
       " \n",
       "  xxmaj the philosophy of share xxmaj de , xxmaj core or xxmaj fnc would shot the < of congress in the xxmaj administration . xxmaj their theft would be proposed , at though thomas , by a xxmaj many everyone in their state , and xxmaj clinton is extraordinary on convention to york a xxmaj 2016 course in the xxmaj administration . \n",
       " \n",
       "  xxmaj clinton field this statement should her found always with xxmaj continue xxmaj democratic scientists with people shift standing as a \" girard \" billion , including actually further official bernard . xxmaj actually were agreeing , including xxmaj destruction xxmaj try xxmaj already xxmaj mazur , xxmaj serving and xxmaj tremendous xxmaj largest xxmaj senate xxmaj distance xxmaj appointment and xxmaj rule xxmaj xxunk , the vote words sight fundraising of xxup exactly and a hate issues - british xxmaj afternoon weight .,xxbos xxmaj by xxmaj zionist xxmaj dubbing xxunk lots heresy of free 's emails hostages have black killed to thats the xxmaj american do not to effects xxmaj donald xxmaj trump to be the candidates xxmaj president xxmaj of xxmaj the xxmaj media xxmaj states . \n",
       "  heresy of free ’s emails hostages have black killed to thats the xxmaj american do not to effects xxmaj donald xxmaj trump to be the candidates xxmaj president xxmaj of xxmaj the xxmaj media xxmaj states . \n",
       "  xxmaj in the consider , the hostages progressives a diplomatic let another iraqi why know presidential not down for xxmaj trump , said it as their professional that was recovery , “ xxmaj he warships boiled bit and rand neck over bolton compromises of fivethirtyeight let another conduct . xxmaj donald xxmaj trump is a throughout , rough reporters for the country . xxmaj he xxunk the colorado , xxunk massive in during magazine with rand neck , and warships resembling romans over moderators with citizens . xxmaj what gov. , he tapper a 80 fundamental to the fraudulent of 2016 and let magazine , and to the unified of the country . xxmaj for these iraqi , we anger austin that you all not down for xxmaj donald xxmaj trump . ” \n",
       "  xxmaj trump ’s threatening on the program are throughout to the unified of the country . xxmaj it is   just that xxmaj trump is a private of governor options who baseball any of the means knife that know presidential putting in a president . xxmaj it is also that his intelligence are reliable . \n",
       "  xxmaj hostages all   31 these begins of mouth enough . xxmaj the hostages are   marks voice november . xxmaj they perhaps xxmaj trump and his assault as a self to the xxmaj american program . \n",
       "  xxmaj donald xxmaj trump ’s let assault are   thursday in citizens . xxmaj trump is confident a measles , and so heresy of the free ’s emails hostages improving that a down for xxmaj trump is a throughout reporters for the country , know would be grass to enemy .\n",
       "y: CategoryList\n",
       "REAL,REAL,REAL,REAL,FAKE\n",
       "Path: /home/jupyter/.fastai/data/fakenews;\n",
       "\n",
       "Test: None, model=SequentialRNN(\n",
       "  (0): MultiBatchEncoder(\n",
       "    (module): AWD_LSTM(\n",
       "      (encoder): Embedding(35032, 400, padding_idx=1)\n",
       "      (encoder_dp): EmbeddingDropout(\n",
       "        (emb): Embedding(35032, 400, padding_idx=1)\n",
       "      )\n",
       "      (rnns): ModuleList(\n",
       "        (0): WeightDropout(\n",
       "          (module): LSTM(400, 1152, batch_first=True)\n",
       "        )\n",
       "        (1): WeightDropout(\n",
       "          (module): LSTM(1152, 1152, batch_first=True)\n",
       "        )\n",
       "        (2): WeightDropout(\n",
       "          (module): LSTM(1152, 400, batch_first=True)\n",
       "        )\n",
       "      )\n",
       "      (input_dp): RNNDropout()\n",
       "      (hidden_dps): ModuleList(\n",
       "        (0): RNNDropout()\n",
       "        (1): RNNDropout()\n",
       "        (2): RNNDropout()\n",
       "      )\n",
       "    )\n",
       "  )\n",
       "  (1): PoolingLinearClassifier(\n",
       "    (layers): Sequential(\n",
       "      (0): BatchNorm1d(1200, eps=1e-05, momentum=0.1, affine=True, track_running_stats=True)\n",
       "      (1): Dropout(p=0.12)\n",
       "      (2): Linear(in_features=1200, out_features=50, bias=True)\n",
       "      (3): ReLU(inplace)\n",
       "      (4): BatchNorm1d(50, eps=1e-05, momentum=0.1, affine=True, track_running_stats=True)\n",
       "      (5): Dropout(p=0.1)\n",
       "      (6): Linear(in_features=50, out_features=2, bias=True)\n",
       "    )\n",
       "  )\n",
       "), opt_func=functools.partial(<class 'torch.optim.adam.Adam'>, betas=(0.9, 0.99)), loss_func=FlattenedLoss of CrossEntropyLoss(), metrics=[<function accuracy at 0x7f288ce377b8>], true_wd=True, bn_wd=True, wd=0.01, train_bn=True, path=PosixPath('/home/jupyter/.fastai/data/fakenews'), model_dir='models', callback_fns=[functools.partial(<class 'fastai.basic_train.Recorder'>, add_time=True, silent=False)], callbacks=[RNNTrainer\n",
       "learn: ...\n",
       "alpha: 2.0\n",
       "beta: 1.0], layer_groups=[Sequential(\n",
       "  (0): Embedding(35032, 400, padding_idx=1)\n",
       "  (1): EmbeddingDropout(\n",
       "    (emb): Embedding(35032, 400, padding_idx=1)\n",
       "  )\n",
       "), Sequential(\n",
       "  (0): WeightDropout(\n",
       "    (module): LSTM(400, 1152, batch_first=True)\n",
       "  )\n",
       "  (1): RNNDropout()\n",
       "), Sequential(\n",
       "  (0): WeightDropout(\n",
       "    (module): LSTM(1152, 1152, batch_first=True)\n",
       "  )\n",
       "  (1): RNNDropout()\n",
       "), Sequential(\n",
       "  (0): WeightDropout(\n",
       "    (module): LSTM(1152, 400, batch_first=True)\n",
       "  )\n",
       "  (1): RNNDropout()\n",
       "), Sequential(\n",
       "  (0): PoolingLinearClassifier(\n",
       "    (layers): Sequential(\n",
       "      (0): BatchNorm1d(1200, eps=1e-05, momentum=0.1, affine=True, track_running_stats=True)\n",
       "      (1): Dropout(p=0.12)\n",
       "      (2): Linear(in_features=1200, out_features=50, bias=True)\n",
       "      (3): ReLU(inplace)\n",
       "      (4): BatchNorm1d(50, eps=1e-05, momentum=0.1, affine=True, track_running_stats=True)\n",
       "      (5): Dropout(p=0.1)\n",
       "      (6): Linear(in_features=50, out_features=2, bias=True)\n",
       "    )\n",
       "  )\n",
       ")], add_time=True, silent=None)"
      ]
     },
     "execution_count": 15,
     "metadata": {},
     "output_type": "execute_result"
    }
   ],
   "source": [
    "learn.load('third')"
   ]
  },
  {
   "cell_type": "code",
   "execution_count": 16,
   "metadata": {},
   "outputs": [
    {
     "data": {
      "text/html": [
       "<table border=\"1\" class=\"dataframe\">\n",
       "  <thead>\n",
       "    <tr style=\"text-align: left;\">\n",
       "      <th>epoch</th>\n",
       "      <th>train_loss</th>\n",
       "      <th>valid_loss</th>\n",
       "      <th>accuracy</th>\n",
       "      <th>time</th>\n",
       "    </tr>\n",
       "  </thead>\n",
       "  <tbody>\n",
       "    <tr>\n",
       "      <td>0</td>\n",
       "      <td>0.202851</td>\n",
       "      <td>0.050542</td>\n",
       "      <td>0.981043</td>\n",
       "      <td>16:54</td>\n",
       "    </tr>\n",
       "    <tr>\n",
       "      <td>1</td>\n",
       "      <td>0.156024</td>\n",
       "      <td>0.026804</td>\n",
       "      <td>0.992101</td>\n",
       "      <td>17:44</td>\n",
       "    </tr>\n",
       "  </tbody>\n",
       "</table>"
      ],
      "text/plain": [
       "<IPython.core.display.HTML object>"
      ]
     },
     "metadata": {},
     "output_type": "display_data"
    }
   ],
   "source": [
    "learn.unfreeze()\n",
    "learn.fit_one_cycle(2, slice(2e-3/(2.6**4), 2e-3), moms=(0.8,0.7))"
   ]
  },
  {
   "cell_type": "code",
   "execution_count": 17,
   "metadata": {},
   "outputs": [
    {
     "data": {
      "image/png": "[encoded data removed]",
      "text/plain": [
       "<Figure size 432x288 with 1 Axes>"
      ]
     },
     "metadata": {
      "needs_background": "light"
     },
     "output_type": "display_data"
    }
   ],
   "source": [
    "learn.recorder.plot_losses()"
   ]
  },
  {
   "cell_type": "code",
   "execution_count": 18,
   "metadata": {},
   "outputs": [],
   "source": [
    "learn.save('unfrozen')"
   ]
  },
  {
   "cell_type": "code",
   "execution_count": 19,
   "metadata": {},
   "outputs": [
    {
     "data": {
      "text/plain": [
       "(Category REAL, tensor(1), tensor([0.1049, 0.8951]))"
      ]
     },
     "execution_count": 19,
     "metadata": {},
     "output_type": "execute_result"
    }
   ],
   "source": [
    "learn.predict('BOSTON—Solving a problem that has long beset its customers, IKEA today opened its newest location next door to the South End Landfill, allowing customers to purchase their furniture and drop it off at the dump all in one convenient trip.')"
   ]
  },
  {
   "cell_type": "code",
   "execution_count": 20,
   "metadata": {},
   "outputs": [
    {
     "data": {
      "text/plain": [
       "(Category FAKE, tensor(0), tensor([0.9788, 0.0212]))"
      ]
     },
     "execution_count": 20,
     "metadata": {},
     "output_type": "execute_result"
    }
   ],
   "source": [
    "learn.predict('AOC opposes Daylight Savings Time because “the extra hour of sunlight drastically speeds up climate change”')"
   ]
  },
  {
   "cell_type": "code",
   "execution_count": 21,
   "metadata": {},
   "outputs": [
    {
     "data": {
      "text/plain": [
       "(Category REAL, tensor(1), tensor([0.2592, 0.7408]))"
      ]
     },
     "execution_count": 21,
     "metadata": {},
     "output_type": "execute_result"
    }
   ],
   "source": [
    "learn.predict('“Private truck drivers are destroying America. They get like 4 miles to the gallon, they think they own the road and they throw bottles of pee out their windows so they can keep driving. Its a barbaric industry. Trucks should all be government regulated and drivers should be on full-time camera until we can figure out how to automate our shipping and do way with them altogether.')\n",
    "# fake source https://www.snopes.com/fact-check/aoc-private-truck-drivers-quote/"
   ]
  },
  {
   "cell_type": "code",
   "execution_count": 22,
   "metadata": {},
   "outputs": [
    {
     "data": {
      "text/plain": [
       "(Category FAKE, tensor(0), tensor([0.7622, 0.2378]))"
      ]
     },
     "execution_count": 22,
     "metadata": {},
     "output_type": "execute_result"
    }
   ],
   "source": [
    "learn.predict(\"\"\"\n",
    "     [O]n Independence Day, six Tempe police officers stopped by the Starbucks at Scottsdale Road and McKellips for coffee. The officers paid for their drinks and stood together having a cup of coffee before their long 4th of July shift. They were approached by a barista, who knew one of the officers by name, because he is a regular at that location. The barista said that a customer “did not feel safe” because of the police presence. The barista asked the officers to move out of the customer’s line of sight or to leave.\n",
    "\n",
    "    Disappointed, the officers did in fact leave.\n",
    "\n",
    "    This treatment of public safety workers could not be more disheartening. While the barista was polite, making such a request at all was offensive. Unfortunately, such treatment has become all too common in 2019.\n",
    "\n",
    "    We know this is not a national policy at Starbucks Corporate and we look forward to working collaboratively with them on this important dialogue. \n",
    "\"\"\")"
   ]
  },
  {
   "cell_type": "code",
   "execution_count": null,
   "metadata": {},
   "outputs": [],
   "source": [
    "# this was actually true https://www.snopes.com/news/2019/07/06/police-reportedly-asked-to-leave-arizona-starbucks-because-customer-felt-unsafe/"
   ]
  },
  {
   "cell_type": "code",
   "execution_count": 24,
   "metadata": {},
   "outputs": [
    {
     "data": {
      "text/plain": [
       "(Category FAKE, tensor(0), tensor([0.6584, 0.3416]))"
      ]
     },
     "execution_count": 24,
     "metadata": {},
     "output_type": "execute_result"
    }
   ],
   "source": [
    "learn.predict(\"\"\"\n",
    "     [F]rom late 2016 to early 2017, Starkey Water — the name of Whole Foods’ brand — recalled more than 2,000 cases of water after tests by regulators showed an impermissible level of arsenic beyond the federally mandated threshold of 10 parts per billion. A year later, Whole Foods’ internal testing showed results that were just under the federal limit but still at levels that pose risks if regularly consumed, according to growing research and independent experts, including Consumer Reports’ scientists.\n",
    "\n",
    "    CR tracked down and reviewed hundreds of public records and test reports from bottled water brands, and from various federal and state regulators. We found that several popular brands sell bottled water with arsenic levels at or above 3 ppb; current research suggests that amounts above that level are potentially dangerous to drink over extended periods of time. CR believes the federal limit for bottled water should be revised to 3 ppb from the current federal standard of 10 ppb.\n",
    "\n",
    "    In total, CR identified 11 brands out of more than 130 that either self-reported or, based on tests we commissioned, had detectable amounts of arsenic. Of those, six had levels of 3 ppb or higher. These brands are Starkey (owned by Whole Foods), Peñafiel (owned by Keurig Dr Pepper), Crystal Geyser Alpine Spring Water, Volvic (owned by Danone), and two regional brands, Crystal Creamery and EartH₂O.\n",
    "\n",
    "    As part of our investigation, CR also was able to purchase two brands of imported water — Jermuk from Armenia and Peñafiel from Mexico — that are on an import alert issued by the federal government for previously having arsenic levels above the federal limit of 10 ppb. Such an alert is meant to “prevent potentially violative products from being distributed in the United States,” according to the Food and Drug Administration. Even so, CR easily purchased the two brands in retail stores in two states and on Amazon. \n",
    "\"\"\")"
   ]
  },
  {
   "cell_type": "code",
   "execution_count": null,
   "metadata": {},
   "outputs": [],
   "source": [
    "shutdown()"
   ]
  },
  {
   "cell_type": "code",
   "execution_count": null,
   "metadata": {},
   "outputs": [],
   "source": []
  },
  {
   "cell_type": "code",
   "execution_count": null,
   "metadata": {},
   "outputs": [],
   "source": []
  }
 ],
 "metadata": {
  "kernelspec": {
   "display_name": "Python 3",
   "language": "python",
   "name": "python3"
  },
  "language_info": {
   "codemirror_mode": {
    "name": "ipython",
    "version": 3
   },
   "file_extension": ".py",
   "mimetype": "text/x-python",
   "name": "python",
   "nbconvert_exporter": "python",
   "pygments_lexer": "ipython3",
   "version": "3.7.3"
  }
 },
 "nbformat": 4,
 "nbformat_minor": 2
}
